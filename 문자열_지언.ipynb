{
  "nbformat": 4,
  "nbformat_minor": 0,
  "metadata": {
    "colab": {
      "name": "baekjoon_문자열.ipynb",
      "provenance": [],
      "authorship_tag": "ABX9TyN8IGW5SFXtnNkS1pYlcsia",
      "include_colab_link": true
    },
    "kernelspec": {
      "name": "python3",
      "display_name": "Python 3"
    },
    "language_info": {
      "name": "python"
    }
  },
  "cells": [
    {
      "cell_type": "markdown",
      "metadata": {
        "id": "view-in-github",
        "colab_type": "text"
      },
      "source": [
        "<a href=\"https://colab.research.google.com/github/easyearn77/Algorithm_baekjoon/blob/main/%EB%AC%B8%EC%9E%90%EC%97%B4_%EC%A7%80%EC%96%B8.ipynb\" target=\"_parent\"><img src=\"https://colab.research.google.com/assets/colab-badge.svg\" alt=\"Open In Colab\"/></a>"
      ]
    },
    {
      "cell_type": "markdown",
      "metadata": {
        "id": "Vp5ZAslni6v4"
      },
      "source": [
        "문자열 링크: https://www.acmicpc.net/step/7"
      ]
    },
    {
      "cell_type": "code",
      "metadata": {
        "colab": {
          "base_uri": "https://localhost:8080/"
        },
        "id": "iw-VeifPi4wt",
        "outputId": "7304c21d-c618-4eee-b876-91edebeb340e"
      },
      "source": [
        "#1\n",
        "c=input()\n",
        "print(ord(c))"
      ],
      "execution_count": null,
      "outputs": [
        {
          "output_type": "stream",
          "text": [
            "A\n",
            "65\n"
          ],
          "name": "stdout"
        }
      ]
    },
    {
      "cell_type": "code",
      "metadata": {
        "id": "h7rGNFQBjV9p",
        "colab": {
          "base_uri": "https://localhost:8080/"
        },
        "outputId": "21c54230-b96e-40f6-e697-82628519f1a7"
      },
      "source": [
        "#2\n",
        "n=int(input())\n",
        "s=input()\n",
        "hap=0\n",
        "for j in range(0,10):\n",
        "  k=s.count(str(j))\n",
        "  hap+=k*j\n",
        "print(hap)\n",
        "\n"
      ],
      "execution_count": 9,
      "outputs": [
        {
          "output_type": "stream",
          "text": [
            "11\n",
            "10987654321\n",
            "46\n"
          ],
          "name": "stdout"
        }
      ]
    },
    {
      "cell_type": "code",
      "metadata": {
        "id": "hAF9dyXvl6nF"
      },
      "source": [
        "#3 (find() != index())\n",
        "s=input()\n",
        "a=list(range(ord('a'),ord('z')+1))\n",
        "\n",
        "for i in a:\n",
        "  print(s.find(chr(i)),end=' ')"
      ],
      "execution_count": null,
      "outputs": []
    },
    {
      "cell_type": "code",
      "metadata": {
        "id": "BOe18bUEpvaL"
      },
      "source": [
        "#4\n",
        "t=int(input())\n",
        "for i in range(t):\n",
        "  a=\"\"\n",
        "  r,s=input().split()\n",
        "  for j in s:\n",
        "    a+=j*int(r)\n",
        "  print(a)\n"
      ],
      "execution_count": null,
      "outputs": []
    },
    {
      "cell_type": "code",
      "metadata": {
        "colab": {
          "base_uri": "https://localhost:8080/"
        },
        "id": "zZthnzIKsiIC",
        "outputId": "a6b42927-95e6-4e52-dffd-701de10358ef"
      },
      "source": [
        "#5 (upper,set함수)\n",
        "s=input().upper()\n",
        "c=list(set(s))\n",
        "cnt_l=[]\n",
        "for i in c:\n",
        "  cnt=s.count(i)\n",
        "  cnt_l.append(cnt)\n",
        "if cnt_l.count(max(cnt_l))>1:\n",
        "  print(\"?\")\n",
        "else:\n",
        "  res_i=cnt_l.index(max(cnt_l))\n",
        "  print(c[res_i])\n",
        "\n",
        "\n"
      ],
      "execution_count": 27,
      "outputs": [
        {
          "output_type": "stream",
          "text": [
            "baaa\n",
            "A\n"
          ],
          "name": "stdout"
        }
      ]
    },
    {
      "cell_type": "code",
      "metadata": {
        "colab": {
          "base_uri": "https://localhost:8080/"
        },
        "id": "kejty90DpUGq",
        "outputId": "a1eae6f3-607e-4a6b-eba5-a6c905151f1c"
      },
      "source": [
        "#6\n",
        "a=[]\n",
        "s=input()\n",
        "a=s.split()\n",
        "print(len(a))"
      ],
      "execution_count": 31,
      "outputs": [
        {
          "output_type": "stream",
          "text": [
            "The Curious Case of Benjamin Button\n",
            "6\n"
          ],
          "name": "stdout"
        }
      ]
    },
    {
      "cell_type": "code",
      "metadata": {
        "colab": {
          "base_uri": "https://localhost:8080/"
        },
        "id": "CY4IqJseydTJ",
        "outputId": "02eb1934-289a-4a27-a200-fd08f5acd4bc"
      },
      "source": [
        "#7 [::-1] : 역순\n",
        "a,b=input().split()\n",
        "a=int(a[::-1])\n",
        "b=int(b[::-1])\n",
        "print(a) if a>b else print(b)"
      ],
      "execution_count": 35,
      "outputs": [
        {
          "output_type": "stream",
          "text": [
            "734 893\n",
            "437\n"
          ],
          "name": "stdout"
        }
      ]
    },
    {
      "cell_type": "code",
      "metadata": {
        "colab": {
          "base_uri": "https://localhost:8080/"
        },
        "id": "qNoc6sEy0yPd",
        "outputId": "a73e62f0-9449-45ab-8892-1184ffd5631f"
      },
      "source": [
        "#8\n",
        "dial=['ABC','DEF','GHI','JKL', 'MNO', 'PQRS', 'TUV', 'WXYZ']\n",
        "s=input()\n",
        "time=0\n",
        "for c in s:\n",
        "  for i in dial:\n",
        "    if c in i:\n",
        "      time+=dial.index(i)+3\n",
        "print(time)\n",
        "\n"
      ],
      "execution_count": 38,
      "outputs": [
        {
          "output_type": "stream",
          "text": [
            "UNUCIC\n",
            "36\n"
          ],
          "name": "stdout"
        }
      ]
    },
    {
      "cell_type": "code",
      "metadata": {
        "colab": {
          "base_uri": "https://localhost:8080/"
        },
        "id": "OtFZOO0S3hu-",
        "outputId": "f6627ca8-81cb-46ae-f1d1-51a8c2277139"
      },
      "source": [
        "#9 replace()\n",
        "ct=['c=','c-','dz=','d-','lj','nj','s=','z=']\n",
        "s=input()\n",
        "cnt=0\n",
        "for i in ct:\n",
        "  s=s.replace(i,'a')\n",
        "print(len(s))"
      ],
      "execution_count": 49,
      "outputs": [
        {
          "output_type": "stream",
          "text": [
            "ddz=z=\n",
            "3\n"
          ],
          "name": "stdout"
        }
      ]
    },
    {
      "cell_type": "code",
      "metadata": {
        "id": "BuSAYj-K-YLL"
      },
      "source": [
        "#10\n",
        "n=int(input())\n",
        "cnt=0\n",
        "for i in range(n):\n",
        "  s=input()\n",
        "  for j in range(len(s)):\n",
        "    if j!=len(s)-1:\n",
        "      if s[j]==s[j+1]:\n",
        "        pass\n",
        "      elif s[j] in s[j+1:]:\n",
        "        break\n",
        "    else:\n",
        "      cnt+=1\n",
        "print(cnt)"
      ],
      "execution_count": null,
      "outputs": []
    }
  ]
}