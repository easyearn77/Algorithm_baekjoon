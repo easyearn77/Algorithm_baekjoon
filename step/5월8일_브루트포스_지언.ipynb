{
  "nbformat": 4,
  "nbformat_minor": 0,
  "metadata": {
    "colab": {
      "name": "baekjoon_브루트포스.ipynb",
      "provenance": [],
      "authorship_tag": "ABX9TyNSZeevnke5o4MHqjlJVS4b",
      "include_colab_link": true
    },
    "kernelspec": {
      "name": "python3",
      "display_name": "Python 3"
    },
    "language_info": {
      "name": "python"
    }
  },
  "cells": [
    {
      "cell_type": "markdown",
      "metadata": {
        "id": "view-in-github",
        "colab_type": "text"
      },
      "source": [
        "<a href=\"https://colab.research.google.com/github/easyearn77/Algorithm_baekjoon/blob/main/step/5%EC%9B%948%EC%9D%BC_%EB%B8%8C%EB%A3%A8%ED%8A%B8%ED%8F%AC%EC%8A%A4_%EC%A7%80%EC%96%B8.ipynb\" target=\"_parent\"><img src=\"https://colab.research.google.com/assets/colab-badge.svg\" alt=\"Open In Colab\"/></a>"
      ]
    },
    {
      "cell_type": "markdown",
      "metadata": {
        "id": "Xj4jWmtGKsDI"
      },
      "source": [
        "브루트 포스 링크: https://www.acmicpc.net/step/22"
      ]
    },
    {
      "cell_type": "code",
      "metadata": {
        "colab": {
          "base_uri": "https://localhost:8080/"
        },
        "id": "UPUeTrsbKsW8",
        "outputId": "2e4699a2-ec4e-4340-cbf4-bce032dc454d"
      },
      "source": [
        "#1\n",
        "n,m=map(int,input().split())\n",
        "arr=list(map(int,input().split()))\n",
        "max=0\n",
        "for i in range(n):\n",
        "  for j in range(i+1,n):\n",
        "    for k in range(j+1,n):\n",
        "      hap=arr[i]+arr[j]+arr[k]\n",
        "      if hap>=max and hap<=m:\n",
        "        max=hap\n",
        "print(max)"
      ],
      "execution_count": 4,
      "outputs": [
        {
          "output_type": "stream",
          "text": [
            "10 500\n",
            "93 181 245 214 315 36 185 138 216 295\n",
            "497\n"
          ],
          "name": "stdout"
        }
      ]
    },
    {
      "cell_type": "code",
      "metadata": {
        "colab": {
          "base_uri": "https://localhost:8080/"
        },
        "id": "DFks71q1KrQU",
        "outputId": "c3204c6c-e33d-46f0-eb05-60080e73406b"
      },
      "source": [
        "#2 무식한 문제 퉤!\n",
        "n=int(input())\n",
        "res=0\n",
        "for i in range(1,n+1):\n",
        "  div=list(map(int,str(i)))\n",
        "  if i+sum(div)==n:\n",
        "    res=i\n",
        "    break\n",
        "print(res)"
      ],
      "execution_count": 7,
      "outputs": [
        {
          "output_type": "stream",
          "text": [
            "216\n",
            "198\n"
          ],
          "name": "stdout"
        }
      ]
    },
    {
      "cell_type": "code",
      "metadata": {
        "colab": {
          "base_uri": "https://localhost:8080/"
        },
        "id": "b5fM1SFcTO_z",
        "outputId": "0ac5b5e0-1ee0-49fd-fdf3-a7f7d92d196f"
      },
      "source": [
        "#3\n",
        "n=int(input())\n",
        "arr=[]\n",
        "rank=[]\n",
        "for i in range(n):\n",
        "  x,y=map(int,input().split())\n",
        "  arr.append([x,y])\n",
        "\n",
        "for i in range(n):\n",
        "  i_rank=1\n",
        "  for j in range(n):\n",
        "    if arr[i][0]<arr[j][0] and arr[i][1]<arr[j][1]:\n",
        "      i_rank+=1\n",
        "  rank.append(i_rank)\n",
        "\n",
        "for i in rank:\n",
        "  print(i,end=' ')"
      ],
      "execution_count": 12,
      "outputs": [
        {
          "output_type": "stream",
          "text": [
            "5\n",
            "55 185\n",
            "58 183\n",
            "88 186\n",
            "60 175\n",
            "46 155\n",
            "2 2 1 2 5 "
          ],
          "name": "stdout"
        }
      ]
    },
    {
      "cell_type": "code",
      "metadata": {
        "id": "Gahp9XdGb0Fn"
      },
      "source": [
        "#4 이것도 어려움, 퉤\n",
        "n,m=map(int,input().split())\n",
        "ori_board=[]\n",
        "mini=[]\n",
        "\n",
        "for i in range(n):\n",
        "  ori_board.append(input())\n",
        "\n",
        "for i in range(n-7):\n",
        "  for j in range(m-7):\n",
        "    w=0\n",
        "    b=0\n",
        "    for k in range(i,i+8):\n",
        "      for t in range(j,j+8):\n",
        "        if (k+t)%2==0:\n",
        "          if ori_board[k][t]!='W':\n",
        "            w+=1\n",
        "          if ori_board[k][t]!='B':\n",
        "            b+=1\n",
        "        else:\n",
        "          if ori_board[k][t]!='B':\n",
        "            w+=1\n",
        "          if ori_board[k][t]!='W':\n",
        "            b+=1\n",
        "    mini.append(w)\n",
        "    mini.append(b)\n",
        "\n",
        "print(min(mini))"
      ],
      "execution_count": null,
      "outputs": []
    },
    {
      "cell_type": "code",
      "metadata": {
        "colab": {
          "base_uri": "https://localhost:8080/"
        },
        "id": "sDNzfwvKrWMg",
        "outputId": "7815ac80-092b-4cec-e389-bafa1ca7a96d"
      },
      "source": [
        "#5 브루트포스는 모든 경우를 비교해야해서 뭔가 어색하다.\n",
        "n=int(input())\n",
        "con=666\n",
        "cnt=0\n",
        "while True:\n",
        "  if '666' in str(con):\n",
        "    cnt+=1\n",
        "  if cnt==n:\n",
        "    print(con)\n",
        "    break\n",
        "  con+=1"
      ],
      "execution_count": 20,
      "outputs": [
        {
          "output_type": "stream",
          "text": [
            "18\n",
            "8666\n"
          ],
          "name": "stdout"
        }
      ]
    }
  ]
}