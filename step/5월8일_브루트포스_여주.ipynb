{
  "nbformat": 4,
  "nbformat_minor": 0,
  "metadata": {
    "colab": {
      "name": "5월8일_브루트포스_여주.ipynb",
      "provenance": [],
      "collapsed_sections": [],
      "authorship_tag": "ABX9TyNIhqAgEHLXAIUlkJsVlXjR"
    },
    "kernelspec": {
      "name": "python3",
      "display_name": "Python 3"
    },
    "language_info": {
      "name": "python"
    }
  },
  "cells": [
    {
      "cell_type": "code",
      "metadata": {
        "colab": {
          "base_uri": "https://localhost:8080/"
        },
        "id": "73zJ2iWfO-KL",
        "outputId": "a06d3c15-4fc1-43d0-c74e-f4de3e92f416"
      },
      "source": [
        "#1\n",
        "n, m = map(int, input().split())\n",
        "card = list(map(int, input().split()))\n",
        "l = len(card)\n",
        "for i in range(0, l-2):\n",
        "  for j in range(i+1, l-1):\n",
        "    for k in range(j+1, l):\n",
        "      if card[i] + card[j] + card[k] > m:\n",
        "        continue\n",
        "      else:\n",
        "        sum = max(sum, card[i] + card[j] + card[k])\n",
        "\n",
        "print(sum)"
      ],
      "execution_count": null,
      "outputs": [
        {
          "output_type": "stream",
          "text": [
            "10 500\n",
            "93 181 245 214 315 36 185 138 216 295\n",
            "497\n"
          ],
          "name": "stdout"
        }
      ]
    },
    {
      "cell_type": "code",
      "metadata": {
        "id": "Yft6K-JyTvan",
        "colab": {
          "base_uri": "https://localhost:8080/"
        },
        "outputId": "33f97164-58cd-4892-9b31-887c760db37c"
      },
      "source": [
        "#2\n",
        "n = int(input())\n",
        "sengsung = 0\n",
        "for i in range(n):\n",
        "  digit = list(map(int, str(i)))\n",
        "  sum_digit = i + sum(digit)\n",
        "  if sum_digit == n:\n",
        "    sengsung = i\n",
        "    break\n",
        "\n",
        "print(sengsung)"
      ],
      "execution_count": 1,
      "outputs": [
        {
          "output_type": "stream",
          "text": [
            "216\n",
            "198\n"
          ],
          "name": "stdout"
        }
      ]
    },
    {
      "cell_type": "code",
      "metadata": {
        "colab": {
          "base_uri": "https://localhost:8080/"
        },
        "id": "aNRyvjuJ4BvT",
        "outputId": "2eedb08d-d6b4-4202-d2b4-177a26be055a"
      },
      "source": [
        "#3\n",
        "n = int(input())\n",
        "dungchi = []\n",
        "\n",
        "for i in range(n):\n",
        "  x, y = map(int, input().split())\n",
        "  dungchi.append((x, y))\n",
        "\n",
        "for j in dungchi:\n",
        "  rank = 1\n",
        "  for k in dungchi:\n",
        "    if j[0] < k[0] and j[1] < k[1]:\n",
        "      rank += 1\n",
        "    \n",
        "  print(rank, end = ' ')"
      ],
      "execution_count": 3,
      "outputs": [
        {
          "output_type": "stream",
          "text": [
            "5\n",
            "55 185\n",
            "58 183\n",
            "88 186\n",
            "60 175\n",
            "46 155\n",
            "2 2 1 2 5 "
          ],
          "name": "stdout"
        }
      ]
    },
    {
      "cell_type": "code",
      "metadata": {
        "colab": {
          "base_uri": "https://localhost:8080/"
        },
        "id": "kZNX7cWk7QLD",
        "outputId": "a50155e0-0f41-4c1e-b7db-1939d3b0b6d6"
      },
      "source": [
        "#4\n",
        "n, m = map(int, input().split())\n",
        "chess = []\n",
        "answer = []\n",
        "for i in range(n):\n",
        "  chess.append(input())\n",
        "\n",
        "for j in range(n-7):\n",
        "  for k in range(m-7):\n",
        "    idx1 = 0\n",
        "    idx2 = 0\n",
        "    for x in range(j, j+8):\n",
        "      for y in range(k, k+8):\n",
        "        if (y+x)%2 == 0:\n",
        "          if chess[x][y] != 'W':\n",
        "            idx1 += 1\n",
        "          if chess[x][y] != 'B':\n",
        "            idx2 += 1\n",
        "        else:\n",
        "          if chess[x][y] != 'B':\n",
        "            idx1 += 1\n",
        "          if chess[x][y] != 'W':\n",
        "            idx2 += 1\n",
        "    answer.append(idx1)\n",
        "    answer.append(idx2)\n",
        "\n",
        "print(min(answer))"
      ],
      "execution_count": 6,
      "outputs": [
        {
          "output_type": "stream",
          "text": [
            "10 13\n",
            "BBBBBBBBWBWBW\n",
            "BBBBBBBBBWBWB\n",
            "BBBBBBBBWBWBW\n",
            "BBBBBBBBBWBWB\n",
            "BBBBBBBBWBWBW\n",
            "BBBBBBBBBWBWB\n",
            "BBBBBBBBWBWBW\n",
            "BBBBBBBBBWBWB\n",
            "WWWWWWWWWWBWB\n",
            "WWWWWWWWWWBWB\n",
            "12\n"
          ],
          "name": "stdout"
        }
      ]
    },
    {
      "cell_type": "code",
      "metadata": {
        "colab": {
          "base_uri": "https://localhost:8080/"
        },
        "id": "UK9xuesMFRpr",
        "outputId": "c0c623da-f9d9-4111-b97e-5476ddce02bf"
      },
      "source": [
        "#5\n",
        "n = int(input())\n",
        "count = 0\n",
        "triple_six = 666\n",
        "while 1:\n",
        "  if '666' in str(triple_six):\n",
        "    count += 1\n",
        "  if count == n:\n",
        "    print(triple_six)\n",
        "    break\n",
        "  triple_six += 1"
      ],
      "execution_count": 8,
      "outputs": [
        {
          "output_type": "stream",
          "text": [
            "10\n",
            "6663\n"
          ],
          "name": "stdout"
        }
      ]
    }
  ]
}