{
  "nbformat": 4,
  "nbformat_minor": 0,
  "metadata": {
    "colab": {
      "name": "6월6일_스택(1)_여주.ipynb",
      "provenance": [],
      "authorship_tag": "ABX9TyPFNeYtLviL3eAl3Xmrv1n6"
    },
    "kernelspec": {
      "name": "python3",
      "display_name": "Python 3"
    },
    "language_info": {
      "name": "python"
    }
  },
  "cells": [
    {
      "cell_type": "code",
      "metadata": {
        "colab": {
          "base_uri": "https://localhost:8080/"
        },
        "id": "y4DeXhZC7-X8",
        "outputId": "6b455706-7895-4d12-85c4-abc246f06463"
      },
      "source": [
        "#1\n",
        "def push(x):\n",
        "  stack.append(x)\n",
        "\n",
        "def pop():\n",
        "  if(not stack):\n",
        "    return -1\n",
        "  else:\n",
        "    return stack.pop()\n",
        "\n",
        "def size():\n",
        "  return len(stack)\n",
        "\n",
        "def empty():\n",
        "  return 0 if stack else 1\n",
        "\n",
        "def top():\n",
        "  return stack[-1] if stack else -1\n",
        "\n",
        "n = int(input().rstrip())\n",
        "stack = []\n",
        "\n",
        "for _ in range(n):\n",
        "  input_split = input().rstrip().split()\n",
        "\n",
        "  order = input_split[0]\n",
        "\n",
        "  if order == \"push\":\n",
        "    push(input_split[1])\n",
        "  elif order == \"pop\":\n",
        "    print(pop())\n",
        "  elif order == \"size\":\n",
        "    print(size())\n",
        "  elif order == \"empty\":\n",
        "    print(empty())\n",
        "  elif order == \"top\":\n",
        "    print(top())"
      ],
      "execution_count": 4,
      "outputs": [
        {
          "output_type": "stream",
          "text": [
            "14\n",
            "push 1\n",
            "push 2\n",
            "top\n",
            "2\n",
            "size\n",
            "2\n",
            "empty\n",
            "0\n",
            "pop\n",
            "2\n",
            "pop\n",
            "1\n",
            "pop\n",
            "-1\n",
            "size\n",
            "0\n",
            "empty\n",
            "1\n",
            "pop\n",
            "-1\n",
            "push 3\n",
            "empty\n",
            "0\n",
            "top\n",
            "3\n"
          ],
          "name": "stdout"
        }
      ]
    }
  ]
}