{
  "nbformat": 4,
  "nbformat_minor": 0,
  "metadata": {
    "colab": {
      "name": "baekjoon_정수론및조합론단계-2.ipynb",
      "provenance": [],
      "collapsed_sections": [],
      "authorship_tag": "ABX9TyMeGjra1LDI+rIzCuein7fX",
      "include_colab_link": true
    },
    "kernelspec": {
      "name": "python3",
      "display_name": "Python 3"
    },
    "language_info": {
      "name": "python"
    }
  },
  "cells": [
    {
      "cell_type": "markdown",
      "metadata": {
        "id": "view-in-github",
        "colab_type": "text"
      },
      "source": [
        "<a href=\"https://colab.research.google.com/github/easyearn77/Algorithm_baekjoon/blob/main/step/5%EC%9B%9428%EC%9D%BC_%EC%A0%95%EC%88%98%EB%A1%A0%EB%B0%8F%EC%A1%B0%ED%95%A9%EB%A1%A0%EB%8B%A8%EA%B3%84(2)_%EC%A7%80%EC%96%B8.ipynb\" target=\"_parent\"><img src=\"https://colab.research.google.com/assets/colab-badge.svg\" alt=\"Open In Colab\"/></a>"
      ]
    },
    {
      "cell_type": "markdown",
      "metadata": {
        "id": "hA8dD5OY2bFI"
      },
      "source": [
        "정수론 및 조합론 링크: https://www.acmicpc.net/step/18"
      ]
    },
    {
      "cell_type": "code",
      "metadata": {
        "id": "6CY91QCQ2Xfi"
      },
      "source": [
        "#4\n",
        "def gcd(a,b):\n",
        "  return gcd(b%a,a) if b%a else a\n",
        "def lcm(a,b):\n",
        "  d=gcd(a,b)\n",
        "  return a*b//d\n",
        "\n",
        "n= int(input())\n",
        "for _ in range(n):\n",
        "  a,b=map(int,input().split())\n",
        "  print(lcm(a,b))"
      ],
      "execution_count": null,
      "outputs": []
    },
    {
      "cell_type": "markdown",
      "metadata": {
        "id": "KHsYVJZHNzBQ"
      },
      "source": [
        "#4번 리뷰\n",
        "음... 처음에 for문을 사용하여 최대공약수를 구해서 최소공배수를 구했다. 그런데 시간초과가 떠서 찾아봤더니, 재귀함수로 최대공약수를 찾았다. 이 방법은 for문에 비해, 효과적인 방법같다. 좀 더 연습을 해야 할 것 같다."
      ]
    }
  ]
}