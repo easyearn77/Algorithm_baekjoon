{
  "nbformat": 4,
  "nbformat_minor": 0,
  "metadata": {
    "colab": {
      "name": "beakjoon_정수론및조합론-5.ipynb",
      "provenance": [],
      "authorship_tag": "ABX9TyP3/qzN8NKtHUloQTPUrkML",
      "include_colab_link": true
    },
    "kernelspec": {
      "name": "python3",
      "display_name": "Python 3"
    },
    "language_info": {
      "name": "python"
    }
  },
  "cells": [
    {
      "cell_type": "markdown",
      "metadata": {
        "id": "view-in-github",
        "colab_type": "text"
      },
      "source": [
        "<a href=\"https://colab.research.google.com/github/easyearn77/Algorithm_baekjoon/blob/main/step/5%EC%9B%9431%EC%9D%BC_%EC%A0%95%EC%88%98%EB%A1%A0%EB%B0%8F%EC%A1%B0%ED%95%A9%EB%A1%A0(5)_%EC%A7%80%EC%96%B8.ipynb\" target=\"_parent\"><img src=\"https://colab.research.google.com/assets/colab-badge.svg\" alt=\"Open In Colab\"/></a>"
      ]
    },
    {
      "cell_type": "markdown",
      "metadata": {
        "id": "8O8GEOipprrH"
      },
      "source": [
        "정수론 및 조합론 링크: https://www.acmicpc.net/step/18"
      ]
    },
    {
      "cell_type": "code",
      "metadata": {
        "colab": {
          "base_uri": "https://localhost:8080/"
        },
        "id": "_7l1YqXvpkBT",
        "outputId": "5baf772f-6cf4-40f0-c75d-b85b4d44cdd6"
      },
      "source": [
        "#7\n",
        "def factorial(n):\n",
        "  ans=1\n",
        "  for i in range(n,0,-1):\n",
        "    ans*=i\n",
        "  return ans\n",
        "\n",
        "n,k=map(int,input().split())\n",
        "print(factorial(n) // factorial(k) // factorial(n-k))"
      ],
      "execution_count": 6,
      "outputs": [
        {
          "output_type": "stream",
          "text": [
            "5 2\n",
            "10\n"
          ],
          "name": "stdout"
        }
      ]
    }
  ]
}