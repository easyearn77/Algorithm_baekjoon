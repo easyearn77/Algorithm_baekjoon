{
  "nbformat": 4,
  "nbformat_minor": 0,
  "metadata": {
    "colab": {
      "name": "baekjoon_정수론및조합론-7.ipynb",
      "provenance": [],
      "authorship_tag": "ABX9TyNClR7MjkFjx4EDD7R4eVYV",
      "include_colab_link": true
    },
    "kernelspec": {
      "name": "python3",
      "display_name": "Python 3"
    },
    "language_info": {
      "name": "python"
    }
  },
  "cells": [
    {
      "cell_type": "markdown",
      "metadata": {
        "id": "view-in-github",
        "colab_type": "text"
      },
      "source": [
        "<a href=\"https://colab.research.google.com/github/easyearn77/Algorithm_baekjoon/blob/main/step/6%EC%9B%942%EC%9D%BC_%EC%A0%95%EC%88%98%EB%A1%A0%EB%B0%8F%EC%A1%B0%ED%95%A9%EB%A1%A0(7)_%EC%A7%80%EC%96%B8.ipynb\" target=\"_parent\"><img src=\"https://colab.research.google.com/assets/colab-badge.svg\" alt=\"Open In Colab\"/></a>"
      ]
    },
    {
      "cell_type": "markdown",
      "metadata": {
        "id": "loj-ZQxs6q5Q"
      },
      "source": [
        "정수론 및 조합론 링크: https://www.acmicpc.net/step/18"
      ]
    },
    {
      "cell_type": "code",
      "metadata": {
        "colab": {
          "base_uri": "https://localhost:8080/"
        },
        "id": "AjiHdDGI6IQY",
        "outputId": "89ba5927-5a58-40ce-eae0-578b3d978aee"
      },
      "source": [
        "#9\n",
        "def factorial(n):\n",
        "  ans=1\n",
        "  for i in range(2,n+1):\n",
        "    ans*=i\n",
        "  return ans\n",
        "\n",
        "t= int(input())\n",
        "for _ in range(t):\n",
        "  n,m=map(int,input().split())\n",
        "  print(factorial(m)//factorial(m-n)//factorial(n))"
      ],
      "execution_count": 1,
      "outputs": [
        {
          "output_type": "stream",
          "text": [
            "3\n",
            "2 2\n",
            "1\n",
            "1 5\n",
            "5\n",
            "13 29\n",
            "67863915\n"
          ],
          "name": "stdout"
        }
      ]
    }
  ]
}