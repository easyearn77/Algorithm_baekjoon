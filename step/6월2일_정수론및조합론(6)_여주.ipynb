{
  "nbformat": 4,
  "nbformat_minor": 0,
  "metadata": {
    "colab": {
      "name": "6월2일_정수론및조합론(6)_여주.ipynb",
      "provenance": [],
      "authorship_tag": "ABX9TyMlggDQYZA8qqFeputtQ8wg"
    },
    "kernelspec": {
      "name": "python3",
      "display_name": "Python 3"
    },
    "language_info": {
      "name": "python"
    }
  },
  "cells": [
    {
      "cell_type": "code",
      "metadata": {
        "colab": {
          "base_uri": "https://localhost:8080/"
        },
        "id": "EtQh5GlBNPiw",
        "outputId": "1a62bfe7-eb5a-49ea-eb08-fb978145ab0c"
      },
      "source": [
        "#9\n",
        "from math import factorial\n",
        "\n",
        "n = int(input())\n",
        "for _ in range(n):\n",
        "  n, m = map(int, input().split())\n",
        "  print(factorial(m)//(factorial(n)*factorial(m-n)))"
      ],
      "execution_count": 2,
      "outputs": [
        {
          "output_type": "stream",
          "text": [
            "3\n",
            "2 2\n",
            "1\n",
            "1 5\n",
            "5\n",
            "13 29\n",
            "67863915\n"
          ],
          "name": "stdout"
        }
      ]
    }
  ]
}