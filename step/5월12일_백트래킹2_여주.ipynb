{
  "nbformat": 4,
  "nbformat_minor": 0,
  "metadata": {
    "colab": {
      "name": "5월12일_백트래킹2_여주.ipynb",
      "provenance": [],
      "authorship_tag": "ABX9TyMEvn7z1j+18u+56J7ZuB19"
    },
    "kernelspec": {
      "name": "python3",
      "display_name": "Python 3"
    },
    "language_info": {
      "name": "python"
    }
  },
  "cells": [
    {
      "cell_type": "code",
      "metadata": {
        "colab": {
          "base_uri": "https://localhost:8080/"
        },
        "id": "j7mxxkYGPhxX",
        "outputId": "4c6fabff-2cfe-4e16-f18f-1f0d03295262"
      },
      "source": [
        "#5 \n",
        "n = int(input())\n",
        "answer = 0\n",
        "a, b, c = [False]*n, [False]*(2*n-1), [False]*(2*n-1)\n",
        "\n",
        "def dfs_queen(i):\n",
        "    global answer\n",
        "    if i == n:\n",
        "        answer += 1\n",
        "        return\n",
        "    for j in range(n):\n",
        "        if (not a[j] and not b[i+j] and not c[i-j+n-1]) :\n",
        "            a[j] = b[i+j] = c[i-j+n-1] = True\n",
        "            dfs_queen(i+1)\n",
        "            a[j] = b[i+j] = c[i-j+n-1] = False\n",
        "\n",
        "dfs_queen(0)\n",
        "print(answer)"
      ],
      "execution_count": 2,
      "outputs": [
        {
          "output_type": "stream",
          "text": [
            "8\n",
            "92\n"
          ],
          "name": "stdout"
        }
      ]
    },
    {
      "cell_type": "code",
      "metadata": {
        "id": "QxQl4bGPRE59"
      },
      "source": [
        "#6 어렵댜,,, 답지 참조\n",
        "sudoku = [list(map(int, input().split())) for _ in range(9)]\n",
        "zeros = [(i, j) for i in range(9) for j in range(9) if sudoku[i][j] == 0]\n",
        "\n",
        "def is_promising(i, j):\n",
        "    promising = [1,2,3,4,5,6,7,8,9]  \n",
        "    \n",
        "    for k in range(9):\n",
        "        if sudoku[i][k] in promising:\n",
        "            promising.remove(sudoku[i][k])\n",
        "        if sudoku[k][j] in promising:\n",
        "            promising.remove(sudoku[k][j])\n",
        "            \n",
        "    i //= 3\n",
        "    j //= 3\n",
        "    for p in range(i*3, (i+1)*3):\n",
        "        for q in range(j*3, (j+1)*3):\n",
        "            if sudoku[p][q] in promising:\n",
        "                promising.remove(sudoku[p][q])\n",
        "    \n",
        "    return promising\n",
        "\n",
        "flag = False\n",
        "def dfs(x):\n",
        "    global flag\n",
        "    \n",
        "    if flag:\n",
        "        return\n",
        "        \n",
        "    if x == len(zeros):\n",
        "        for row in sudoku:\n",
        "            print(*row)\n",
        "        flag = True \n",
        "        return\n",
        "        \n",
        "    else:    \n",
        "        (i, j) = zeros[x]\n",
        "        promising = is_promising(i, j) \n",
        "        \n",
        "        for num in promising:\n",
        "            sudoku[i][j] = num \n",
        "            dfs(x + 1) \n",
        "            sudoku[i][j] = 0 \n",
        "dfs(0)"
      ],
      "execution_count": null,
      "outputs": []
    },
    {
      "cell_type": "code",
      "metadata": {
        "colab": {
          "base_uri": "https://localhost:8080/"
        },
        "id": "oKfcZaI6P4mZ",
        "outputId": "8cc80f24-0d7b-4273-ce67-e86f402dea36"
      },
      "source": [
        "#7\n",
        "N = int(input())\n",
        "nums = list(map(int, input().split()))\n",
        "add, sub, mul, div = map(int, input().split())\n",
        "\n",
        "min_, max_ = 1e9, -1e9\n",
        "\n",
        "def dfs(i, res, add, sub, mul, div):\n",
        "    global max_, min_\n",
        "    if i == N:\n",
        "        max_ = max(res, max_)\n",
        "        min_ = min(res, min_)\n",
        "        return\n",
        "\n",
        "    else:\n",
        "        if add:\n",
        "            dfs(i+1, res+nums[i], add-1, sub, mul, div)\n",
        "        if sub:\n",
        "            dfs(i+1, res-nums[i], add, sub-1, mul, div)\n",
        "        if mul:\n",
        "            dfs(i+1, res*nums[i], add, sub, mul-1, div)\n",
        "        if div:\n",
        "            dfs(i+1, int(res/nums[i]), add, sub, mul, div-1)\n",
        "\n",
        "dfs(1, nums[0], add, sub, mul, div)\n",
        "print(max_)\n",
        "print(min_)"
      ],
      "execution_count": 3,
      "outputs": [
        {
          "output_type": "stream",
          "text": [
            "6\n",
            "1 2 3 4 5 6\n",
            "2 1 1 1\n",
            "54\n",
            "-24\n"
          ],
          "name": "stdout"
        }
      ]
    },
    {
      "cell_type": "code",
      "metadata": {
        "colab": {
          "base_uri": "https://localhost:8080/"
        },
        "id": "j6Fja2ffWSb9",
        "outputId": "a5fd88ae-8358-44f4-80f9-871fada2be25"
      },
      "source": [
        "#8\n",
        "def dfs(index):\n",
        "    global minAns\n",
        "    if index == N // 2:\n",
        "        startSum = 0\n",
        "        linkSum = 0\n",
        "        for i in range(0,N):\n",
        "            if i not in start:\n",
        "                link.append(i)\n",
        "        for i in range(0, N // 2 - 1):\n",
        "            for j in range(i+1, N // 2):\n",
        "                startSum += arr[start[i]][start[j]] + arr[start[j]][start[i]]\n",
        "                linkSum += arr[link[i]][link[j]] + arr[link[j]][link[i]]\n",
        "        diff = abs(linkSum-startSum)\n",
        "        if minAns > diff:\n",
        "            minAns = diff\n",
        "        link.clear()\n",
        "        return\n",
        "\n",
        "    for i in range(N):\n",
        "        if i in start: continue\n",
        "        if len(start)>0 and start[len(start)-1]> i : continue\n",
        "        start.append(i)\n",
        "        dfs(index + 1)\n",
        "        start.pop()\n",
        "\n",
        "\n",
        "N = int(input())\n",
        "\n",
        "arr = []\n",
        "start = []\n",
        "link = []\n",
        "for i in range(N):\n",
        "    arr.append(list(map(int, input().split())))\n",
        "\n",
        "minAns = float('Inf')\n",
        "dfs(0)\n",
        "print(minAns)"
      ],
      "execution_count": 8,
      "outputs": [
        {
          "output_type": "stream",
          "text": [
            "4\n",
            "0 1 2 3\n",
            "4 0 5 6\n",
            "7 1 0 2\n",
            "3 4 5 0\n",
            "0\n"
          ],
          "name": "stdout"
        }
      ]
    }
  ]
}