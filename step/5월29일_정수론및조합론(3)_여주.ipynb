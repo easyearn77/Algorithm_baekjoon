{
  "nbformat": 4,
  "nbformat_minor": 0,
  "metadata": {
    "colab": {
      "name": "5월29일_정수론및조합론(3)_여주.ipynb",
      "provenance": [],
      "authorship_tag": "ABX9TyMjX/JbifSc+qI5ALLaqbA0"
    },
    "kernelspec": {
      "name": "python3",
      "display_name": "Python 3"
    },
    "language_info": {
      "name": "python"
    }
  },
  "cells": [
    {
      "cell_type": "code",
      "metadata": {
        "colab": {
          "base_uri": "https://localhost:8080/"
        },
        "id": "g0qeBigo8Eku",
        "outputId": "6a6e1db7-e738-4389-c0b0-4ee2d7a9ebec"
      },
      "source": [
        "#5\n",
        "import math\n",
        "\n",
        "def div(x):\n",
        "  div_list = [x]\n",
        "  for i in range(2, int(x ** (1 / 2) + 1)):\n",
        "    if x % i == 0:\n",
        "      div_list.append(i)\n",
        "      if x // i != i:\n",
        "        div_list.append(x // i)\n",
        "  div_list.sort()\n",
        "  return div_list\n",
        "\n",
        "n = int(input())\n",
        "w = [int(input()) for _ in range(n)]\n",
        "wd = [abs(w[i] - w[i+1]) for i in range(n-1)]\n",
        "\n",
        "if len(wd) == 1:\n",
        "  answer = wd[0]\n",
        "else:\n",
        "  answer = wd[0]\n",
        "  for i in range(len(wd)):\n",
        "    answer = math.gcd(answer, wd[i])\n",
        "for i in div(answer):\n",
        "  print(i, end = ' ')"
      ],
      "execution_count": null,
      "outputs": [
        {
          "output_type": "stream",
          "text": [
            "3\n",
            "6\n",
            "34\n",
            "38\n",
            "2 4 "
          ],
          "name": "stdout"
        }
      ]
    },
    {
      "cell_type": "code",
      "metadata": {
        "colab": {
          "base_uri": "https://localhost:8080/"
        },
        "id": "LyO05RQ-Hu0P",
        "outputId": "36a530fc-9ef5-46da-ecc5-a78bc3414333"
      },
      "source": [
        "#6\n",
        "from fractions import Fraction\n",
        "n = int(input())\n",
        "r = list(map(int, input().split()))\n",
        "\n",
        "for i in range(n-1):\n",
        "  ring = Fraction(r[0], r[i+1])\n",
        "  print(ring.numerator, '/', ring.denominator, sep='')"
      ],
      "execution_count": 9,
      "outputs": [
        {
          "output_type": "stream",
          "text": [
            "4\n",
            "12 3 8 4\n",
            "4/1\n",
            "3/2\n",
            "3/1\n"
          ],
          "name": "stdout"
        }
      ]
    }
  ]
}