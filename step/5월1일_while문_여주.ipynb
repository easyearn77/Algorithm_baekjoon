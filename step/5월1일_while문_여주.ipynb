{
  "nbformat": 4,
  "nbformat_minor": 0,
  "metadata": {
    "colab": {
      "name": "while_여주.ipynb",
      "provenance": [],
      "collapsed_sections": [],
      "authorship_tag": "ABX9TyNBm3C9cuSQV/l1h7xCRkV4"
    },
    "kernelspec": {
      "name": "python3",
      "display_name": "Python 3"
    },
    "language_info": {
      "name": "python"
    }
  },
  "cells": [
    {
      "cell_type": "code",
      "metadata": {
        "colab": {
          "base_uri": "https://localhost:8080/"
        },
        "id": "eyWlajS1113c",
        "outputId": "1198f481-cf15-4d59-f772-2e7d01f37829"
      },
      "source": [
        "#1\n",
        "while(1):\n",
        "  A, B = map(int, input().split())\n",
        "  if A<=0 or B<=0:\n",
        "    break\n",
        "  print(A+B)"
      ],
      "execution_count": 2,
      "outputs": [
        {
          "output_type": "stream",
          "text": [
            "1 1\n",
            "2\n",
            "2 3\n",
            "5\n",
            "3 4\n",
            "7\n",
            "9 8\n",
            "17\n",
            "5 2\n",
            "7\n",
            "0 0\n"
          ],
          "name": "stdout"
        }
      ]
    },
    {
      "cell_type": "code",
      "metadata": {
        "colab": {
          "base_uri": "https://localhost:8080/"
        },
        "id": "Rdd9O4WV2lz8",
        "outputId": "9ea5cff5-fbd4-43b2-f25c-e9df39fee0d1"
      },
      "source": [
        "#2\n",
        "while(1):\n",
        "  try:\n",
        "    a, b = map(int, input().split())\n",
        "  except:\n",
        "    break\n",
        "  print(a+b)"
      ],
      "execution_count": 3,
      "outputs": [
        {
          "output_type": "stream",
          "text": [
            "1 1\n",
            "2\n",
            "2 3\n",
            "5\n",
            "3 4\n",
            "7\n",
            "9 8\n",
            "17\n",
            "5 2\n",
            "7\n",
            "a b\n"
          ],
          "name": "stdout"
        }
      ]
    },
    {
      "cell_type": "code",
      "metadata": {
        "colab": {
          "base_uri": "https://localhost:8080/"
        },
        "id": "jeKc4Qf_3WdI",
        "outputId": "bfda0f98-5e2c-45d3-a2e9-604f281de0e9"
      },
      "source": [
        "#3\n",
        "n = int(input())\n",
        "real_n = n\n",
        "count = 0\n",
        "while(1):\n",
        "  a = (n//10) + (n%10)\n",
        "  new_n = (n%10)*10 + a%10\n",
        "  count+=1\n",
        "  n = new_n\n",
        "  if new_n == real_n:\n",
        "    break\n",
        "print(count)"
      ],
      "execution_count": 6,
      "outputs": [
        {
          "output_type": "stream",
          "text": [
            "26\n",
            "4\n"
          ],
          "name": "stdout"
        }
      ]
    }
  ]
}