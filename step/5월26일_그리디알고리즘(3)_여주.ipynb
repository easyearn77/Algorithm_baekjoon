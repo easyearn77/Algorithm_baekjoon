{
  "nbformat": 4,
  "nbformat_minor": 0,
  "metadata": {
    "colab": {
      "name": "5월26일_그리디알고리즘(3)_여주.ipynb",
      "provenance": [],
      "authorship_tag": "ABX9TyNKyEgmHenY2C4EXX5cR8Sc"
    },
    "kernelspec": {
      "name": "python3",
      "display_name": "Python 3"
    },
    "language_info": {
      "name": "python"
    }
  },
  "cells": [
    {
      "cell_type": "code",
      "metadata": {
        "colab": {
          "base_uri": "https://localhost:8080/"
        },
        "id": "ZZUPB52XQVOY",
        "outputId": "8dc7b877-6f11-436a-ba9f-4da37119507f"
      },
      "source": [
        "#5\n",
        "n = int(input())\n",
        "city_len = list(map(int, input().split()))\n",
        "city_price = list(map(int, input().split()))\n",
        "min_cost = 0\n",
        "\n",
        "for i in range(n-1):\n",
        "  if city_price[i] < city_price[0]:\n",
        "    city_price[0] = city_price[i]\n",
        "  min_cost += city_price[0] * city_len[i]\n",
        "\n",
        "print(min_cost)"
      ],
      "execution_count": 2,
      "outputs": [
        {
          "output_type": "stream",
          "text": [
            "4\n",
            "2 3 1\n",
            "5 2 4 1\n",
            "18\n"
          ],
          "name": "stdout"
        }
      ]
    }
  ]
}