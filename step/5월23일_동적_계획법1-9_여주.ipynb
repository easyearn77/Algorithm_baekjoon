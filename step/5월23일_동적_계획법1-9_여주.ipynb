{
  "nbformat": 4,
  "nbformat_minor": 0,
  "metadata": {
    "colab": {
      "name": "5월23일_동적_계획법1-9_여주.ipynb",
      "provenance": [],
      "authorship_tag": "ABX9TyMZchQOKyBBFAyylF/5raqO"
    },
    "kernelspec": {
      "name": "python3",
      "display_name": "Python 3"
    },
    "language_info": {
      "name": "python"
    }
  },
  "cells": [
    {
      "cell_type": "code",
      "metadata": {
        "colab": {
          "base_uri": "https://localhost:8080/"
        },
        "id": "aFhyMezn2AUc",
        "outputId": "7526dc4b-b9eb-43b8-e72e-2b03341ff4fe"
      },
      "source": [
        "#16\n",
        "n, k = map(int, input().split())\n",
        "bag = [[0 for _ in range(k+1)] for __ in range(n+1)]\n",
        "\n",
        "for i in range(1, n+1):\n",
        "  w, v = map(int, input().split())\n",
        "  for j in range(1, k+1):\n",
        "    if j < w:\n",
        "      bag[i][j] = bag[i-1][j]\n",
        "    else:\n",
        "      bag[i][j] = max(bag[i-1][j], bag[i-1][j-w] + v)\n",
        "\n",
        "print(bag[n][k])"
      ],
      "execution_count": 10,
      "outputs": [
        {
          "output_type": "stream",
          "text": [
            "4 7\n",
            "6 13\n",
            "4 8\n",
            "3 6\n",
            "5 12\n",
            "14\n"
          ],
          "name": "stdout"
        }
      ]
    }
  ]
}