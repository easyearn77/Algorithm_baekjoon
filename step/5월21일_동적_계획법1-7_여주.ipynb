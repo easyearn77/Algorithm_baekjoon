{
  "nbformat": 4,
  "nbformat_minor": 0,
  "metadata": {
    "colab": {
      "name": "5월21일_동적_계획법1-7_여주.ipynb",
      "provenance": [],
      "authorship_tag": "ABX9TyPmH25SCVs/wQw1EwzfO1j4",
      "include_colab_link": true
    },
    "kernelspec": {
      "name": "python3",
      "display_name": "Python 3"
    },
    "language_info": {
      "name": "python"
    }
  },
  "cells": [
    {
      "cell_type": "markdown",
      "metadata": {
        "id": "view-in-github",
        "colab_type": "text"
      },
      "source": [
        "<a href=\"https://colab.research.google.com/github/yeojoo1224/Algorithm_baekjoon/blob/main/step/5%EC%9B%9421%EC%9D%BC_%EB%8F%99%EC%A0%81_%EA%B3%84%ED%9A%8D%EB%B2%951-7_%EC%97%AC%EC%A3%BC.ipynb\" target=\"_parent\"><img src=\"https://colab.research.google.com/assets/colab-badge.svg\" alt=\"Open In Colab\"/></a>"
      ]
    },
    {
      "cell_type": "code",
      "metadata": {
        "colab": {
          "base_uri": "https://localhost:8080/"
        },
        "id": "Jof2wcPmoO5H",
        "outputId": "050ef46f-9821-4ca4-be43-6a7b97ccbfda"
      },
      "source": [
        "#13\n",
        "n = int(input())\n",
        "jbd_a = []\n",
        "jbd_b = []\n",
        "count = [0 for i in range(n)]\n",
        "for _ in range(n):\n",
        "  jbd_a.append(list(map(int, input().split())))\n",
        "\n",
        "jbd_a.sort(key = lambda x:x[0])\n",
        "\n",
        "for i in range(n):\n",
        "  jbd_b.append(jbd_a[i][1])\n",
        "\n",
        "for i in range(n):\n",
        "  for j in range(i):\n",
        "    if jbd_b[i] > jbd_b[j] and count[i] < count[j]:\n",
        "      count[i] = count[j]\n",
        "  count[i] += 1\n",
        "\n",
        "print(n - max(count))"
      ],
      "execution_count": 1,
      "outputs": [
        {
          "output_type": "stream",
          "text": [
            "8\n",
            "1 8\n",
            "3 9\n",
            "2 2\n",
            "4 1\n",
            "6 4\n",
            "10 10\n",
            "9 7\n",
            "7 6\n",
            "3\n"
          ],
          "name": "stdout"
        }
      ]
    }
  ]
}