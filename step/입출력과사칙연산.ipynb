{
  "nbformat": 4,
  "nbformat_minor": 0,
  "metadata": {
    "colab": {
      "name": "baekjoon_입출력과 사칙연산.py",
      "provenance": [],
      "authorship_tag": "ABX9TyPj6Azp1SyhpzrsaXGyHJo1",
      "include_colab_link": true
    },
    "kernelspec": {
      "name": "python3",
      "display_name": "Python 3"
    },
    "language_info": {
      "name": "python"
    }
  },
  "cells": [
    {
      "cell_type": "markdown",
      "metadata": {
        "id": "view-in-github",
        "colab_type": "text"
      },
      "source": [
        "<a href=\"https://colab.research.google.com/github/easyearn77/Algorithm_baekjoon/blob/main/step/%EC%9E%85%EC%B6%9C%EB%A0%A5%EA%B3%BC%EC%82%AC%EC%B9%99%EC%97%B0%EC%82%B0.ipynb\" target=\"_parent\"><img src=\"https://colab.research.google.com/assets/colab-badge.svg\" alt=\"Open In Colab\"/></a>"
      ]
    },
    {
      "cell_type": "markdown",
      "metadata": {
        "id": "-EPLwcFiqzYv"
      },
      "source": [
        "문제\n",
        "https://www.acmicpc.net/step/1"
      ]
    },
    {
      "cell_type": "code",
      "metadata": {
        "colab": {
          "base_uri": "https://localhost:8080/"
        },
        "id": "sxCArlBQnRb1",
        "outputId": "90b5dc4f-c42b-4579-9381-1b3ed25dc7a1"
      },
      "source": [
        "#1\n",
        "print(\"Hello World!\")"
      ],
      "execution_count": 1,
      "outputs": [
        {
          "output_type": "stream",
          "text": [
            "Hello World!\n"
          ],
          "name": "stdout"
        }
      ]
    },
    {
      "cell_type": "code",
      "metadata": {
        "colab": {
          "base_uri": "https://localhost:8080/"
        },
        "id": "-vXfDB5YnxVn",
        "outputId": "4754f46a-6b69-4664-cbb3-bbac8a2c5424"
      },
      "source": [
        "#2\n",
        "print(\"강한친구 대한육군\")\n",
        "print(\"강한친구 대한육군\")"
      ],
      "execution_count": 2,
      "outputs": [
        {
          "output_type": "stream",
          "text": [
            "강한친구 대한육군\n",
            "강한친구 대한육군\n"
          ],
          "name": "stdout"
        }
      ]
    },
    {
      "cell_type": "code",
      "metadata": {
        "colab": {
          "base_uri": "https://localhost:8080/"
        },
        "id": "TuGvvleSn2yL",
        "outputId": "812e1e5e-20da-41f7-c19c-1217b0dd6a51"
      },
      "source": [
        "#3\n",
        "print(\"\\\\    /\\\\\")\n",
        "print(\" )  ( ')\")\n",
        "print(\"(  /  )\")\n",
        "print(\" \\\\(__)|\")\n"
      ],
      "execution_count": 4,
      "outputs": [
        {
          "output_type": "stream",
          "text": [
            "＼    /＼\n",
            " )  ( ')\n",
            "(  /  )\n",
            " ＼(__)|\n"
          ],
          "name": "stdout"
        }
      ]
    },
    {
      "cell_type": "code",
      "metadata": {
        "colab": {
          "base_uri": "https://localhost:8080/"
        },
        "id": "oa1sKoZGpCH3",
        "outputId": "92fa52b7-0874-48fb-9628-fcb131547937"
      },
      "source": [
        "#4\n",
        "print(\"|\\\\_/|\")\n",
        "print(\"|q p|   /}\")\n",
        "print('( 0 )\\\"\\\"\\\"\\\\')\n",
        "print(\"|\\\"^\\\"`    |\")\n",
        "print(\"||_/=\\\\\\\\__|\")"
      ],
      "execution_count": 6,
      "outputs": [
        {
          "output_type": "stream",
          "text": [
            "|\\_/|\n",
            "|q p|   /}\n",
            "( 0 )\"\"\"\\\n",
            "|\"^\"`    |\n",
            "||_/=\\\\__|\n"
          ],
          "name": "stdout"
        }
      ]
    },
    {
      "cell_type": "code",
      "metadata": {
        "colab": {
          "base_uri": "https://localhost:8080/"
        },
        "id": "em71o8D9p0vX",
        "outputId": "de3a0a31-d518-4df9-ecda-f12297cb720d"
      },
      "source": [
        "#5\n",
        "A,B=input().split()\n",
        "print(int(A)+int(B))"
      ],
      "execution_count": 9,
      "outputs": [
        {
          "output_type": "stream",
          "text": [
            "1 2\n",
            "3\n"
          ],
          "name": "stdout"
        }
      ]
    },
    {
      "cell_type": "code",
      "metadata": {
        "colab": {
          "base_uri": "https://localhost:8080/"
        },
        "id": "xDTG_-wrqNWw",
        "outputId": "fcbd3520-e38c-4f77-b394-0cad5c7283f0"
      },
      "source": [
        "#6\n",
        "a,b=input().split()\n",
        "print(int(a)-int(b))"
      ],
      "execution_count": 10,
      "outputs": [
        {
          "output_type": "stream",
          "text": [
            "3 2\n",
            "1\n"
          ],
          "name": "stdout"
        }
      ]
    },
    {
      "cell_type": "code",
      "metadata": {
        "colab": {
          "base_uri": "https://localhost:8080/"
        },
        "id": "kRGHb9hrqaiX",
        "outputId": "bb8787dc-1509-4275-a918-ddb8a855cf0a"
      },
      "source": [
        "#7\n",
        "a,b=input().split()\n",
        "print(int(a)*int(b))"
      ],
      "execution_count": 11,
      "outputs": [
        {
          "output_type": "stream",
          "text": [
            "1 2\n",
            "2\n"
          ],
          "name": "stdout"
        }
      ]
    },
    {
      "cell_type": "code",
      "metadata": {
        "colab": {
          "base_uri": "https://localhost:8080/"
        },
        "id": "E0PfP2_vqvqC",
        "outputId": "ee97825f-e127-4c88-be6e-b494f24c005f"
      },
      "source": [
        "#8\n",
        "a,b=input().split()\n",
        "print(int(a)/int(b))"
      ],
      "execution_count": 12,
      "outputs": [
        {
          "output_type": "stream",
          "text": [
            "1 3\n",
            "0.3333333333333333\n"
          ],
          "name": "stdout"
        }
      ]
    },
    {
      "cell_type": "code",
      "metadata": {
        "colab": {
          "base_uri": "https://localhost:8080/"
        },
        "id": "BFYo5winrK68",
        "outputId": "64b5ca79-ba87-4965-8236-f0d06e90ae76"
      },
      "source": [
        "#9\n",
        "a,b=input().split()\n",
        "a=int(a)\n",
        "b=int(b)\n",
        "print(a+b)\n",
        "print(a-b)\n",
        "print(a*b)\n",
        "print(a//b)\n",
        "print(a%b)"
      ],
      "execution_count": 14,
      "outputs": [
        {
          "output_type": "stream",
          "text": [
            "7 3\n",
            "10\n",
            "4\n",
            "21\n",
            "2\n",
            "1\n"
          ],
          "name": "stdout"
        }
      ]
    },
    {
      "cell_type": "code",
      "metadata": {
        "colab": {
          "base_uri": "https://localhost:8080/"
        },
        "id": "_pxJOAFwrvzn",
        "outputId": "fec51e0f-0a8f-4801-8566-99159c0bc473"
      },
      "source": [
        "#10\n",
        "a,b,c=input().split()\n",
        "a=int(a)\n",
        "b=int(b)\n",
        "c=int(c)\n",
        "\n",
        "print((a+b)%c)\n",
        "print(((a%c)+(b%c))%c)\n",
        "print((a*b)%c)\n",
        "print(((a%c)*(b%c))%c)\n"
      ],
      "execution_count": 20,
      "outputs": [
        {
          "output_type": "stream",
          "text": [
            "5 8 4\n",
            "1\n",
            "1\n",
            "0\n",
            "0\n"
          ],
          "name": "stdout"
        }
      ]
    },
    {
      "cell_type": "code",
      "metadata": {
        "colab": {
          "base_uri": "https://localhost:8080/"
        },
        "id": "WCkdfnemsgnD",
        "outputId": "6cf7ecae-37b3-46a2-88a3-b2931923c662"
      },
      "source": [
        "#11\n",
        "a=int(input())\n",
        "b=int(input())\n",
        "b100=b//100\n",
        "b10=(b-b100*100)//10\n",
        "b1=b-b100*100-b10*10\n",
        "\n",
        "print(a*b1)\n",
        "print(a*b10)\n",
        "print(a*b100)\n",
        "print(a*b)\n",
        "\n",
        "\n"
      ],
      "execution_count": 21,
      "outputs": [
        {
          "output_type": "stream",
          "text": [
            "472\n",
            "385\n",
            "2360\n",
            "3776\n",
            "1416\n",
            "181720\n"
          ],
          "name": "stdout"
        }
      ]
    },
    {
      "cell_type": "code",
      "metadata": {
        "id": "a0w_14tLr-BZ"
      },
      "source": [
        ""
      ],
      "execution_count": null,
      "outputs": []
    }
  ]
}