{
  "nbformat": 4,
  "nbformat_minor": 0,
  "metadata": {
    "colab": {
      "name": "baekjoon_스택-3.ipynb",
      "provenance": [],
      "authorship_tag": "ABX9TyPbK1YaqbKD9XRULLE+390f",
      "include_colab_link": true
    },
    "kernelspec": {
      "name": "python3",
      "display_name": "Python 3"
    },
    "language_info": {
      "name": "python"
    }
  },
  "cells": [
    {
      "cell_type": "markdown",
      "metadata": {
        "id": "view-in-github",
        "colab_type": "text"
      },
      "source": [
        "<a href=\"https://colab.research.google.com/github/easyearn77/Algorithm_baekjoon/blob/main/step/6%EC%9B%948%EC%9D%BC_%EC%8A%A4%ED%83%9D(3)_%EC%A7%80%EC%96%B8.ipynb\" target=\"_parent\"><img src=\"https://colab.research.google.com/assets/colab-badge.svg\" alt=\"Open In Colab\"/></a>"
      ]
    },
    {
      "cell_type": "markdown",
      "metadata": {
        "id": "RQrYU6Lj5FQy"
      },
      "source": [
        "스택 링크: https://www.acmicpc.net/step/11"
      ]
    },
    {
      "cell_type": "code",
      "metadata": {
        "colab": {
          "base_uri": "https://localhost:8080/"
        },
        "id": "UrYUAKfj5BoI",
        "outputId": "9be03c61-648a-4ed1-c523-03c3e940f6b4"
      },
      "source": [
        "#4\n",
        "while True:\n",
        "  string=input()\n",
        "  if string=='.':\n",
        "    break\n",
        "  \n",
        "  parentheses=[]\n",
        "  ans=True\n",
        "\n",
        "  for i in string:\n",
        "    if i=='(' or i=='[':\n",
        "      parentheses.append(i)\n",
        "    elif i==')':\n",
        "      if not parentheses or parentheses[-1]=='[':\n",
        "        ans=False\n",
        "        break\n",
        "      else:\n",
        "        parentheses.pop()\n",
        "    elif i==']':\n",
        "      if not parentheses or parentheses[-1]=='(':\n",
        "        ans=False\n",
        "        break\n",
        "      else:\n",
        "        parentheses.pop()\n",
        "  if ans==True and not parentheses:\n",
        "    print('yes')\n",
        "  else:\n",
        "    print('no')"
      ],
      "execution_count": 8,
      "outputs": [
        {
          "output_type": "stream",
          "text": [
            "So when I die (the [first] I will see in (heaven) is a score list).\n",
            "yes\n",
            "[ first in ] ( first out ).\n",
            "yes\n",
            "Half Moon tonight (At least it is better than no Moon at all].\n",
            "no\n",
            "A rope may form )( a trail in a maze.\n",
            "no\n",
            "Help( I[m being held prisoner in a fortune cookie factory)].\n",
            "no\n",
            "([ (([( [ ] ) ( ) (( ))] )) ]).\n",
            "yes\n",
            " .\n",
            "yes\n",
            ".\n"
          ],
          "name": "stdout"
        }
      ]
    },
    {
      "cell_type": "code",
      "metadata": {
        "colab": {
          "base_uri": "https://localhost:8080/"
        },
        "id": "3-zAWkYWuf3R",
        "outputId": "c77ecf9a-c994-494b-cc0e-c0bea5ef6985"
      },
      "source": [
        "#5\n",
        "def push(n):\n",
        "  stack.append(n)\n",
        "  answer.append('+')\n",
        "\n",
        "def pop():\n",
        "  p=stack.pop()\n",
        "  answer.append('-')\n",
        "\n",
        "n=int(input())\n",
        "stack=[0]\n",
        "last=0\n",
        "answer=[]\n",
        "T_or_F=True\n",
        "for _ in range(n):\n",
        "  num=int(input())\n",
        "  if T_or_F==True:\n",
        "    if stack[-1]<num:\n",
        "      for i in range(last+1,num+1):\n",
        "        push(i)\n",
        "      last=num\n",
        "      pop()\n",
        "    elif stack[-1]==num:\n",
        "      pop()\n",
        "    else:\n",
        "      T_or_F=False\n",
        "\n",
        "if T_or_F==True:\n",
        "  for i in answer:\n",
        "    print(i)\n",
        "else:\n",
        "  print('NO')\n",
        "  \n",
        "\n"
      ],
      "execution_count": 5,
      "outputs": [
        {
          "output_type": "stream",
          "text": [
            "5\n",
            "1\n",
            "2\n",
            "5\n",
            "3\n",
            "4\n",
            "NO\n"
          ],
          "name": "stdout"
        }
      ]
    }
  ]
}