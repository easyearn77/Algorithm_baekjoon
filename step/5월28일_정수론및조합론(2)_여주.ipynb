{
  "nbformat": 4,
  "nbformat_minor": 0,
  "metadata": {
    "colab": {
      "name": "5월28일_정수론및조합론(2)_여주.ipynb",
      "provenance": [],
      "authorship_tag": "ABX9TyNDpMq/XR22sRrIKOVI9gKN"
    },
    "kernelspec": {
      "name": "python3",
      "display_name": "Python 3"
    },
    "language_info": {
      "name": "python"
    }
  },
  "cells": [
    {
      "cell_type": "code",
      "metadata": {
        "colab": {
          "base_uri": "https://localhost:8080/"
        },
        "id": "DMUvtNdHLONC",
        "outputId": "4cd338b6-0d90-4bd8-b7e5-b20b8fd84461"
      },
      "source": [
        "#4\n",
        "n = int(input())\n",
        "for i in range(n):\n",
        "  a, b = map(int, input().split())\n",
        "  a1, b1 = a, b\n",
        "\n",
        "  while(b!=0):\n",
        "    a = a % b\n",
        "    a, b = b, a\n",
        "\n",
        "  print(a1*b1//a)"
      ],
      "execution_count": 1,
      "outputs": [
        {
          "output_type": "stream",
          "text": [
            "3\n",
            "1 45000\n",
            "45000\n",
            "6 10\n",
            "30\n",
            "13 17\n",
            "221\n"
          ],
          "name": "stdout"
        }
      ]
    }
  ]
}