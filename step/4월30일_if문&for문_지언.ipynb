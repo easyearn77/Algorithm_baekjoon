{
  "nbformat": 4,
  "nbformat_minor": 0,
  "metadata": {
    "colab": {
      "name": "baekjoon_if문&for문.ipynb",
      "provenance": [],
      "authorship_tag": "ABX9TyOF71DM6IjG6d1mbZvvqoyX",
      "include_colab_link": true
    },
    "kernelspec": {
      "name": "python3",
      "display_name": "Python 3"
    },
    "language_info": {
      "name": "python"
    }
  },
  "cells": [
    {
      "cell_type": "markdown",
      "metadata": {
        "id": "view-in-github",
        "colab_type": "text"
      },
      "source": [
        "<a href=\"https://colab.research.google.com/github/easyearn77/Algorithm_baekjoon/blob/main/step/if%EB%AC%B8%26for%EB%AC%B8_%EC%A7%80%EC%96%B8.ipynb\" target=\"_parent\"><img src=\"https://colab.research.google.com/assets/colab-badge.svg\" alt=\"Open In Colab\"/></a>"
      ]
    },
    {
      "cell_type": "markdown",
      "metadata": {
        "id": "oAhx5pu2PlBG"
      },
      "source": [
        "if문\n",
        "링크: https://www.acmicpc.net/step/4"
      ]
    },
    {
      "cell_type": "code",
      "metadata": {
        "colab": {
          "base_uri": "https://localhost:8080/"
        },
        "id": "v9A9PQA52huk",
        "outputId": "331bd467-c105-4003-9915-2d908f1ee3a9"
      },
      "source": [
        "#1\n",
        "a,b=input().split()\n",
        "a=int(a)\n",
        "b=int(b)\n",
        "if a>b:\n",
        "  print(\">\")\n",
        "elif a<b:\n",
        "  print(\"<\")\n",
        "else:\n",
        "  print(\"==\")"
      ],
      "execution_count": 8,
      "outputs": [
        {
          "output_type": "stream",
          "text": [
            "1 2\n",
            "<\n"
          ],
          "name": "stdout"
        }
      ]
    },
    {
      "cell_type": "code",
      "metadata": {
        "colab": {
          "base_uri": "https://localhost:8080/"
        },
        "id": "jozXn7Qw37JF",
        "outputId": "9aa31ab7-82de-4f4b-8d1d-3985bbd6aa28"
      },
      "source": [
        "#2\n",
        "n=int(input())\n",
        "if n>=90 and n<=100:\n",
        "  print(\"A\")\n",
        "elif n>=80 and n<=89:\n",
        "  print(\"B\")\n",
        "elif n>=70 and n<=79:\n",
        "  print(\"C\")\n",
        "elif n>=60 and n<=69:\n",
        "  print(\"D\")\n",
        "else:\n",
        "  print(\"F\")"
      ],
      "execution_count": 9,
      "outputs": [
        {
          "output_type": "stream",
          "text": [
            "100\n",
            "A\n"
          ],
          "name": "stdout"
        }
      ]
    },
    {
      "cell_type": "code",
      "metadata": {
        "colab": {
          "base_uri": "https://localhost:8080/"
        },
        "id": "pv8HvrCK4uUE",
        "outputId": "53a270da-32d0-4414-dc62-9545884ff29a"
      },
      "source": [
        "#3\n",
        "y=int(input())\n",
        "if (y%4==0 and y%100!=0) or y%400==0:\n",
        "  print(\"1\")\n",
        "else:\n",
        "  print(\"0\")\n"
      ],
      "execution_count": 11,
      "outputs": [
        {
          "output_type": "stream",
          "text": [
            "1999\n",
            "0\n"
          ],
          "name": "stdout"
        }
      ]
    },
    {
      "cell_type": "code",
      "metadata": {
        "colab": {
          "base_uri": "https://localhost:8080/"
        },
        "id": "9FhZqG2bIXqJ",
        "outputId": "46f2ccbc-db61-421c-da7f-a114c75e2f41"
      },
      "source": [
        "#4\n",
        "x=int(input())\n",
        "y=int(input())\n",
        "if x>0 and y>0:\n",
        "  print(\"1\")\n",
        "elif x<0 and y>0:\n",
        "  print(\"2\")\n",
        "elif x<0 and y<0:\n",
        "  print(\"3\")\n",
        "elif x>0 and y<0:\n",
        "  print(\"4\")\n"
      ],
      "execution_count": 13,
      "outputs": [
        {
          "output_type": "stream",
          "text": [
            "9\n",
            "-13\n",
            "4\n"
          ],
          "name": "stdout"
        }
      ]
    },
    {
      "cell_type": "code",
      "metadata": {
        "colab": {
          "base_uri": "https://localhost:8080/"
        },
        "id": "Rv4hc9dwJEI9",
        "outputId": "b1b14aa4-d2f9-4e0a-c405-a14f52ad1af3"
      },
      "source": [
        "#5\n",
        "h,m=input().split()\n",
        "h=int(h)\n",
        "m=int(m)\n",
        "if h>=0 and m>=45:\n",
        "  hr=h\n",
        "  mr=m-45\n",
        "elif h>0 and m<45:\n",
        "  hr=h-1\n",
        "  mr=m+15\n",
        "elif h==0 and m<45:\n",
        "  hr=23\n",
        "  mr=m+15\n",
        "\n",
        "print(hr,mr,sep=' ')"
      ],
      "execution_count": 17,
      "outputs": [
        {
          "output_type": "stream",
          "text": [
            "23 40\n",
            "22 55\n"
          ],
          "name": "stdout"
        }
      ]
    },
    {
      "cell_type": "markdown",
      "metadata": {
        "id": "l0ZcBmk7PsZn"
      },
      "source": [
        "for문 링크: https://www.acmicpc.net/step/3"
      ]
    },
    {
      "cell_type": "code",
      "metadata": {
        "colab": {
          "base_uri": "https://localhost:8080/"
        },
        "id": "LnMuJWMDOQ-b",
        "outputId": "6909395a-068a-46cf-e610-9a766f251dfb"
      },
      "source": [
        "#1\n",
        "n=int(input())\n",
        "for i in range(1,10):\n",
        "  print(n,'*',i,'=',n*i)"
      ],
      "execution_count": 19,
      "outputs": [
        {
          "output_type": "stream",
          "text": [
            "2\n",
            "2 * 1 = 2\n",
            "2 * 2 = 4\n",
            "2 * 3 = 6\n",
            "2 * 4 = 8\n",
            "2 * 5 = 10\n",
            "2 * 6 = 12\n",
            "2 * 7 = 14\n",
            "2 * 8 = 16\n",
            "2 * 9 = 18\n"
          ],
          "name": "stdout"
        }
      ]
    },
    {
      "cell_type": "code",
      "metadata": {
        "colab": {
          "base_uri": "https://localhost:8080/"
        },
        "id": "GPDcB38TO9mV",
        "outputId": "0be2332a-f7d0-40b6-dcff-aeb36a75222b"
      },
      "source": [
        "#2\n",
        "n=int(input())\n",
        "for i in range(n):\n",
        "  a,b=input().split()\n",
        "  print(int(a)+int(b))"
      ],
      "execution_count": 20,
      "outputs": [
        {
          "output_type": "stream",
          "text": [
            "5\n",
            "1 1\n",
            "2\n",
            "2 3\n",
            "5\n",
            "3 4\n",
            "7\n",
            "9 8\n",
            "17\n",
            "5 2\n",
            "7\n"
          ],
          "name": "stdout"
        }
      ]
    },
    {
      "cell_type": "code",
      "metadata": {
        "colab": {
          "base_uri": "https://localhost:8080/"
        },
        "id": "lHuDXqoWPf2B",
        "outputId": "658ee053-edc8-451c-daa5-752cdbdaefdc"
      },
      "source": [
        "#3\n",
        "n=int(input())\n",
        "hap=0\n",
        "for i in range(1,n+1):\n",
        "  hap+=i\n",
        "print(hap)"
      ],
      "execution_count": 22,
      "outputs": [
        {
          "output_type": "stream",
          "text": [
            "3\n",
            "6\n"
          ],
          "name": "stdout"
        }
      ]
    },
    {
      "cell_type": "code",
      "metadata": {
        "colab": {
          "base_uri": "https://localhost:8080/",
          "height": 251
        },
        "id": "WhOkCAa4Q0_m",
        "outputId": "37625ac4-339a-4d50-9812-e8099e1d5857"
      },
      "source": [
        "#4\n",
        "import sys\n",
        "n=sys.stdin.readline()\n",
        "n=int(n)\n",
        "for i in range(n):\n",
        "  a,b=sys.stdin.readline().split()\n",
        "  print(int(a)+int(b))"
      ],
      "execution_count": 26,
      "outputs": [
        {
          "output_type": "error",
          "ename": "ValueError",
          "evalue": "ignored",
          "traceback": [
            "\u001b[0;31m---------------------------------------------------------------------------\u001b[0m",
            "\u001b[0;31mValueError\u001b[0m                                Traceback (most recent call last)",
            "\u001b[0;32m<ipython-input-26-cdc33d26ed42>\u001b[0m in \u001b[0;36m<module>\u001b[0;34m()\u001b[0m\n\u001b[1;32m      2\u001b[0m \u001b[0;32mimport\u001b[0m \u001b[0msys\u001b[0m\u001b[0;34m\u001b[0m\u001b[0;34m\u001b[0m\u001b[0m\n\u001b[1;32m      3\u001b[0m \u001b[0mn\u001b[0m\u001b[0;34m=\u001b[0m\u001b[0msys\u001b[0m\u001b[0;34m.\u001b[0m\u001b[0mstdin\u001b[0m\u001b[0;34m.\u001b[0m\u001b[0mreadline\u001b[0m\u001b[0;34m(\u001b[0m\u001b[0;34m)\u001b[0m\u001b[0;34m\u001b[0m\u001b[0;34m\u001b[0m\u001b[0m\n\u001b[0;32m----> 4\u001b[0;31m \u001b[0mn\u001b[0m\u001b[0;34m=\u001b[0m\u001b[0mint\u001b[0m\u001b[0;34m(\u001b[0m\u001b[0mn\u001b[0m\u001b[0;34m)\u001b[0m\u001b[0;34m\u001b[0m\u001b[0;34m\u001b[0m\u001b[0m\n\u001b[0m\u001b[1;32m      5\u001b[0m \u001b[0;32mfor\u001b[0m \u001b[0mi\u001b[0m \u001b[0;32min\u001b[0m \u001b[0mrange\u001b[0m\u001b[0;34m(\u001b[0m\u001b[0mn\u001b[0m\u001b[0;34m)\u001b[0m\u001b[0;34m:\u001b[0m\u001b[0;34m\u001b[0m\u001b[0;34m\u001b[0m\u001b[0m\n\u001b[1;32m      6\u001b[0m   \u001b[0ma\u001b[0m\u001b[0;34m,\u001b[0m\u001b[0mb\u001b[0m\u001b[0;34m=\u001b[0m\u001b[0msys\u001b[0m\u001b[0;34m.\u001b[0m\u001b[0mstdin\u001b[0m\u001b[0;34m.\u001b[0m\u001b[0mreadline\u001b[0m\u001b[0;34m(\u001b[0m\u001b[0;34m)\u001b[0m\u001b[0;34m.\u001b[0m\u001b[0msplit\u001b[0m\u001b[0;34m(\u001b[0m\u001b[0;34m)\u001b[0m\u001b[0;34m\u001b[0m\u001b[0;34m\u001b[0m\u001b[0m\n",
            "\u001b[0;31mValueError\u001b[0m: invalid literal for int() with base 10: ''"
          ]
        }
      ]
    },
    {
      "cell_type": "code",
      "metadata": {
        "colab": {
          "base_uri": "https://localhost:8080/"
        },
        "id": "JEkfMsAUR5IC",
        "outputId": "86e60848-f3e9-4f89-aa0d-414e7a40f525"
      },
      "source": [
        "#5\n",
        "n=int(input())\n",
        "for i in range(1,n+1):\n",
        "  print(i)"
      ],
      "execution_count": 27,
      "outputs": [
        {
          "output_type": "stream",
          "text": [
            "5\n",
            "1\n",
            "2\n",
            "3\n",
            "4\n",
            "5\n"
          ],
          "name": "stdout"
        }
      ]
    }
  ]
}
