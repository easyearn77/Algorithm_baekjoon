{
  "nbformat": 4,
  "nbformat_minor": 0,
  "metadata": {
    "colab": {
      "name": "5월10일_정렬2_여주.ipynb",
      "provenance": [],
      "authorship_tag": "ABX9TyMnYAKb17ZIZhJT9BlBPudr"
    },
    "kernelspec": {
      "name": "python3",
      "display_name": "Python 3"
    },
    "language_info": {
      "name": "python"
    }
  },
  "cells": [
    {
      "cell_type": "code",
      "metadata": {
        "colab": {
          "base_uri": "https://localhost:8080/"
        },
        "id": "B4SYSSJThELz",
        "outputId": "8772a981-40cc-4ad3-88b6-27c9231514fc"
      },
      "source": [
        "#1\n",
        "n = int(input())\n",
        "a = []\n",
        "for i in range(n):\n",
        "  a.append(list(map(int, input().split())))\n",
        "\n",
        "a.sort(key=lambda x: (x[0], x[1]))\n",
        "\n",
        "for i in a:\n",
        "  for j in i:\n",
        "    print(j, end=' ')\n",
        "  print()"
      ],
      "execution_count": 9,
      "outputs": [
        {
          "output_type": "stream",
          "text": [
            "5\n",
            "3 4\n",
            "1 1\n",
            "1 -1\n",
            "2 2\n",
            "3 3\n",
            "1 -1 \n",
            "1 1 \n",
            "2 2 \n",
            "3 3 \n",
            "3 4 \n"
          ],
          "name": "stdout"
        }
      ]
    },
    {
      "cell_type": "code",
      "metadata": {
        "colab": {
          "base_uri": "https://localhost:8080/"
        },
        "id": "lxdP5J6blY60",
        "outputId": "4d891d06-4cb8-4dd0-9ba6-8335c53cdfea"
      },
      "source": [
        "#2\n",
        "n = int(input())\n",
        "a = []\n",
        "for i in range(n):\n",
        "  a.append(list(map(int, input().split())))\n",
        "\n",
        "a.sort(key=lambda x: (x[1], x[0]))\n",
        "\n",
        "for i in a:\n",
        "  for j in i:\n",
        "    print(j, end=' ')\n",
        "  print()"
      ],
      "execution_count": 10,
      "outputs": [
        {
          "output_type": "stream",
          "text": [
            "5\n",
            "0 4\n",
            "1 2\n",
            "1 -1\n",
            "2 2\n",
            "3 3\n",
            "1 -1 \n",
            "1 2 \n",
            "2 2 \n",
            "3 3 \n",
            "0 4 \n"
          ],
          "name": "stdout"
        }
      ]
    },
    {
      "cell_type": "code",
      "metadata": {
        "colab": {
          "base_uri": "https://localhost:8080/"
        },
        "id": "-aLfbhWQl6Xn",
        "outputId": "e16d6cc8-d16c-45eb-a05b-066450dc993b"
      },
      "source": [
        "#3\n",
        "n = int(input())\n",
        "word = []\n",
        "for i in range(n):\n",
        "  word.append(input())\n",
        "\n",
        "set_word = list(set(word))\n",
        "sorted_word = []\n",
        "for i in set_word:\n",
        "  sorted_word.append((len(i), i))\n",
        "\n",
        "result = sorted(sorted_word)\n",
        "\n",
        "for len_word, word in result:\n",
        "  print(word)"
      ],
      "execution_count": 32,
      "outputs": [
        {
          "output_type": "stream",
          "text": [
            "13\n",
            "but\n",
            "i\n",
            "wont\n",
            "hesitate\n",
            "no\n",
            "more\n",
            "no\n",
            "more\n",
            "it\n",
            "cannot\n",
            "wait\n",
            "im\n",
            "yours\n",
            "i\n",
            "im\n",
            "it\n",
            "no\n",
            "but\n",
            "more\n",
            "wait\n",
            "wont\n",
            "yours\n",
            "cannot\n",
            "hesitate\n"
          ],
          "name": "stdout"
        }
      ]
    },
    {
      "cell_type": "code",
      "metadata": {
        "colab": {
          "base_uri": "https://localhost:8080/"
        },
        "id": "dfUxFAl2tk3R",
        "outputId": "20f5f2aa-4ce8-49fc-ebe7-c66d55e4fa6b"
      },
      "source": [
        "#4\n",
        "n = int(input())\n",
        "a = []\n",
        "for i in range(n):\n",
        "  age, name = map(str, input().split())\n",
        "  age = int(age)\n",
        "  a.append((age, name))\n",
        "\n",
        "a.sort(key=lambda x: (x[0]))\n",
        "\n",
        "for i in a:\n",
        "  print(i[0], i[1])"
      ],
      "execution_count": 21,
      "outputs": [
        {
          "output_type": "stream",
          "text": [
            "3\n",
            "21 Junkyu\n",
            "21 Dohyun\n",
            "20 Sunyoung\n",
            "20 Sunyoung\n",
            "21 Junkyu\n",
            "21 Dohyun\n"
          ],
          "name": "stdout"
        }
      ]
    },
    {
      "cell_type": "code",
      "metadata": {
        "colab": {
          "base_uri": "https://localhost:8080/"
        },
        "id": "HNI8lUKyv1Dg",
        "outputId": "2a3fe34c-2052-4702-f646-0e15df0c9dbc"
      },
      "source": [
        "#5\n",
        "n = int(input())\n",
        "\n",
        "a = list(map(int, input().split()))\n",
        "aa = sorted(list(set(a)))\n",
        "aaa = {aa[i] : i for i in range(len(aa))}\n",
        "for i in a:\n",
        "  print(aaa[i], end = ' ')"
      ],
      "execution_count": 31,
      "outputs": [
        {
          "output_type": "stream",
          "text": [
            "5\n",
            "2 4 -10 4 -9\n",
            "2 3 0 3 1 "
          ],
          "name": "stdout"
        }
      ]
    }
  ]
}