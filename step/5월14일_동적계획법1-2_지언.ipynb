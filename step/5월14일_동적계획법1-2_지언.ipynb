{
  "nbformat": 4,
  "nbformat_minor": 0,
  "metadata": {
    "colab": {
      "name": "baekjoon_동적계획법1-2.ipynb",
      "provenance": [],
      "authorship_tag": "ABX9TyMNxpoU11J0V3SGjg64WzZQ",
      "include_colab_link": true
    },
    "kernelspec": {
      "name": "python3",
      "display_name": "Python 3"
    },
    "language_info": {
      "name": "python"
    }
  },
  "cells": [
    {
      "cell_type": "markdown",
      "metadata": {
        "id": "view-in-github",
        "colab_type": "text"
      },
      "source": [
        "<a href=\"https://colab.research.google.com/github/easyearn77/Algorithm_baekjoon/blob/main/step/5%EC%9B%9414%EC%9D%BC_%EB%8F%99%EC%A0%81%EA%B3%84%ED%9A%8D%EB%B2%951-2_%EC%A7%80%EC%96%B8.ipynb\" target=\"_parent\"><img src=\"https://colab.research.google.com/assets/colab-badge.svg\" alt=\"Open In Colab\"/></a>"
      ]
    },
    {
      "cell_type": "markdown",
      "metadata": {
        "id": "JZXrcFGf9Bgs"
      },
      "source": [
        "동적 계획법1 링크:https://www.acmicpc.net/step/16"
      ]
    },
    {
      "cell_type": "code",
      "metadata": {
        "id": "SigCgBHKqHap",
        "colab": {
          "base_uri": "https://localhost:8080/"
        },
        "outputId": "887798b6-ba20-4950-ada6-cb386b3a249d"
      },
      "source": [
        "#3\n",
        "n=int(input())\n",
        "f=[0]*1000001\n",
        "f[1]=1\n",
        "f[2]=2\n",
        "for i in range(3,n+1):\n",
        "  f[i]=(f[i-2]+f[i-1])%15746\n",
        "print(f[n])"
      ],
      "execution_count": 2,
      "outputs": [
        {
          "output_type": "stream",
          "text": [
            "4\n",
            "5\n"
          ],
          "name": "stdout"
        }
      ]
    },
    {
      "cell_type": "code",
      "metadata": {
        "colab": {
          "base_uri": "https://localhost:8080/"
        },
        "id": "U4ZN_IST1V3f",
        "outputId": "78e1ed0e-1ed1-4e10-d166-edcbe4362ddd"
      },
      "source": [
        "#4\n",
        "t=[0]*101\n",
        "t[0:6]=[0,1,1,1,2,2]\n",
        "\n",
        "T=int(input())\n",
        "for _ in range(T):\n",
        "  i=int(input())\n",
        "  for j in range(6,i+1):\n",
        "    t[j]=t[j-1]+t[j-5]\n",
        "  print(t[i])\n"
      ],
      "execution_count": 13,
      "outputs": [
        {
          "output_type": "stream",
          "text": [
            "2\n",
            "6\n",
            "3\n",
            "12\n",
            "16\n"
          ],
          "name": "stdout"
        }
      ]
    }
  ]
}