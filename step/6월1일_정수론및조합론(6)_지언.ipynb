{
  "nbformat": 4,
  "nbformat_minor": 0,
  "metadata": {
    "colab": {
      "name": "baekjoon_정수론및조합론-6.ipynb",
      "provenance": [],
      "authorship_tag": "ABX9TyM7accwwXBAndWaAWXQ0PWH",
      "include_colab_link": true
    },
    "kernelspec": {
      "name": "python3",
      "display_name": "Python 3"
    },
    "language_info": {
      "name": "python"
    }
  },
  "cells": [
    {
      "cell_type": "markdown",
      "metadata": {
        "id": "view-in-github",
        "colab_type": "text"
      },
      "source": [
        "<a href=\"https://colab.research.google.com/github/easyearn77/Algorithm_baekjoon/blob/main/step/6%EC%9B%941%EC%9D%BC_%EC%A0%95%EC%88%98%EB%A1%A0%EB%B0%8F%EC%A1%B0%ED%95%A9%EB%A1%A0(6)_%EC%A7%80%EC%96%B8.ipynb\" target=\"_parent\"><img src=\"https://colab.research.google.com/assets/colab-badge.svg\" alt=\"Open In Colab\"/></a>"
      ]
    },
    {
      "cell_type": "markdown",
      "metadata": {
        "id": "_zZFDOt8x6xO"
      },
      "source": [
        "정수론 및 조합론 링크: https://www.acmicpc.net/step/18"
      ]
    },
    {
      "cell_type": "code",
      "metadata": {
        "colab": {
          "base_uri": "https://localhost:8080/"
        },
        "id": "3Y9TePigxz9p",
        "outputId": "30705a2b-b019-4e3c-c149-3396d2ccafff"
      },
      "source": [
        "#8\n",
        "def factorial(n):\n",
        "  ans=1\n",
        "  for i in range(2,n+1):\n",
        "    ans*=i\n",
        "  return ans\n",
        "\n",
        "n,k=map(int,input().split())\n",
        "print((factorial(n)//factorial(k)//factorial(n-k))%10007)"
      ],
      "execution_count": 3,
      "outputs": [
        {
          "output_type": "stream",
          "text": [
            "5 2\n",
            "10\n"
          ],
          "name": "stdout"
        }
      ]
    }
  ]
}