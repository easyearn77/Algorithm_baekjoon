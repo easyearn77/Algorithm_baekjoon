{
  "nbformat": 4,
  "nbformat_minor": 0,
  "metadata": {
    "colab": {
      "name": "5월5일_기본수학2_여주.ipynb",
      "provenance": [],
<<<<<<< HEAD
      "authorship_tag": "ABX9TyNAj3rLr2wnjip8oLwnYdeN",
      "include_colab_link": true
=======
      "authorship_tag": "ABX9TyNAj3rLr2wnjip8oLwnYdeN"
>>>>>>> upstream/main
    },
    "kernelspec": {
      "name": "python3",
      "display_name": "Python 3"
    },
    "language_info": {
      "name": "python"
    }
  },
  "cells": [
    {
<<<<<<< HEAD
      "cell_type": "markdown",
      "metadata": {
        "id": "view-in-github",
        "colab_type": "text"
      },
      "source": [
        "<a href=\"https://colab.research.google.com/github/yeojoo1224/Algorithm_baekjoon/blob/main/step/5%EC%9B%945%EC%9D%BC_%EA%B8%B0%EB%B3%B8%EC%88%98%ED%95%992_%EC%97%AC%EC%A3%BC.ipynb\" target=\"_parent\"><img src=\"https://colab.research.google.com/assets/colab-badge.svg\" alt=\"Open In Colab\"/></a>"
      ]
    },
    {
=======
>>>>>>> upstream/main
      "cell_type": "code",
      "metadata": {
        "colab": {
          "base_uri": "https://localhost:8080/"
        },
        "id": "wO6sYkGlC8hX",
        "outputId": "d096874e-84aa-4cd3-dd9b-945a50a5a9a5"
      },
      "source": [
        "#1\n",
        "n = int(input())\n",
        "num = list(map(int, input().split()))\n",
        "sosu = 0\n",
        "for i in range(n):\n",
        "  count = 0\n",
        "  if num[i] == 1:\n",
        "    continue\n",
        "  for j in range(2, num[i]+1):\n",
        "    if num[i]%j == 0:\n",
        "      count += 1\n",
        "  if count == 1:\n",
        "    sosu += 1\n",
        "print(sosu)"
      ],
      "execution_count": 23,
      "outputs": [
        {
          "output_type": "stream",
          "text": [
            "4\n",
            "2 3 4 9\n",
            "2\n"
          ],
          "name": "stdout"
        }
      ]
    },
    {
      "cell_type": "code",
      "metadata": {
        "colab": {
          "base_uri": "https://localhost:8080/"
        },
        "id": "MKVI6NHHGZvP",
        "outputId": "c30be740-6990-4407-a2c5-1325f9b44ea0"
      },
      "source": [
        "#2\n",
        "m = int(input())\n",
        "n = int(input())\n",
        "sosu = []\n",
        "sum = 0\n",
        "for i in range(m, n+1):\n",
        "  count = 0\n",
        "  for j in range(1, i+1):\n",
        "    if i%j == 0:\n",
        "      count += 1\n",
        "      if count > 2:\n",
        "        break\n",
        "  if count == 2:\n",
        "    sosu.append(i)\n",
        "    sum += i\n",
        "if len(sosu)!=0:\n",
        "  print(sum)\n",
        "  print(sosu[0])\n",
        "else:\n",
        "  print('-1')"
      ],
      "execution_count": 39,
      "outputs": [
        {
          "output_type": "stream",
          "text": [
            "10\n",
            "50\n",
            "311\n",
            "11\n"
          ],
          "name": "stdout"
        }
      ]
    },
    {
      "cell_type": "code",
      "metadata": {
        "colab": {
          "base_uri": "https://localhost:8080/"
        },
        "id": "ep6jN3EzXZZM",
        "outputId": "35601b94-c050-4d82-acc0-d5b202a66d65"
      },
      "source": [
        "#3\n",
        "n = int(input())\n",
        "i = 2\n",
        "while n!=1:\n",
        "  if n % i == 0:\n",
        "    n /= i\n",
        "    print(i)\n",
        "  else:\n",
        "    i += 1"
      ],
      "execution_count": 48,
      "outputs": [
        {
          "output_type": "stream",
          "text": [
            "1\n"
          ],
          "name": "stdout"
        }
      ]
    },
    {
      "cell_type": "code",
      "metadata": {
        "colab": {
          "base_uri": "https://localhost:8080/"
        },
        "id": "Gp2C23GAob7u",
        "outputId": "1cbee94c-c307-4888-e459-146b4484a59e"
      },
      "source": [
        "#4\n",
        "m, n = map(int, input().split())\n",
        "def isPrime(x):\n",
        "  if(x<2):\n",
        "    return False\n",
        "  for i in range(2, int(x**0.5)+1):\n",
        "    if(x%i==0):\n",
        "      return False\n",
        "  return True\n",
        "\n",
        "for i in range(m, n+1):\n",
        "  if(isPrime(i)):\n",
        "    print(i)"
      ],
      "execution_count": 57,
      "outputs": [
        {
          "output_type": "stream",
          "text": [
            "1 10\n",
            "2\n",
            "3\n",
            "5\n",
            "7\n"
          ],
          "name": "stdout"
        }
      ]
    },
    {
      "cell_type": "code",
      "metadata": {
        "colab": {
          "base_uri": "https://localhost:8080/"
        },
        "id": "KLCb3k8lp5uY",
        "outputId": "bae21e8f-1ae9-4af7-d088-af694ebdd4c2"
      },
      "source": [
        "#5\n",
        "def isPrime(x):\n",
        "  if(x<2):\n",
        "    return False\n",
        "  for i in range(2, int(x**0.5)+1):\n",
        "    if(x%i==0):\n",
        "      return False\n",
        "  return True\n",
        "\n",
        "li = list(range(2, 246912))\n",
        "sosu = []\n",
        "for i in li:\n",
        "  if isPrime(i):\n",
        "    sosu.append(i)\n",
        "\n",
        "while(1):\n",
        "  n = int(input())\n",
        "  count = 0\n",
        "  if n == 0:\n",
        "    break\n",
        "  for i in sosu:\n",
        "    if n < i <= 2*n:\n",
        "      count += 1\n",
        "  print(count)"
      ],
      "execution_count": 68,
      "outputs": [
        {
          "output_type": "stream",
          "text": [
            "1\n",
            "1\n",
            "10\n",
            "4\n",
            "13\n",
            "3\n",
            "0\n"
          ],
          "name": "stdout"
        }
      ]
    },
    {
      "cell_type": "code",
      "metadata": {
        "colab": {
          "base_uri": "https://localhost:8080/"
        },
        "id": "XOiZt5UbzXXU",
        "outputId": "02e80782-53f6-459d-8a24-32adcbcd5fa3"
      },
      "source": [
        "#6 답지 참조, 너무 어렵다ㅠ\n",
        "sosu = [0 for i in range(10001)]\n",
        "sosu[1] = 1\n",
        "for i in range(2, 98):\n",
        "    for j in range(i * 2, 10001, i):\n",
        "        sosu[j] = 1\n",
        "n = int(input())\n",
        "for i in range(n):\n",
        "    a = int(input())\n",
        "    b = a // 2\n",
        "    for j in range(b, 1, -1):\n",
        "        if sosu[a - j] == 0 and sosu[j] == 0:\n",
        "            print(j, a - j)\n",
        "            break"
      ],
      "execution_count": 92,
      "outputs": [
        {
          "output_type": "stream",
          "text": [
            "3\n",
            "8\n",
            "3 5\n",
            "10\n",
            "5 5\n",
            "16\n",
            "5 11\n"
          ],
          "name": "stdout"
        }
      ]
    },
    {
      "cell_type": "code",
      "metadata": {
        "colab": {
          "base_uri": "https://localhost:8080/"
        },
        "id": "e3-lK5WL33Cx",
        "outputId": "e885e079-e4e3-4a6f-cdbf-68e87d22db4d"
      },
      "source": [
        "#7\n",
        "x, y, w, h = map(int, input().split())\n",
        "list = [x, y, w-x, h-y]\n",
        "print(min(list))"
      ],
      "execution_count": 69,
      "outputs": [
        {
          "output_type": "stream",
          "text": [
            "6 2 10 3\n",
            "1\n"
          ],
          "name": "stdout"
        }
      ]
    },
    {
      "cell_type": "code",
      "metadata": {
        "colab": {
          "base_uri": "https://localhost:8080/"
        },
        "id": "RpRGrNs94hB4",
        "outputId": "581def03-84a2-4e1b-a7aa-df1903c3eb62"
      },
      "source": [
        "#8\n",
        "x = []\n",
        "y = []\n",
        "for i in range(3):\n",
        "  a, b = map(int, input().split())\n",
        "  x.append(a)\n",
        "  y.append(b)\n",
        "\n",
        "for j in range(3):\n",
        "  if x.count(x[j])==1:\n",
        "    cx = x[j]\n",
        "  if y.count(y[j])==1:\n",
        "    cy = y[j]\n",
        "\n",
        "print(cx, cy)\n"
      ],
      "execution_count": 74,
      "outputs": [
        {
          "output_type": "stream",
          "text": [
            "30 20\n",
            "10 10\n",
            "10 20\n",
            "30 10\n"
          ],
          "name": "stdout"
        }
      ]
    },
    {
      "cell_type": "code",
      "metadata": {
        "colab": {
          "base_uri": "https://localhost:8080/"
        },
        "id": "nblNHIZJ9X_O",
        "outputId": "906dfcc4-4872-49ac-e83c-c02fe7b04e2e"
      },
      "source": [
        "#9\n",
        "while(1):\n",
        "  a, b, c = map(int,input().split())\n",
        "  tri = [a, b, c]\n",
        "  if tri == [0, 0, 0]:\n",
        "    break\n",
        "  max_side_idx = tri.index(max(tri))\n",
        "  max_side = max(tri)\n",
        "  del tri[max_side_idx]\n",
        "  if max_side**2 == tri[0]**2 + tri[1]**2:\n",
        "    print(\"right\")\n",
        "  else:\n",
        "    print(\"wrong\")\n"
      ],
      "execution_count": 77,
      "outputs": [
        {
          "output_type": "stream",
          "text": [
            "6 10 8\n",
            "right\n",
            "25 52 60\n",
            "wrong\n",
            "5 12 13\n",
            "right\n",
            "0 0 0\n"
          ],
          "name": "stdout"
        }
      ]
    },
    {
      "cell_type": "code",
      "metadata": {
        "colab": {
          "base_uri": "https://localhost:8080/"
        },
        "id": "f0DFWyupJmAi",
        "outputId": "3cedf9c2-e9f0-41e9-cf80-8f9737536996"
      },
      "source": [
        "#10\n",
        "import math\n",
        "n = int(input())\n",
        "print(math.pi*n**2)\n",
        "print(2*n**2)"
      ],
      "execution_count": 80,
      "outputs": [
        {
          "output_type": "stream",
          "text": [
            "21\n",
            "1385.4423602330987\n",
            "882\n"
          ],
          "name": "stdout"
        }
      ]
    },
    {
      "cell_type": "code",
      "metadata": {
        "colab": {
          "base_uri": "https://localhost:8080/"
        },
        "id": "4wQdul15LQN5",
        "outputId": "c48a10a8-d8cb-431d-8265-ac05c6a25fd6"
      },
      "source": [
        "#11\n",
        "import math\n",
        "import numpy as np\n",
        "n = int(input())\n",
        "for i in range(n):\n",
        "  x1, y1, r1, x2, y2, r2 = map(int, input().split())\n",
        "  dist = math.sqrt((x1-x2)**2+(y1-y2)**2)\n",
        "  r = [r1, r2, dist]\n",
        "  m = max(r)\n",
        "  r.remove(m)\n",
        "\n",
        "  if dist==0 and r1==r2:\n",
        "    print(-1)\n",
        "  elif dist==r1+r2 or m==np.sum(r):\n",
        "    print(1)\n",
        "  elif m>np.sum(r):\n",
        "    print(0)\n",
        "  else:\n",
        "    print(2)\n"
      ],
      "execution_count": 91,
      "outputs": [
        {
          "output_type": "stream",
          "text": [
            "3\n",
            "0 0 13 40 0 37\n",
            "2\n",
            "0 0 3 0 7 4\n",
            "1\n",
            "1 1 1 1 1 5\n",
            "0\n"
          ],
          "name": "stdout"
        }
      ]
    }
  ]
}