{
  "nbformat": 4,
  "nbformat_minor": 0,
  "metadata": {
    "colab": {
      "name": "baekjoon_동적계획법 1-9.ipynb",
      "provenance": [],
      "authorship_tag": "ABX9TyPpXQ2vQIio050Wao+vxrAC",
      "include_colab_link": true
    },
    "kernelspec": {
      "name": "python3",
      "display_name": "Python 3"
    },
    "language_info": {
      "name": "python"
    }
  },
  "cells": [
    {
      "cell_type": "markdown",
      "metadata": {
        "id": "view-in-github",
        "colab_type": "text"
      },
      "source": [
        "<a href=\"https://colab.research.google.com/github/easyearn77/Algorithm_baekjoon/blob/main/step/5%EC%9B%9423%EC%9D%BC_%EB%8F%99%EC%A0%81%EA%B3%84%ED%9A%8D%EB%B2%95_1-9_%EC%A7%80%EC%96%B8.ipynb\" target=\"_parent\"><img src=\"https://colab.research.google.com/assets/colab-badge.svg\" alt=\"Open In Colab\"/></a>"
      ]
    },
    {
      "cell_type": "markdown",
      "metadata": {
        "id": "j6xsvnUwSE1m"
      },
      "source": [
        "동적계획법1 링크: https://www.acmicpc.net/step/16"
      ]
    },
    {
      "cell_type": "code",
      "metadata": {
        "colab": {
          "base_uri": "https://localhost:8080/"
        },
        "id": "wTnHxXOoEU9M",
        "outputId": "31dc7c24-b6ad-425d-db7d-64b3f5784fbc"
      },
      "source": [
        "#16\n",
        "n,k=map(int,input().split())\n",
        "w=[0]*n\n",
        "v=[0]*n\n",
        "for i in range(n):\n",
        "  w[i],v[i]=map(int,input().split())\n",
        "ans=[[0]*(k+1) for _ in range(n)]\n",
        "for i in range(k+1):\n",
        "  if i>=w[0]:\n",
        "    ans[0][i]=v[0]\n",
        "for i in range(1,k+1):\n",
        "  for j in range(1,n):\n",
        "    if i>=w[j]:\n",
        "      ans[j][i]=max(ans[j-1][i],ans[j-1][i-w[j]]+v[j])\n",
        "    else:\n",
        "      ans[j][i]=ans[j-1][i]\n",
        "print(ans[n-1][k])\n"
      ],
      "execution_count": 12,
      "outputs": [
        {
          "output_type": "stream",
          "text": [
            "4 7\n",
            "6 13\n",
            "4 8\n",
            "3 6\n",
            "5 12\n",
            "14\n",
            "[[0, 0, 0, 0, 0, 0, 13, 13], [0, 0, 0, 0, 8, 8, 13, 13], [0, 0, 0, 6, 8, 8, 13, 14], [0, 0, 0, 6, 8, 12, 13, 14]]\n"
          ],
          "name": "stdout"
        }
      ]
    }
  ]
}