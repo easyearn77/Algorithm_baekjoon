{
  "nbformat": 4,
  "nbformat_minor": 0,
  "metadata": {
    "colab": {
      "name": "baekjoon_정렬2.ipynb",
      "provenance": [],
      "authorship_tag": "ABX9TyMQHmj2dIiMoLLC5iAAucIz",
      "include_colab_link": true
    },
    "kernelspec": {
      "name": "python3",
      "display_name": "Python 3"
    },
    "language_info": {
      "name": "python"
    }
  },
  "cells": [
    {
      "cell_type": "markdown",
      "metadata": {
        "id": "view-in-github",
        "colab_type": "text"
      },
      "source": [
        "<a href=\"https://colab.research.google.com/github/easyearn77/Algorithm_baekjoon/blob/main/step/5%EC%9B%9410%EC%9D%BC_%EC%A0%95%EB%A0%AC2_%EC%A7%80%EC%96%B8.ipynb\" target=\"_parent\"><img src=\"https://colab.research.google.com/assets/colab-badge.svg\" alt=\"Open In Colab\"/></a>"
      ]
    },
    {
      "cell_type": "markdown",
      "metadata": {
        "id": "xHF8x1xsjce6"
      },
      "source": [
        "정렬 링크: https://www.acmicpc.net/step/9"
      ]
    },
    {
      "cell_type": "code",
      "metadata": {
        "colab": {
          "base_uri": "https://localhost:8080/"
        },
        "id": "iollcTCqjblQ",
        "outputId": "c6433c77-7ea3-4e43-a77e-cb7a7e495789"
      },
      "source": [
        "#6 lambda사용\n",
        "n=int(input())\n",
        "p=[]\n",
        "for i in range(n):\n",
        "  p.append(list(map(int, input().split())))\n",
        "p.sort(key=lambda x: (x[0],x[1]))\n",
        "\n",
        "for i in p:\n",
        "  print(i[0],i[1])"
      ],
      "execution_count": 1,
      "outputs": [
        {
          "output_type": "stream",
          "text": [
            "5\n",
            "3 4\n",
            "1 1\n",
            "1 -1\n",
            "2 2\n",
            "3 3\n",
            "1 -1\n",
            "1 1\n",
            "2 2\n",
            "3 3\n",
            "3 4\n"
          ],
          "name": "stdout"
        }
      ]
    },
    {
      "cell_type": "code",
      "metadata": {
        "id": "uh1XIzgejWJf"
      },
      "source": [
        "#7\n",
        "n=int(input())\n",
        "p=[]\n",
        "for _ in range(n):\n",
        "  p.append(list(map(int,input().split())))\n",
        "\n",
        "p.sort(key=lambda y: (y[1],y[0]))\n",
        "\n",
        "for i in p:\n",
        "  print(i[0],i[1])"
      ],
      "execution_count": null,
      "outputs": []
    },
    {
      "cell_type": "code",
      "metadata": {
        "colab": {
          "base_uri": "https://localhost:8080/"
        },
        "id": "jkPw22COntz6",
        "outputId": "11fd3a26-7613-4cfd-d26f-c7301b1c7f55"
      },
      "source": [
        "#8\n",
        "n=int(input())\n",
        "words=[]\n",
        "for _ in range(n):\n",
        "  w=str(input())\n",
        "  words.append((len(w),w))\n",
        "\n",
        "#중복삭제\n",
        "words=list(set(words))\n",
        "\n",
        "words.sort(key=lambda x: (x[0],x[1]))\n",
        "\n",
        "for i in words:\n",
        "  print(i[1])"
      ],
      "execution_count": 5,
      "outputs": [
        {
          "output_type": "stream",
          "text": [
            "5\n",
            "no\n",
            "but\n",
            "it\n",
            "im\n",
            "i\n",
            "i\n",
            "im\n",
            "it\n",
            "no\n",
            "but\n"
          ],
          "name": "stdout"
        }
      ]
    },
    {
      "cell_type": "code",
      "metadata": {
        "colab": {
          "base_uri": "https://localhost:8080/"
        },
        "id": "zeUqLPqbq15Q",
        "outputId": "0c0752d5-6a2c-4369-9dc9-0271ae1cd037"
      },
      "source": [
        "#9\n",
        "n=int(input())\n",
        "customers=[]\n",
        "for i in range(n):\n",
        "  age,name=input().split()\n",
        "  customers.append((int(age),name,i))\n",
        "\n",
        "customers.sort(key=lambda x: (x[0],x[2]))\n",
        "\n",
        "for c in customers:\n",
        "  print(c[0],c[1])"
      ],
      "execution_count": 7,
      "outputs": [
        {
          "output_type": "stream",
          "text": [
            "3\n",
            "21 Junkyu\n",
            "21 Dohyun\n",
            "20 Sunyoung\n",
            "20 Sunyoung\n",
            "21 Junkyu\n",
            "21 Dohyun\n"
          ],
          "name": "stdout"
        }
      ]
    },
    {
      "cell_type": "code",
      "metadata": {
        "colab": {
          "base_uri": "https://localhost:8080/"
        },
        "id": "d7WMPwITshLG",
        "outputId": "59b1b454-bb75-4a41-f7ef-a0df641a7b3c"
      },
      "source": [
        "#10\n",
        "n=int(input())\n",
        "nums=list(map(int,input().split()))\n",
        "\n",
        "#중복삭제>리스트 저장\n",
        "com=list(sorted(set(nums)))\n",
        "dic={com[i]:i for i in range(len(com))}\n",
        "\n",
        "for i in nums:\n",
        "  print(dic[i],end=' ')"
      ],
      "execution_count": 16,
      "outputs": [
        {
          "output_type": "stream",
          "text": [
            "5 \n",
            "2 4 -10 4 -9\n",
            "2 3 0 3 1 "
          ],
          "name": "stdout"
        }
      ]
    }
  ]
}