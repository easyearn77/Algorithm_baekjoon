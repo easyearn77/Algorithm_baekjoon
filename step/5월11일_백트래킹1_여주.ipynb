{
  "nbformat": 4,
  "nbformat_minor": 0,
  "metadata": {
    "colab": {
      "name": "5월11일_백트래킹1_여주.ipynb",
      "provenance": [],
      "authorship_tag": "ABX9TyPDZtL6Sw7aOuq9S9u7NgHj"
    },
    "kernelspec": {
      "name": "python3",
      "display_name": "Python 3"
    },
    "language_info": {
      "name": "python"
    }
  },
  "cells": [
    {
      "cell_type": "code",
      "metadata": {
        "colab": {
          "base_uri": "https://localhost:8080/"
        },
        "id": "bBkAJZcALs4y",
        "outputId": "9461deb3-73e5-46bc-ddb4-772193e44e90"
      },
      "source": [
        "#1 \n",
        "n, m = map(int, input().split())\n",
        "check_list = [False]*n\n",
        "output = []\n",
        "\n",
        "def dfs(depth, n, m):\n",
        "  if depth == m:\n",
        "    print(' '.join([str(x) for x in output]))\n",
        "    return\n",
        "  for i in range(n):\n",
        "    if check_list[i]:\n",
        "      continue\n",
        "    check_list[i] = True\n",
        "    output.append(i+1)\n",
        "    dfs(depth+1, n, m)      \n",
        "    output.pop()\n",
        "    check_list[i] = False\n",
        "\n",
        "dfs(0, n, m)"
      ],
      "execution_count": 15,
      "outputs": [
        {
          "output_type": "stream",
          "text": [
            "4 4\n",
            "1 2 3 4\n",
            "1 2 4 3\n",
            "1 3 2 4\n",
            "1 3 4 2\n",
            "1 4 2 3\n",
            "1 4 3 2\n",
            "2 1 3 4\n",
            "2 1 4 3\n",
            "2 3 1 4\n",
            "2 3 4 1\n",
            "2 4 1 3\n",
            "2 4 3 1\n",
            "3 1 2 4\n",
            "3 1 4 2\n",
            "3 2 1 4\n",
            "3 2 4 1\n",
            "3 4 1 2\n",
            "3 4 2 1\n",
            "4 1 2 3\n",
            "4 1 3 2\n",
            "4 2 1 3\n",
            "4 2 3 1\n",
            "4 3 1 2\n",
            "4 3 2 1\n"
          ],
          "name": "stdout"
        }
      ]
    },
    {
      "cell_type": "code",
      "metadata": {
        "colab": {
          "base_uri": "https://localhost:8080/"
        },
        "id": "EornM_N8YZTh",
        "outputId": "840f2d6e-00f9-48c8-fbd6-63ce42241e30"
      },
      "source": [
        "#2\n",
        "n, m = map(int, input().split())\n",
        "check_list = [False]*n\n",
        "output = []\n",
        "\n",
        "def dfs(depth, n, m):\n",
        "  if depth == m:\n",
        "    print(' '.join([str(x) for x in output]))\n",
        "    return\n",
        "  for i in range(n):\n",
        "    if check_list[i]:\n",
        "      continue\n",
        "    check_list[i] = True\n",
        "    output.append(i+1)\n",
        "    dfs(depth+1, n, m)      \n",
        "    output.pop()\n",
        "    for j in range(i+1, n):\n",
        "      check_list[j] = False\n",
        "\n",
        "dfs(0, n, m)"
      ],
      "execution_count": 18,
      "outputs": [
        {
          "output_type": "stream",
          "text": [
            "4 2\n",
            "1 2\n",
            "1 3\n",
            "1 4\n",
            "2 3\n",
            "2 4\n",
            "3 4\n"
          ],
          "name": "stdout"
        }
      ]
    },
    {
      "cell_type": "code",
      "metadata": {
        "colab": {
          "base_uri": "https://localhost:8080/"
        },
        "id": "3Wj_RkzuZ8OD",
        "outputId": "4b17f273-7fb7-44fd-b9af-40b63619962a"
      },
      "source": [
        "#3\n",
        "n, m = map(int, input().split())\n",
        "check_list = [False]*n\n",
        "output = []\n",
        "\n",
        "def dfs(depth, n, m):\n",
        "  if depth == m:\n",
        "    print(' '.join([str(x) for x in output]))\n",
        "    return\n",
        "  for i in range(n):\n",
        "    output.append(i+1)\n",
        "    dfs(depth+1, n, m)      \n",
        "    output.pop()\n",
        "\n",
        "dfs(0, n, m)"
      ],
      "execution_count": 19,
      "outputs": [
        {
          "output_type": "stream",
          "text": [
            "4 2\n",
            "1 1\n",
            "1 2\n",
            "1 3\n",
            "1 4\n",
            "2 1\n",
            "2 2\n",
            "2 3\n",
            "2 4\n",
            "3 1\n",
            "3 2\n",
            "3 3\n",
            "3 4\n",
            "4 1\n",
            "4 2\n",
            "4 3\n",
            "4 4\n"
          ],
          "name": "stdout"
        }
      ]
    },
    {
      "cell_type": "code",
      "metadata": {
        "colab": {
          "base_uri": "https://localhost:8080/"
        },
        "id": "9SsM63EKcmnT",
        "outputId": "d435d9ca-8448-495d-dbf7-c42f36e6ed7d"
      },
      "source": [
        "#4\n",
        "n, m = map(int, input().split())\n",
        "check_list = [False]*n\n",
        "output = []\n",
        "\n",
        "def dfs(depth, n, m):\n",
        "  if depth == m:\n",
        "    print(' '.join([str(x) for x in output]))\n",
        "    return\n",
        "  for i in range(n):\n",
        "    if check_list[i]:\n",
        "      continue\n",
        "    output.append(i+1)\n",
        "    dfs(depth+1, n, m)\n",
        "    check_list[i] = True   \n",
        "    output.pop()\n",
        "    for j in range(i+1, n):\n",
        "      check_list[j] = False\n",
        "\n",
        "dfs(0, n, m)"
      ],
      "execution_count": 22,
      "outputs": [
        {
          "output_type": "stream",
          "text": [
            "3 3\n",
            "1 1 1\n",
            "1 1 2\n",
            "1 1 3\n",
            "1 2 2\n",
            "1 2 3\n",
            "1 3 3\n",
            "2 2 2\n",
            "2 2 3\n",
            "2 3 3\n",
            "3 3 3\n"
          ],
          "name": "stdout"
        }
      ]
    }
  ]
}