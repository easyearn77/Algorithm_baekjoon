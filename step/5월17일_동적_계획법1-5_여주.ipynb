{
  "nbformat": 4,
  "nbformat_minor": 0,
  "metadata": {
    "colab": {
      "name": "5월17일_동적_계획법1-5_여주.ipynb",
      "provenance": [],
      "authorship_tag": "ABX9TyMlehM7t8jjQ900HGKTkj/2"
    },
    "kernelspec": {
      "name": "python3",
      "display_name": "Python 3"
    },
    "language_info": {
      "name": "python"
    }
  },
  "cells": [
    {
      "cell_type": "code",
      "metadata": {
        "colab": {
          "base_uri": "https://localhost:8080/"
        },
        "id": "E77H0eOmLSkk",
        "outputId": "82ea3aee-d5ac-4dba-9c9e-2fe736f98cf5"
      },
      "source": [
        "#9\n",
        "n = int(input())\n",
        "stair_num = [[0]*10 for _ in range(n+1)]\n",
        "for i in range(1, 10):\n",
        "  stair_num[1][i] = 1\n",
        "\n",
        "for i in range(2, n+1):\n",
        "  for j in range(10):\n",
        "    if j == 0:\n",
        "      stair_num[i][j] = stair_num[i-1][1]\n",
        "    elif j == 9:\n",
        "      stair_num[i][j] = stair_num[i-1][8]\n",
        "    else:\n",
        "      stair_num[i][j] = stair_num[i-1][j-1] + stair_num[i-1][j+1]\n",
        "\n",
        "print(sum(stair_num[n])%1000000000)"
      ],
      "execution_count": 6,
      "outputs": [
        {
          "output_type": "stream",
          "text": [
            "2\n",
            "17\n"
          ],
          "name": "stdout"
        }
      ]
    },
    {
      "cell_type": "code",
      "metadata": {
        "colab": {
          "base_uri": "https://localhost:8080/"
        },
        "id": "E3DR1xpRLj_X",
        "outputId": "9a640b3c-c197-41d9-9fa2-a5a12741d1ba"
      },
      "source": [
        "#10\n",
        "n = int(input())\n",
        "podo = [0]*10001\n",
        "max_podo = [0]*10001\n",
        "\n",
        "for i in range(n):\n",
        "  podo[i] = (int(input()))\n",
        "\n",
        "max_podo[0] = podo[0]\n",
        "max_podo[1] = podo[0] + podo[1]\n",
        "max_podo[2] = max(podo[0]+podo[2], podo[1]+podo[2], max_podo[1])\n",
        "for i in range(3, n):\n",
        "  max_podo[i] = max(podo[i]+max_podo[i-2], podo[i]+podo[i-1]+max_podo[i-3], max_podo[i-1])\n",
        "\n",
        "print(max(max_podo))"
      ],
      "execution_count": 11,
      "outputs": [
        {
          "output_type": "stream",
          "text": [
            "6\n",
            "6\n",
            "10\n",
            "13\n",
            "9\n",
            "8\n",
            "1\n",
            "33\n"
          ],
          "name": "stdout"
        }
      ]
    }
  ]
}