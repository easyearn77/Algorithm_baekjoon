{
  "nbformat": 4,
  "nbformat_minor": 0,
  "metadata": {
    "colab": {
      "name": "baekjoon_동적계획법1-8.ipynb",
      "provenance": [],
      "authorship_tag": "ABX9TyO06xuu4kRycSqJk7BGZgKA",
      "include_colab_link": true
    },
    "kernelspec": {
      "name": "python3",
      "display_name": "Python 3"
    },
    "language_info": {
      "name": "python"
    }
  },
  "cells": [
    {
      "cell_type": "markdown",
      "metadata": {
        "id": "view-in-github",
        "colab_type": "text"
      },
      "source": [
        "<a href=\"https://colab.research.google.com/github/easyearn77/Algorithm_baekjoon/blob/main/step/5%EC%9B%9422%EC%9D%BC_%EB%8F%99%EC%A0%81%EA%B3%84%ED%9A%8D%EB%B2%951-8_%EC%A7%80%EC%96%B8.ipynb\" target=\"_parent\"><img src=\"https://colab.research.google.com/assets/colab-badge.svg\" alt=\"Open In Colab\"/></a>"
      ]
    },
    {
      "cell_type": "markdown",
      "metadata": {
        "id": "r20YbhCvRuaz"
      },
      "source": [
        "동적계획법1 링크: https://www.acmicpc.net/step/16"
      ]
    },
    {
      "cell_type": "code",
      "metadata": {
        "id": "RN7aaHK4_2sj",
        "colab": {
          "base_uri": "https://localhost:8080/"
        },
        "outputId": "e9d300c9-4061-43d1-f63b-ec4a93ddddd2"
      },
      "source": [
        "#14\n",
        "a1=' '+input()\n",
        "a2=' '+input()\n",
        "ans=[[0]*len(a2) for _ in range(len(a1))]\n",
        "for i in range(1,len(a1)):\n",
        "  for j in range(1,len(a2)):\n",
        "    if a1[i]==a2[j]:\n",
        "      ans[i][j]=ans[i-1][j-1]+1\n",
        "    else:\n",
        "      ans[i][j]=max(ans[i-1][j],ans[i][j-1])\n",
        "print(ans[-1][-1])"
      ],
      "execution_count": null,
      "outputs": [
        {
          "output_type": "stream",
          "text": [
            "ACAYKP\n",
            "CAPCAK\n",
            "4\n"
          ],
          "name": "stdout"
        }
      ]
    },
    {
      "cell_type": "markdown",
      "metadata": {
        "id": "fYpkxC1PRJ8r"
      },
      "source": [
        "#14 리뷰:\n",
        "음... 조금 어려웠다. 브루스포트랑 동적계획법이 섞인 문제 같다. 하지만 브루스 포트를 좀 더 유용하게 하기 위해 2차원 배열을 사용해서 LCS의 길이를 찾아간 것 같다. 비록 이번엔 풀지 못했지만, 다음엔 이를 활용할 수 있을 것 같다."
      ]
    },
    {
      "cell_type": "code",
      "metadata": {
        "id": "f1ThEiriRqYo",
        "colab": {
          "base_uri": "https://localhost:8080/"
        },
        "outputId": "43a3934e-2160-413d-bb5d-dfd67872ad50"
      },
      "source": [
        "#15\n",
        "n=int(input())\n",
        "arr=list(map(int,input().split()))\n",
        "ans=[0]*n\n",
        "ans[0]=arr[0]\n",
        "for i in range(1,n):\n",
        "  ans[i]=max(ans[i-1]+arr[i],arr[i])\n",
        "print(max(ans))"
      ],
      "execution_count": 10,
      "outputs": [
        {
          "output_type": "stream",
          "text": [
            "10\n",
            "2 1 -4 3 4 -4 6 5 -5 1\n",
            "14\n"
          ],
          "name": "stdout"
        }
      ]
    },
    {
      "cell_type": "markdown",
      "metadata": {
        "id": "2QTHZjIMbnad"
      },
      "source": [
        "\n",
        "#15 리뷰:\n",
        "15번은 쉬웠다. 간단히 생각하면 풀 수 있는 문제였다. 그 전 항과 비교해서 합이 가장 큰 순서만 찾으면 되는 문제라서 순서대로 비교하면서 합이 가장 큰 것을 찾으면 되었다."
      ]
    }
  ]
}