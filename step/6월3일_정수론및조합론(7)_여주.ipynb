{
  "nbformat": 4,
  "nbformat_minor": 0,
  "metadata": {
    "colab": {
      "name": "6월3일_정수론및조합론(7)_여주.ipynb",
      "provenance": [],
      "authorship_tag": "ABX9TyPq5IvAr1DD4CrTfZvfXoV2"
    },
    "kernelspec": {
      "name": "python3",
      "display_name": "Python 3"
    },
    "language_info": {
      "name": "python"
    }
  },
  "cells": [
    {
      "cell_type": "code",
      "metadata": {
        "colab": {
          "base_uri": "https://localhost:8080/"
        },
        "id": "VSHOxoWgEq2M",
        "outputId": "9c0804e5-942d-4adb-80b9-eca53d3ce1ef"
      },
      "source": [
        "#10\n",
        "n = int(input())\n",
        "for _ in range(n):\n",
        "  m = int(input())\n",
        "\n",
        "  cloth = []\n",
        "  for i in range(m):\n",
        "    cloth.append(input().split()[1])\n",
        "  \n",
        "  set_cloth = tuple(set(cloth))\n",
        "\n",
        "  type = []\n",
        "  for i in range(len(set_cloth)):\n",
        "    type.append(cloth.count(set_cloth[i]))\n",
        "\n",
        "  ans = 1\n",
        "  for i in type:\n",
        "    ans *= (i+1)\n",
        "  \n",
        "  print(ans - 1)"
      ],
      "execution_count": 2,
      "outputs": [
        {
          "output_type": "stream",
          "text": [
            "2\n",
            "3\n",
            "hat headgear\n",
            "sunglasses eyewear\n",
            "turban headgear\n",
            "5\n",
            "3\n",
            "mask face\n",
            "sunglasses face\n",
            "makeup face\n",
            "3\n"
          ],
          "name": "stdout"
        }
      ]
    }
  ]
}