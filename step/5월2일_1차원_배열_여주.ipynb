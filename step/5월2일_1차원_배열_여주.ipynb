{
  "nbformat": 4,
  "nbformat_minor": 0,
  "metadata": {
    "colab": {
      "name": "1D_list_여주.ipynb",
      "provenance": [],
      "collapsed_sections": [],
      "authorship_tag": "ABX9TyNYw2F4NlpBUcl56lIpUBXw"
    },
    "kernelspec": {
      "name": "python3",
      "display_name": "Python 3"
    },
    "language_info": {
      "name": "python"
    }
  },
  "cells": [
    {
      "cell_type": "code",
      "metadata": {
        "colab": {
          "base_uri": "https://localhost:8080/"
        },
        "id": "DOd_NzdS62EF",
        "outputId": "6ccd0662-eaeb-4e63-c1c7-710d074b6dc0"
      },
      "source": [
        "#1\n",
        "n = int(input())\n",
        "a = list(map(int, input().split()))\n",
        "max = a[0]\n",
        "min = a[0]\n",
        "\n",
        "for i in range(n):\n",
        "  if a[i] > max:\n",
        "    max = a[i]\n",
        "  if a[i] < min:\n",
        "    min = a[i]\n",
        "\n",
        "print(min, max)"
      ],
      "execution_count": 1,
      "outputs": [
        {
          "output_type": "stream",
          "text": [
            "5\n",
            "20 10 35 30 7\n",
            "7 35\n"
          ],
          "name": "stdout"
        }
      ]
    },
    {
      "cell_type": "code",
      "metadata": {
        "colab": {
          "base_uri": "https://localhost:8080/"
        },
        "id": "IJx4lieu8ADr",
        "outputId": "ac0fd9fe-fe04-4f2b-8cc6-79382886579c"
      },
      "source": [
        "#2\n",
        "a = []\n",
        "\n",
        "for i in range(9):\n",
        "  a.append(int(input()))\n",
        "\n",
        "max = a[0]\n",
        "max_index = 0\n",
        "for k in range(len(a)):\n",
        "  if a[k] >= max:\n",
        "    max = a[k]\n",
        "    max_index = k+1\n",
        "\n",
        "print(max)\n",
        "print(max_index)"
      ],
      "execution_count": 4,
      "outputs": [
        {
          "output_type": "stream",
          "text": [
            "3\n",
            "29\n",
            "38\n",
            "12\n",
            "57\n",
            "74\n",
            "40\n",
            "85\n",
            "61\n",
            "85\n",
            "8\n"
          ],
          "name": "stdout"
        }
      ]
    },
    {
      "cell_type": "code",
      "metadata": {
        "colab": {
          "base_uri": "https://localhost:8080/"
        },
        "id": "Az-G-pEIBvVB",
        "outputId": "70880e3f-192d-45fe-ae19-b217219989b9"
      },
      "source": [
        "#3\n",
        "a = int(input())\n",
        "b = int(input())\n",
        "c = int(input())\n",
        "\n",
        "n = list(str(a*b*c))\n",
        "\n",
        "for i in range(10):\n",
        "  print(n.count(str(i)))"
      ],
      "execution_count": 8,
      "outputs": [
        {
          "output_type": "stream",
          "text": [
            "150\n",
            "266\n",
            "427\n",
            "3\n",
            "1\n",
            "0\n",
            "2\n",
            "0\n",
            "0\n",
            "0\n",
            "2\n",
            "0\n",
            "0\n"
          ],
          "name": "stdout"
        }
      ]
    },
    {
      "cell_type": "code",
      "metadata": {
        "colab": {
          "base_uri": "https://localhost:8080/"
        },
        "id": "SxQVUhdzFfYP",
        "outputId": "a12bcc39-06ee-4d1b-eb50-547af75bef38"
      },
      "source": [
        "#4\n",
        "a = []\n",
        "for i in range(10):\n",
        "  a.append(int(input()))\n",
        "  a[i]%=42\n",
        "\n",
        "b = set(a)\n",
        "print(len(b))"
      ],
      "execution_count": 15,
      "outputs": [
        {
          "output_type": "stream",
          "text": [
            "39\n",
            "40\n",
            "41\n",
            "42\n",
            "43\n",
            "44\n",
            "82\n",
            "83\n",
            "84\n",
            "85\n",
            "6\n"
          ],
          "name": "stdout"
        }
      ]
    },
    {
      "cell_type": "code",
      "metadata": {
        "colab": {
          "base_uri": "https://localhost:8080/"
        },
        "id": "H1W1_uShGvl1",
        "outputId": "e7025aef-9e87-4ae2-81ed-f82c12089c46"
      },
      "source": [
        "#5\n",
        "n = int(input())\n",
        "a = list(map(float, input().split()))\n",
        "\n",
        "max = a[0]\n",
        "for i in range(n):\n",
        "  if max < a[i]:\n",
        "    max = a[i]\n",
        "new_a = []\n",
        "for i in range(n):\n",
        "  new_a.append((a[i]/max)*100)\n",
        "print(sum(new_a)/n)"
      ],
      "execution_count": 34,
      "outputs": [
        {
          "output_type": "stream",
          "text": [
            "3\n",
            "10 20 30\n",
            "66.66666666666667\n"
          ],
          "name": "stdout"
        }
      ]
    },
    {
      "cell_type": "code",
      "metadata": {
        "colab": {
          "base_uri": "https://localhost:8080/"
        },
        "id": "pHlmUllMOD5a",
        "outputId": "0e6e61f4-6734-485c-e56c-276afe7f788a"
      },
      "source": [
        "#6\n",
        "n = int(input())\n",
        "\n",
        "for i in range(n):\n",
        "  a = input()\n",
        "  sum = 0\n",
        "  correct = 0\n",
        "  for j in range(len(a)):\n",
        "    if a[j] == 'O':\n",
        "      correct += 1\n",
        "      sum += correct\n",
        "    else:\n",
        "      correct = 0\n",
        "      sum +=0\n",
        "  print(sum)"
      ],
      "execution_count": 46,
      "outputs": [
        {
          "output_type": "stream",
          "text": [
            "5\n",
            "OOXXOXOOO\n",
            "10\n",
            "OOXXOOXXOO\n",
            "9\n",
            "OXOXOXOXOXOXOX\n",
            "7\n",
            "OOOOOOOOOO\n",
            "55\n",
            "OOOOXOOOOXOOOOX\n",
            "30\n"
          ],
          "name": "stdout"
        }
      ]
    },
    {
      "cell_type": "code",
      "metadata": {
        "colab": {
          "base_uri": "https://localhost:8080/"
        },
        "id": "049x_h4YV1hc",
        "outputId": "e735bd2f-8289-4069-9f5c-dd796bfb740e"
      },
      "source": [
        "#7\n",
        "n = int(input())\n",
        "for i in range(n):\n",
        "  a = list(map(int, input().split()))\n",
        "  sum = 0\n",
        "  for i in a[1:]:\n",
        "    sum +=i\n",
        "  avg = sum/(len(a)-1)\n",
        "  count = 0\n",
        "  for i in a[1:]:\n",
        "    if i > avg:\n",
        "      count += 1\n",
        "    ratio = count/(len(a)-1)*100\n",
        "  print(\"%.3f\"%ratio+\"%\")"
      ],
      "execution_count": 55,
      "outputs": [
        {
          "output_type": "stream",
          "text": [
            "5\n",
            "5 50 50 70 80 100\n",
            "40.000%\n",
            "7 100 95 90 80 70 60 50\n",
            "57.143%\n",
            "3 70 90 80\n",
            "33.333%\n",
            "3 70 90 81\n",
            "66.667%\n",
            "9 100 99 98 97 96 95 94 93 91\n",
            "55.556%\n"
          ],
          "name": "stdout"
        }
      ]
    }
  ]
}