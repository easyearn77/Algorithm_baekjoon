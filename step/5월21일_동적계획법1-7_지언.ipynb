{
  "nbformat": 4,
  "nbformat_minor": 0,
  "metadata": {
    "colab": {
      "name": "baekjoon_동적계획법1-7.ipynb",
      "provenance": [],
      "authorship_tag": "ABX9TyOTyP2VzeQAn5cpK29T2D16",
      "include_colab_link": true
    },
    "kernelspec": {
      "name": "python3",
      "display_name": "Python 3"
    },
    "language_info": {
      "name": "python"
    }
  },
  "cells": [
    {
      "cell_type": "markdown",
      "metadata": {
        "id": "view-in-github",
        "colab_type": "text"
      },
      "source": [
        "<a href=\"https://colab.research.google.com/github/easyearn77/Algorithm_baekjoon/blob/main/step/5%EC%9B%9421%EC%9D%BC_%EB%8F%99%EC%A0%81%EA%B3%84%ED%9A%8D%EB%B2%951-7_%EC%A7%80%EC%96%B8.ipynb\" target=\"_parent\"><img src=\"https://colab.research.google.com/assets/colab-badge.svg\" alt=\"Open In Colab\"/></a>"
      ]
    },
    {
      "cell_type": "markdown",
      "metadata": {
        "id": "T0bTw1PMIFfN"
      },
      "source": [
        "동적계획법1 링크: https://www.acmicpc.net/step/16"
      ]
    },
    {
      "cell_type": "code",
      "metadata": {
        "colab": {
          "base_uri": "https://localhost:8080/"
        },
        "id": "HQNgfyE95KSz",
        "outputId": "aabac0fe-17fa-4945-970a-3792e9109e8b"
      },
      "source": [
        "#13\n",
        "n=int(input())\n",
        "fa=[]\n",
        "ta=[]\n",
        "for _ in range(n):\n",
        "  fa.append(list(map(int,input().split())))\n",
        "\n",
        "fa.sort(key=lambda x:x[0])\n",
        "\n",
        "for i in range(n):\n",
        "  ta.append(fa[i][1])\n",
        "\n",
        "cnt=[0 for _ in range(n)]\n",
        "for i in range(n):\n",
        "  for j in range(i):\n",
        "    if ta[i]>ta[j] and cnt[j]>cnt[i]:\n",
        "      cnt[i]=cnt[j]\n",
        "  cnt[i]+=1\n",
        "print(n-max(cnt))"
      ],
      "execution_count": 3,
      "outputs": [
        {
          "output_type": "stream",
          "text": [
            "8\n",
            "1 8\n",
            "3 9\n",
            "2 2\n",
            "4 1\n",
            "6 4\n",
            "10 10\n",
            "9 7\n",
            "7 6\n",
            "3\n"
          ],
          "name": "stdout"
        }
      ]
    },
    {
      "cell_type": "markdown",
      "metadata": {
        "id": "m5MW5lKOIRgs"
      },
      "source": [
        "너무 어려웠당... 처음에 각 전깃줄마다 겹치는 전깃줄의 인덱스를 저장해서 하나씩 지워가며 확인하려 했다. 하지만 조금 멍청한 생각이었다. 그래서 인터넷에 찾아봤더니, sort함수를 이용하여 정렬하고, 최대로 증가하는 수열의 갯수를 구하면 겹치지 않는 최대 전선수를 구할 수 있었다. 조금 더 생각을 깊이, 합리적인 방법을 사용해야 할 것 같다."
      ]
    }
  ]
}