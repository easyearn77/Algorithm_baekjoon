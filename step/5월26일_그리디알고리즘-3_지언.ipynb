{
  "nbformat": 4,
  "nbformat_minor": 0,
  "metadata": {
    "colab": {
      "name": "baekjoon_그리디알고리즘-3.ipynb",
      "provenance": [],
      "authorship_tag": "ABX9TyNd/ayWE4LxQaf4EXfo6+f4",
      "include_colab_link": true
    },
    "kernelspec": {
      "name": "python3",
      "display_name": "Python 3"
    },
    "language_info": {
      "name": "python"
    }
  },
  "cells": [
    {
      "cell_type": "markdown",
      "metadata": {
        "id": "view-in-github",
        "colab_type": "text"
      },
      "source": [
        "<a href=\"https://colab.research.google.com/github/easyearn77/Algorithm_baekjoon/blob/main/step/5%EC%9B%9426%EC%9D%BC_%EA%B7%B8%EB%A6%AC%EB%94%94%EC%95%8C%EA%B3%A0%EB%A6%AC%EC%A6%98-3_%EC%A7%80%EC%96%B8.ipynb\" target=\"_parent\"><img src=\"https://colab.research.google.com/assets/colab-badge.svg\" alt=\"Open In Colab\"/></a>"
      ]
    },
    {
      "cell_type": "markdown",
      "metadata": {
        "id": "ddd0fK15VsIC"
      },
      "source": [
        "그리디 알고리즘 링크: https://www.acmicpc.net/step/33"
      ]
    },
    {
      "cell_type": "code",
      "metadata": {
        "colab": {
          "base_uri": "https://localhost:8080/"
        },
        "id": "iPUipTEiVodF",
        "outputId": "f5ee932b-f0a3-4a9d-e08c-b65184ad64af"
      },
      "source": [
        "#5\n",
        "n=int(input())\n",
        "len_road=list(map(int,input().split()))\n",
        "gs=list(map(int,input().split()))\n",
        "gs[-1]=-1\n",
        "stop=0\n",
        "cost=0\n",
        "while stop!=n-1:\n",
        "  for j in range(stop,len(gs)):\n",
        "    if gs[j]>=gs[stop]:\n",
        "      cost+=gs[stop]*len_road[j]\n",
        "    else:\n",
        "      stop=j\n",
        "      break\n",
        "print(cost)\n"
      ],
      "execution_count": 10,
      "outputs": [
        {
          "output_type": "stream",
          "text": [
            "4\n",
            "2 3 1\n",
            "5 2 4 1\n",
            "10\n",
            "16\n",
            "18\n",
            "18\n"
          ],
          "name": "stdout"
        }
      ]
    },
    {
      "cell_type": "markdown",
      "metadata": {
        "id": "a2vVBhcGyVuC"
      },
      "source": [
        "#5번 리뷰:\n",
        "처음엔 문제가 길어서 당황했지만, for문을 사용하여 point를 이동하면서 최적해를 구한다."
      ]
    }
  ]
}