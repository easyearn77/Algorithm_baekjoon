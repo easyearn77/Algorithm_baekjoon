{
  "nbformat": 4,
  "nbformat_minor": 0,
  "metadata": {
    "colab": {
      "name": "baekjoon_for문&while문",
      "provenance": [],
      "authorship_tag": "ABX9TyOD4uRG6S8K5ThCTQG6/OPy",
      "include_colab_link": true
    },
    "kernelspec": {
      "name": "python3",
      "display_name": "Python 3"
    },
    "language_info": {
      "name": "python"
    }
  },
  "cells": [
    {
      "cell_type": "markdown",
      "metadata": {
        "id": "view-in-github",
        "colab_type": "text"
      },
      "source": [
        "<a href=\"https://colab.research.google.com/github/easyearn77/Algorithm_baekjoon/blob/main/step/for%EB%AC%B8%26while%EB%AC%B8_%EC%A7%80%EC%96%B8.ipynb\" target=\"_parent\"><img src=\"https://colab.research.google.com/assets/colab-badge.svg\" alt=\"Open In Colab\"/></a>"
      ]
    },
    {
      "cell_type": "markdown",
      "metadata": {
        "id": "49m4gkQSm5mr"
      },
      "source": [
        "for문 링크: https://www.acmicpc.net/step/3"
      ]
    },
    {
      "cell_type": "code",
      "metadata": {
        "colab": {
          "base_uri": "https://localhost:8080/"
        },
        "id": "LmRR0twrm092",
        "outputId": "d1546068-3d68-4ab9-9d96-3dcf0fa44962"
      },
      "source": [
        "#6\n",
        "n=int(input())\n",
        "for i in range(n,0,-1):\n",
        "  print(i)"
      ],
      "execution_count": 1,
      "outputs": [
        {
          "output_type": "stream",
          "text": [
            "5\n",
            "5\n",
            "4\n",
            "3\n",
            "2\n",
            "1\n"
          ],
          "name": "stdout"
        }
      ]
    },
    {
      "cell_type": "code",
      "metadata": {
        "colab": {
          "base_uri": "https://localhost:8080/"
        },
        "id": "TkkilLZpnizo",
        "outputId": "778bd49d-6a0b-4c9f-99c2-135bfccf7248"
      },
      "source": [
        "#7\n",
        "t=int(input())\n",
        "for i in range (1,t+1):\n",
        "  a,b=input().split()\n",
        "  print(\"Case #%d: %d\"%(i,int(a)+int(b)))"
      ],
      "execution_count": 8,
      "outputs": [
        {
          "output_type": "stream",
          "text": [
            "1\n",
            "1 1\n",
            "Case #1: 2\n"
          ],
          "name": "stdout"
        }
      ]
    },
    {
      "cell_type": "code",
      "metadata": {
        "colab": {
          "base_uri": "https://localhost:8080/"
        },
        "id": "1O5Yql80r6Uw",
        "outputId": "68bc928a-4856-46a0-837f-18efbbac52ca"
      },
      "source": [
        "#8\n",
        "t=int(input())\n",
        "for i in range(1,t+1):\n",
        "  a,b=input().split()\n",
        "  print(\"Case #%d: %d + %d = %d\"%(i,int(a),int(b),int(a)+int(b)))"
      ],
      "execution_count": 9,
      "outputs": [
        {
          "output_type": "stream",
          "text": [
            "1\n",
            "2 3\n",
            "Case #1: 2 + 3 = 5\n"
          ],
          "name": "stdout"
        }
      ]
    },
    {
      "cell_type": "code",
      "metadata": {
        "colab": {
          "base_uri": "https://localhost:8080/"
        },
        "id": "xYc4FZbksskN",
        "outputId": "c880664a-2a2b-4da1-803b-ce4ab8ebf86e"
      },
      "source": [
        "#9\n",
        "n=int(input())\n",
        "for i in range(1,n+1):\n",
        "  print(\"*\"*i)"
      ],
      "execution_count": 13,
      "outputs": [
        {
          "output_type": "stream",
          "text": [
            "5\n",
            "*\n",
            "**\n",
            "***\n",
            "****\n",
            "*****\n"
          ],
          "name": "stdout"
        }
      ]
    },
    {
      "cell_type": "code",
      "metadata": {
        "colab": {
          "base_uri": "https://localhost:8080/"
        },
        "id": "nNGmbL3ltPo9",
        "outputId": "0c552219-91af-4a57-bcaa-0ca9e28c75ad"
      },
      "source": [
        "#10\n",
        "n=int(input())\n",
        "for i in range(1,n+1):\n",
        "  print(\" \"*(n-i)+\"*\"*i)"
      ],
      "execution_count": 14,
      "outputs": [
        {
          "output_type": "stream",
          "text": [
            "5\n",
            "    *\n",
            "   **\n",
            "  ***\n",
            " ****\n",
            "*****\n"
          ],
          "name": "stdout"
        }
      ]
    },
    {
      "cell_type": "code",
      "metadata": {
        "colab": {
          "base_uri": "https://localhost:8080/"
        },
        "id": "VSnSoD_7uT-J",
        "outputId": "209a85b9-b54f-4e85-dbb8-473aeb474912"
      },
      "source": [
        "#11\n",
        "n,x=map(int,input().split())\n",
        "a=input().split()\n",
        "b=[]\n",
        "for i in range(n):\n",
        "  if(int(a[i])<x):\n",
        "    b.append(a[i])\n",
        "for i in range(len(b)):\n",
        "  print(b[i],end=' ')\n"
      ],
      "execution_count": 19,
      "outputs": [
        {
          "output_type": "stream",
          "text": [
            "10 5\n",
            "1 10 4 9 2 3 8 5 7 6\n",
            "1 4 2 3 "
          ],
          "name": "stdout"
        }
      ]
    },
    {
      "cell_type": "markdown",
      "metadata": {
        "id": "TK2vAN68y-TS"
      },
      "source": [
        "while문 링크: https://www.acmicpc.net/step/2"
      ]
    },
    {
      "cell_type": "code",
      "metadata": {
        "colab": {
          "base_uri": "https://localhost:8080/"
        },
        "id": "Gqr4TeJVy6m-",
        "outputId": "fcbd5f32-888b-4a4d-b07e-df752c2806d4"
      },
      "source": [
        "#1\n",
        "while 1:\n",
        "  a,b=input().split()\n",
        "  if int(a)==0 and int(b)==0:\n",
        "    break\n",
        "  else:\n",
        "    print(int(a)+int(b))"
      ],
      "execution_count": 22,
      "outputs": [
        {
          "output_type": "stream",
          "text": [
            "1 1\n",
            "2\n",
            "2 3\n",
            "5\n",
            "0 0\n"
          ],
          "name": "stdout"
        }
      ]
    },
    {
      "cell_type": "code",
      "metadata": {
        "colab": {
          "base_uri": "https://localhost:8080/"
        },
        "id": "DXFNmekFOPPR",
        "outputId": "71dfe446-74ad-4558-b001-6f555014891d"
      },
      "source": [
        "#2\n",
        "while True:\n",
        "  try:\n",
        "    a,b=map(int,input().split())\n",
        "    print(a+b)\n",
        "  except:\n",
        "    break"
      ],
      "execution_count": 24,
      "outputs": [
        {
          "output_type": "stream",
          "text": [
            "1 1\n",
            "2\n",
            "2 3\n",
            "5\n",
            "3 4\n",
            "7\n",
            "9 8\n",
            "17\n",
            "5 2\n",
            "7\n"
          ],
          "name": "stdout"
        }
      ]
    },
    {
      "cell_type": "code",
      "metadata": {
        "colab": {
          "base_uri": "https://localhost:8080/"
        },
        "id": "aPScQvx6Ov_L",
        "outputId": "68da1049-47ae-4f43-d119-354a48013720"
      },
      "source": [
        "n=int(input())\n",
        "check=n\n",
        "cnt=0\n",
        "while True:\n",
        "  tmp=n//10+n%10\n",
        "  new=n%10*10+tmp%10\n",
        "  n=new\n",
        "  cnt+=1\n",
        "  if n==check:\n",
        "    break\n",
        "print(cnt)"
      ],
      "execution_count": 37,
      "outputs": [
        {
          "output_type": "stream",
          "text": [
            "26\n",
            "4\n"
          ],
          "name": "stdout"
        }
      ]
    }
  ]
}