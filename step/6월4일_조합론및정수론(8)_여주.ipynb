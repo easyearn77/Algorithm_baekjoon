{
  "nbformat": 4,
  "nbformat_minor": 0,
  "metadata": {
    "colab": {
      "name": "6월4일_조합론및정수론(8)_여주.ipynb",
      "provenance": [],
      "authorship_tag": "ABX9TyPbM02FWHqtOaSo5Zho3YNW"
    },
    "kernelspec": {
      "name": "python3",
      "display_name": "Python 3"
    },
    "language_info": {
      "name": "python"
    }
  },
  "cells": [
    {
      "cell_type": "code",
      "metadata": {
        "colab": {
          "base_uri": "https://localhost:8080/"
        },
        "id": "CaV5pUhjCF_Q",
        "outputId": "68a3860e-79fe-43f4-8cf2-a65aff4abe5c"
      },
      "source": [
        "#11\n",
        "n = int(input())\n",
        "print(n//5 + n//25 + n//125)"
      ],
      "execution_count": 4,
      "outputs": [
        {
          "output_type": "stream",
          "text": [
            "99\n",
            "22\n"
          ],
          "name": "stdout"
        }
      ]
    },
    {
      "cell_type": "code",
      "metadata": {
        "id": "35qosbdKDY3e"
      },
      "source": [
        ""
      ],
      "execution_count": null,
      "outputs": []
    }
  ]
}