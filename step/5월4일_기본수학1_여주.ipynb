{
  "nbformat": 4,
  "nbformat_minor": 0,
  "metadata": {
    "colab": {
      "name": "5월4일_기본수학1_여주.ipynb",
      "provenance": [],
      "authorship_tag": "ABX9TyOfwHvv5ceVJApO1nFsXphS",
      "include_colab_link": true
    },
    "kernelspec": {
      "name": "python3",
      "display_name": "Python 3"
    },
    "language_info": {
      "name": "python"
    }
  },
  "cells": [
    {
      "cell_type": "markdown",
      "metadata": {
        "id": "view-in-github",
        "colab_type": "text"
      },
      "source": [
        "<a href=\"https://colab.research.google.com/github/yeojoo1224/Algorithm_baekjoon/blob/develop/step/5%EC%9B%944%EC%9D%BC_%EA%B8%B0%EB%B3%B8%EC%88%98%ED%95%991_%EC%97%AC%EC%A3%BC.ipynb\" target=\"_parent\"><img src=\"https://colab.research.google.com/assets/colab-badge.svg\" alt=\"Open In Colab\"/></a>"
      ]
    },
    {
      "cell_type": "code",
      "metadata": {
        "colab": {
          "base_uri": "https://localhost:8080/"
        },
        "id": "67g63ZnHNI5T",
        "outputId": "d42a7209-ac9c-45c6-a4f3-42f2e4a476b2"
      },
      "source": [
        "#1\n",
        "a, b, c = map(int,input().split())\n",
        "if b>=c:\n",
        "  print(-1)\n",
        "else:\n",
        "  print(int((a/(c-b))+1))"
      ],
      "execution_count": 22,
      "outputs": [
        {
          "output_type": "stream",
          "text": [
            "2100000000 9 10\n",
            "2100000001\n"
          ],
          "name": "stdout"
        }
      ]
    },
    {
      "cell_type": "code",
      "metadata": {
        "colab": {
          "base_uri": "https://localhost:8080/"
        },
        "id": "Bl-NYRSNQaMv",
        "outputId": "ba86618c-2111-48af-ddc1-7b3303449c3b"
      },
      "source": [
        "#2\n",
        "n = int(input())\n",
        "house_num = 1\n",
        "count = 1\n",
        "while n > house_num:\n",
        "  house_num += 6*count\n",
        "  count += 1\n",
        "print(count) "
      ],
      "execution_count": 21,
      "outputs": [
        {
          "output_type": "stream",
          "text": [
            "13\n",
            "3\n"
          ],
          "name": "stdout"
        }
      ]
    },
    {
      "cell_type": "code",
      "metadata": {
        "colab": {
          "base_uri": "https://localhost:8080/"
        },
        "id": "59z-pQlzTr4o",
        "outputId": "c67dcf0e-1845-4b1f-8f6b-a848c9350f13"
      },
      "source": [
        "#3\n",
        "n = int(input())\n",
        "line = 0\n",
        "while(1):\n",
        "  line += 1\n",
        "  n -= line\n",
        "  if n <= 0:\n",
        "    n += line\n",
        "    line += 1\n",
        "    break\n",
        "if line%2==0:\n",
        "  print((line-n), '/', n, sep='')\n",
        "else:\n",
        "  print(n, '/', (line-n), sep='')"
      ],
      "execution_count": 26,
      "outputs": [
        {
          "output_type": "stream",
          "text": [
            "14\n",
            "2/4\n"
          ],
          "name": "stdout"
        }
      ]
    },
    {
      "cell_type": "code",
      "metadata": {
        "colab": {
          "base_uri": "https://localhost:8080/"
        },
        "id": "20ZLiw9gcHp4",
        "outputId": "cd4f9e50-8041-4718-f7ca-1614c43098a5"
      },
      "source": [
        "#4\n",
        "a, b, v = map(int, input().split())\n",
        "day = (v-b)/(a-b)\n",
        "print(int(day) if day==int(day) else int(day)+1)"
      ],
      "execution_count": 36,
      "outputs": [
        {
          "output_type": "stream",
          "text": [
            "100 99 100000000\n",
            "99999901\n"
          ],
          "name": "stdout"
        }
      ]
    },
    {
      "cell_type": "code",
      "metadata": {
        "colab": {
          "base_uri": "https://localhost:8080/"
        },
        "id": "BQncZy47e5dG",
        "outputId": "02462a7c-6d23-46a9-a507-770fb4e5944f"
      },
      "source": [
        "#5\n",
        "n = int(input())\n",
        "for i in range(n):\n",
        "  h, w, n = map(int, input().split())\n",
        "  f = 0\n",
        "  ho = 0\n",
        "  if n % h == 0:\n",
        "    f = h*100\n",
        "    ho = n//h\n",
        "  else:\n",
        "    f = (n%h)*100\n",
        "    ho = 1+n//h\n",
        "  print(f+ho)"
      ],
      "execution_count": 46,
      "outputs": [
        {
          "output_type": "stream",
          "text": [
            "2\n",
            "6 12 10\n",
            "402\n",
            "30 50 72\n",
            "1203\n"
          ],
          "name": "stdout"
        }
      ]
    },
    {
      "cell_type": "code",
      "metadata": {
        "colab": {
          "base_uri": "https://localhost:8080/"
        },
        "id": "MqSX0EeIgk-G",
        "outputId": "fc188a32-b63e-4617-b027-21a9ddc49e5a"
      },
      "source": [
        "#6\n",
        "number = int(input())\n",
        "for i in range(number):\n",
        "  k = int(input())\n",
        "  n = int(input())\n",
        "  people = [i for i in range(1, n+1)]\n",
        "\n",
        "  for i in range(k):\n",
        "    for j in range(1, n):\n",
        "      people[j] += people[j-1]\n",
        "  print((people[-1]))"
      ],
      "execution_count": 54,
      "outputs": [
        {
          "output_type": "stream",
          "text": [
            "2\n",
            "1\n",
            "3\n",
            "6\n",
            "2\n",
            "3\n",
            "10\n"
          ],
          "name": "stdout"
        }
      ]
    },
    {
      "cell_type": "code",
      "metadata": {
        "colab": {
          "base_uri": "https://localhost:8080/"
        },
        "id": "-WbtxT6Nmtud",
        "outputId": "efad4128-049d-43e1-92cf-a2dba573acf5"
      },
      "source": [
        "#7\n",
        "sugar = int(input())\n",
        "bag = 0\n",
        "while sugar >= 0:\n",
        "  if sugar%5 == 0:\n",
        "    bag += (sugar // 5)\n",
        "    print(bag)\n",
        "    break\n",
        "  sugar-=3\n",
        "  bag+=1\n",
        "else:\n",
        "  print(-1)\n"
      ],
      "execution_count": 57,
      "outputs": [
        {
          "output_type": "stream",
          "text": [
            "4\n",
            "-1\n"
          ],
          "name": "stdout"
        }
      ]
    },
    {
      "cell_type": "code",
      "metadata": {
        "colab": {
          "base_uri": "https://localhost:8080/"
        },
        "id": "8i726hU7mtvr",
        "outputId": "0948bbb3-8f12-4f3d-c897-15b7c55c2651"
      },
      "source": [
        "#8\n",
        "a, b = map(int, input().split())\n",
        "print(a+b)"
      ],
      "execution_count": 59,
      "outputs": [
        {
          "output_type": "stream",
          "text": [
            "9236264796492682469 2072407204202720\n",
            "9238337203696885189\n"
          ],
          "name": "stdout"
        }
      ]
    },
    {
      "cell_type": "code",
      "metadata": {
        "colab": {
          "base_uri": "https://localhost:8080/"
        },
        "id": "WyAjzxrnoy_z",
        "outputId": "3aae4bdb-ecdd-4397-faad-a43369716acd"
      },
      "source": [
        "#9\n",
        "import math\n",
        "n = int(input())\n",
        "for i in range(n):\n",
        "  x, y = map(int, input().split())\n",
        "  dist = y-x\n",
        "  if dist <= 3:\n",
        "    print(dist)\n",
        "  else:\n",
        "    k = int(math.sqrt(dist))\n",
        "    if dist == k**2:\n",
        "      print(2*k-1)\n",
        "    elif k**2 < dist <= n**k+n:\n",
        "      print(2*k)\n",
        "    else:\n",
        "      print(2*k+1)\n"
      ],
      "execution_count": 61,
      "outputs": [
        {
          "output_type": "stream",
          "text": [
            "3\n",
            "0 3\n",
            "3\n",
            "1 5\n",
            "3\n",
            "45 50\n",
            "4\n"
          ],
          "name": "stdout"
        }
      ]
    }
  ]
}