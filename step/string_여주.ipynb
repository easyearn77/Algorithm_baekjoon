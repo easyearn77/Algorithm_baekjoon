{
  "nbformat": 4,
  "nbformat_minor": 0,
  "metadata": {
    "colab": {
      "name": "string_여주.ipynb",
      "provenance": [],
      "collapsed_sections": [],
      "authorship_tag": "ABX9TyNZNlKBsT7v5CZaIaIYKlSL"
    },
    "kernelspec": {
      "name": "python3",
      "display_name": "Python 3"
    },
    "language_info": {
      "name": "python"
    }
  },
  "cells": [
    {
      "cell_type": "code",
      "metadata": {
        "colab": {
          "base_uri": "https://localhost:8080/"
        },
        "id": "9NjOy3lAqB33",
        "outputId": "e54b76d8-aac6-4b2d-ac26-2bfea90efe80"
      },
      "source": [
        "#1\n",
        "n = input()\n",
        "print(ord(n))"
      ],
      "execution_count": 1,
      "outputs": [
        {
          "output_type": "stream",
          "text": [
            "A\n",
            "65\n"
          ],
          "name": "stdout"
        }
      ]
    },
    {
      "cell_type": "code",
      "metadata": {
        "colab": {
          "base_uri": "https://localhost:8080/"
        },
        "id": "wuycz-SMqrge",
        "outputId": "badc359d-6a8c-4d14-dcb7-23acd11cca60"
      },
      "source": [
        "#2\n",
        "n = int(input())\n",
        "a = input()\n",
        "sum = 0\n",
        "for i in range(n):\n",
        "  sum += int(a[i])\n",
        "print(sum)"
      ],
      "execution_count": 4,
      "outputs": [
        {
          "output_type": "stream",
          "text": [
            "5\n",
            "54321\n",
            "15\n"
          ],
          "name": "stdout"
        }
      ]
    },
    {
      "cell_type": "code",
      "metadata": {
        "colab": {
          "base_uri": "https://localhost:8080/"
        },
        "id": "6IDr0smesMgw",
        "outputId": "25851e24-708a-4c9a-fb15-8393f7d61a9a"
      },
      "source": [
        "#3\n",
        "word = input()\n",
        "alphabet = list('abcdefghijklmnopqrxtuvwxyz')\n",
        "a = [-1 for i in range(len(alphabet))]\n",
        "\n",
        "for i in range(len(word)):\n",
        "  if a[alphabet.index(word[i])] == -1:\n",
        "    a[alphabet.index(word[i])] = i\n",
        "for j in a:\n",
        "  print(j, end=' ')\n"
      ],
      "execution_count": 3,
      "outputs": [
        {
          "output_type": "stream",
          "text": [
            "baekjoon\n",
            "1 0 -1 -1 2 -1 -1 -1 -1 4 3 -1 -1 7 5 -1 -1 -1 -1 -1 -1 -1 -1 -1 -1 -1 "
          ],
          "name": "stdout"
        }
      ]
    },
    {
      "cell_type": "code",
      "metadata": {
        "colab": {
          "base_uri": "https://localhost:8080/"
        },
        "id": "yDPxciSIxQSG",
        "outputId": "b51d2f5c-e5fd-49db-8eee-fb2d8b23ed8b"
      },
      "source": [
        "#4\n",
        "n = int(input())\n",
        "for i in range(n):\n",
        "  r, l = map(str, input().split())\n",
        "  word = ''\n",
        "  for j in l:\n",
        "    word += int(r) * j\n",
        "  print(word)"
      ],
      "execution_count": 7,
      "outputs": [
        {
          "output_type": "stream",
          "text": [
            "2\n",
            "3 ABC\n",
            "AAABBBCCC\n",
            "5 /HTP\n",
            "/////HHHHHTTTTTPPPPP\n"
          ],
          "name": "stdout"
        }
      ]
    },
    {
      "cell_type": "code",
      "metadata": {
        "colab": {
          "base_uri": "https://localhost:8080/"
        },
        "id": "npmAtxIz2UcW",
        "outputId": "74847687-afbe-4dc7-b32a-3b0c8b9cbb74"
      },
      "source": [
        "#5\n",
        "word = input().upper()\n",
        "array = {}\n",
        "for i in word:\n",
        "  if i in array:\n",
        "    array[i]+=1\n",
        "  else:\n",
        "    array[i]=1\n",
        "answer = 0\n",
        "many = 0\n",
        "\n",
        "for i in array:\n",
        "  if array[i]>many:\n",
        "    many = array[i]\n",
        "    answer = i\n",
        "  elif array[i] == many:\n",
        "    answer = '?'\n",
        "\n",
        "print(answer)"
      ],
      "execution_count": 11,
      "outputs": [
        {
          "output_type": "stream",
          "text": [
            "mississipI\n",
            "?\n"
          ],
          "name": "stdout"
        }
      ]
    },
    {
      "cell_type": "code",
      "metadata": {
        "colab": {
          "base_uri": "https://localhost:8080/"
        },
        "id": "JbSRndAd4yAY",
        "outputId": "7f5f7d15-aae9-41a5-e943-c71f6da8562e"
      },
      "source": [
        "#6\n",
        "sentence = input().strip()\n",
        "if len(sentence) == 0:\n",
        "  print(0)\n",
        "else:\n",
        "  print(sentence.count(' ')+1)\n"
      ],
      "execution_count": 13,
      "outputs": [
        {
          "output_type": "stream",
          "text": [
            " The Curious Case of Benjamin Button\n",
            "6\n"
          ],
          "name": "stdout"
        }
      ]
    },
    {
      "cell_type": "code",
      "metadata": {
        "colab": {
          "base_uri": "https://localhost:8080/"
        },
        "id": "CEFbEjXL5-fi",
        "outputId": "7523a048-7d1e-4329-d8c0-d870bd21a22b"
      },
      "source": [
        "#7\n",
        "a, b = input().split()\n",
        "a = int(a[::-1])\n",
        "b = int(b[::-1])\n",
        "print(a) if a >= b else print(b)"
      ],
      "execution_count": 14,
      "outputs": [
        {
          "output_type": "stream",
          "text": [
            "734 893\n",
            "437\n"
          ],
          "name": "stdout"
        }
      ]
    },
    {
      "cell_type": "code",
      "metadata": {
        "colab": {
          "base_uri": "https://localhost:8080/"
        },
        "id": "CaVUtelO66iF",
        "outputId": "665b5b18-06e3-4b07-d180-6dbc499be0d7"
      },
      "source": [
        "#8\n",
        "dial = ['ABC', 'DEF', 'GHI', 'JKL', 'MNO', 'PQRS', 'TUV', 'WXYZ']\n",
        "a = input()\n",
        "time = 0\n",
        "for i in range(len(a)):\n",
        "  for j in dial:\n",
        "    if a[i] in j:\n",
        "      time += dial.index(j)+3\n",
        "\n",
        "print(time)"
      ],
      "execution_count": 16,
      "outputs": [
        {
          "output_type": "stream",
          "text": [
            "UNUCIC\n",
            "36\n"
          ],
          "name": "stdout"
        }
      ]
    },
    {
      "cell_type": "code",
      "metadata": {
        "colab": {
          "base_uri": "https://localhost:8080/"
        },
        "id": "qiI5Asul8TQ5",
        "outputId": "48ab2e07-8fb0-42f0-9dea-d872cabecfa1"
      },
      "source": [
        "#9\n",
        "word = input()\n",
        "croatia = ['c=', 'c-', 'dz=', 'd-', 'lj', 'nj', 's=', 'z=']\n",
        "for i in croatia:\n",
        "  word = word.replace(i, '.')\n",
        "\n",
        "print(len(word))\n"
      ],
      "execution_count": 17,
      "outputs": [
        {
          "output_type": "stream",
          "text": [
            "ljes=njak\n",
            "6\n"
          ],
          "name": "stdout"
        }
      ]
    },
    {
      "cell_type": "code",
      "metadata": {
        "colab": {
          "base_uri": "https://localhost:8080/"
        },
        "id": "1efR3rx39xWc",
        "outputId": "6ea98258-fbf1-498c-dac8-941115f2e4bd"
      },
      "source": [
        "#10\n",
        "n = int(input())\n",
        "count = 0\n",
        "for i in range(n):\n",
        "  word = input()\n",
        "  for j in range(len(word)):\n",
        "    if j!=len(word)-1:\n",
        "      if word[j]==word[j+1]:\n",
        "        pass\n",
        "      elif word[j] in word[j+1:a]:\n",
        "        break\n",
        "    else:\n",
        "      count+=1\n",
        "print(count)\n"
      ],
      "execution_count": 20,
      "outputs": [
        {
          "output_type": "stream",
          "text": [
            "4\n",
            "aba\n",
            "abab\n",
            "abcabc\n",
            "a\n",
            "1\n"
          ],
          "name": "stdout"
        }
      ]
    }
  ]
}