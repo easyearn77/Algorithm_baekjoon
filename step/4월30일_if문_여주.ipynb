{
  "nbformat": 4,
  "nbformat_minor": 0,
  "metadata": {
    "colab": {
      "name": "if_여주.ipynb",
      "provenance": [],
      "authorship_tag": "ABX9TyM1F+79lc0vNfD/+eynfRy3"
    },
    "kernelspec": {
      "name": "python3",
      "display_name": "Python 3"
    },
    "language_info": {
      "name": "python"
    }
  },
  "cells": [
    {
      "cell_type": "code",
      "metadata": {
        "colab": {
          "base_uri": "https://localhost:8080/"
        },
        "id": "p4WimJrupGkM",
        "outputId": "cfb70f4d-f5a5-4836-fff8-6f66683fea40"
      },
      "source": [
        "#1\n",
        "a, b = map(int,input().split())\n",
        "\n",
        "if a > b:\n",
        "    print('>')\n",
        "elif a < b:\n",
        "    print('<')\n",
        "else:\n",
        "    print('==')"
      ],
      "execution_count": 1,
      "outputs": [
        {
          "output_type": "stream",
          "text": [
            "5 7\n",
            "<\n"
          ],
          "name": "stdout"
        }
      ]
    },
    {
      "cell_type": "code",
      "metadata": {
        "colab": {
          "base_uri": "https://localhost:8080/"
        },
        "id": "12cTsz41qALr",
        "outputId": "cb874708-db20-4a0d-dcdc-8cc1ca22b547"
      },
      "source": [
        "#2\n",
        "import sys\n",
        "score = int(input())\n",
        "\n",
        "if(score<=100 and score>=90):\n",
        "    print(\"A\")\n",
        "elif(score<=89 and score>=80):\n",
        "    print(\"B\")\n",
        "elif(score<=79 and score>=70):\n",
        "    print(\"C\")\n",
        "elif(score<=69 and score>=60):\n",
        "    print(\"D\")\n",
        "else:\n",
        "    print(\"F\")"
      ],
      "execution_count": 2,
      "outputs": [
        {
          "output_type": "stream",
          "text": [
            "83\n",
            "B\n"
          ],
          "name": "stdout"
        }
      ]
    },
    {
      "cell_type": "code",
      "metadata": {
        "colab": {
          "base_uri": "https://localhost:8080/"
        },
        "id": "HCUTQrr0qWNB",
        "outputId": "d8509526-009b-4254-9ce9-8622584174b0"
      },
      "source": [
        "#3\n",
        "sum = int(input())\n",
        "\n",
        "if(sum%4==0):\n",
        "   if(sum%100==0):\n",
        "       if(sum%400==0):\n",
        "            print(\"1\")\n",
        "       else:\n",
        "            print(\"0\")\n",
        "   else:\n",
        "        print(\"1\")       \n",
        "else:\n",
        "    print(\"0\")"
      ],
      "execution_count": 3,
      "outputs": [
        {
          "output_type": "stream",
          "text": [
            "433\n",
            "0\n"
          ],
          "name": "stdout"
        }
      ]
    },
    {
      "cell_type": "code",
      "metadata": {
        "colab": {
          "base_uri": "https://localhost:8080/"
        },
        "id": "LI0F27oIqlnR",
        "outputId": "7cdbc068-df01-4aeb-ef27-c64b4be6608f"
      },
      "source": [
        "#4\n",
        "a = int(input())\n",
        "b = int(input())\n",
        "\n",
        "if(a>0):\n",
        "    if(b>0):\n",
        "        print(1)\n",
        "    else:\n",
        "        print(4)\n",
        "else:\n",
        "    if(b>0):\n",
        "        print(2)\n",
        "    else:\n",
        "        print(3)"
      ],
      "execution_count": 4,
      "outputs": [
        {
          "output_type": "stream",
          "text": [
            "5\n",
            "-4\n",
            "4\n"
          ],
          "name": "stdout"
        }
      ]
    },
    {
      "cell_type": "code",
      "metadata": {
        "colab": {
          "base_uri": "https://localhost:8080/"
        },
        "id": "ZRZiii-QqtIs",
        "outputId": "5d3b3066-c2aa-45ac-f4bd-39c5bc43ef14"
      },
      "source": [
        "#5\n",
        "h, m = map(int, input().split())\n",
        "\n",
        "if m>44:\n",
        "    print(h, m-45)\n",
        "elif m<45 and h>0:\n",
        "    print(h-1, m+15)\n",
        "else:\n",
        "    print(23, m+15)"
      ],
      "execution_count": 5,
      "outputs": [
        {
          "output_type": "stream",
          "text": [
            "11 24\n",
            "10 39\n"
          ],
          "name": "stdout"
        }
      ]
    }
  ]
}