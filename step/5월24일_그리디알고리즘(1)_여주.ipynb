{
  "nbformat": 4,
  "nbformat_minor": 0,
  "metadata": {
    "colab": {
      "name": "5월24일_그리디알고리즘(1)_여주.ipynb",
      "provenance": [],
      "authorship_tag": "ABX9TyOKvorePU87q9T8LMtIi9cH"
    },
    "kernelspec": {
      "name": "python3",
      "display_name": "Python 3"
    },
    "language_info": {
      "name": "python"
    }
  },
  "cells": [
    {
      "cell_type": "code",
      "metadata": {
        "colab": {
          "base_uri": "https://localhost:8080/"
        },
        "id": "q1axgJNoF3Tu",
        "outputId": "11348607-a400-446c-d46f-730491ca8639"
      },
      "source": [
        "#1\n",
        "n, k = map(int, input().split())\n",
        "money = []\n",
        "num = 0\n",
        "for _ in range(n):\n",
        "  money.append(int(input()))\n",
        "\n",
        "for i in range(n-1, -1, -1):\n",
        "  if k==0:\n",
        "    break\n",
        "  if money[i]>k:\n",
        "    continue\n",
        "  num += k//money[i]\n",
        "  k %= money[i]\n",
        "\n",
        "print(num)"
      ],
      "execution_count": 2,
      "outputs": [
        {
          "output_type": "stream",
          "text": [
            "10 4790\n",
            "1\n",
            "5\n",
            "10\n",
            "50\n",
            "100\n",
            "500\n",
            "1000\n",
            "5000\n",
            "10000\n",
            "50000\n",
            "12\n"
          ],
          "name": "stdout"
        }
      ]
    },
    {
      "cell_type": "code",
      "metadata": {
        "colab": {
          "base_uri": "https://localhost:8080/"
        },
        "id": "jksaXXvOJyT6",
        "outputId": "bda4148c-e591-4516-8e14-1b4b218b2e10"
      },
      "source": [
        "#2\n",
        "n = int(input())\n",
        "conf = []\n",
        "for _ in range(n):\n",
        "  conf.append(list(map(int, input().split())))\n",
        "\n",
        "conf = sorted(conf, key = lambda x: [x[1], x[0]])\n",
        "\n",
        "max_conf = 0\n",
        "start = 0\n",
        "for i in conf:\n",
        "  if i[0] >= start:\n",
        "    start = i[1]\n",
        "    max_conf += 1\n",
        "\n",
        "print(max_conf)"
      ],
      "execution_count": 6,
      "outputs": [
        {
          "output_type": "stream",
          "text": [
            "11\n",
            "1 4\n",
            "3 5\n",
            "0 6\n",
            "5 7\n",
            "3 8\n",
            "5 9\n",
            "6 10\n",
            "8 11\n",
            "8 12\n",
            "2 13\n",
            "12 14\n",
            "4\n"
          ],
          "name": "stdout"
        }
      ]
    }
  ]
}