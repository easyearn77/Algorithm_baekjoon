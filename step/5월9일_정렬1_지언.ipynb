{
  "nbformat": 4,
  "nbformat_minor": 0,
  "metadata": {
    "colab": {
      "name": "baekjoon_정렬.ipynb",
      "provenance": [],
      "authorship_tag": "ABX9TyN2vYVIthMW/6QXHv1xeZ9u",
      "include_colab_link": true
    },
    "kernelspec": {
      "name": "python3",
      "display_name": "Python 3"
    },
    "language_info": {
      "name": "python"
    }
  },
  "cells": [
    {
      "cell_type": "markdown",
      "metadata": {
        "id": "view-in-github",
        "colab_type": "text"
      },
      "source": [
        "<a href=\"https://colab.research.google.com/github/easyearn77/Algorithm_baekjoon/blob/main/step/5%EC%9B%949%EC%9D%BC_%EC%A0%95%EB%A0%AC1_%EC%A7%80%EC%96%B8.ipynb\" target=\"_parent\"><img src=\"https://colab.research.google.com/assets/colab-badge.svg\" alt=\"Open In Colab\"/></a>"
      ]
    },
    {
      "cell_type": "markdown",
      "metadata": {
        "id": "xBEcnr5egqwH"
      },
      "source": [
        "정렬 링크: https://www.acmicpc.net/step/9"
      ]
    },
    {
      "cell_type": "code",
      "metadata": {
        "colab": {
          "base_uri": "https://localhost:8080/"
        },
        "id": "Xn0ixKixgoaN",
        "outputId": "a7069845-e799-4f42-b4da-22a1cb891df7"
      },
      "source": [
        "#1\n",
        "n=int(input())\n",
        "num_list=[]\n",
        "for i in range(n):\n",
        "  num_list.append(int(input()))\n",
        "\n",
        "for i in range(1,len(num_list)):\n",
        "  while i>0 and num_list[i]<num_list[i-1]:\n",
        "    num_list[i],num_list[i-1]=num_list[i-1],num_list[i]\n",
        "    i-=1\n",
        "\n",
        "for i in num_list:\n",
        "  print(i)"
      ],
      "execution_count": 1,
      "outputs": [
        {
          "output_type": "stream",
          "text": [
            "5\n",
            "5\n",
            "4\n",
            "3\n",
            "2\n",
            "1\n",
            "1\n",
            "2\n",
            "3\n",
            "4\n",
            "5\n"
          ],
          "name": "stdout"
        }
      ]
    },
    {
      "cell_type": "code",
      "metadata": {
        "id": "03lWFqztmJiF"
      },
      "source": [
        "#2_합병\n",
        "#합병정렬 함수\n",
        "def merge_sort(arr):\n",
        "  if len(arr)<=1:\n",
        "    return arr\n",
        "  \n",
        "  #분할\n",
        "  mid=len(arr)//2\n",
        "  left=merge_sort(arr[:mid])\n",
        "  right=merge_sort(arr[mid:])\n",
        "\n",
        "  i,j,k=0,0,0\n",
        "\n",
        "  #비교\n",
        "  while i<len(left) and j<len(right):\n",
        "    if left[i]<right[j]:\n",
        "      arr[k]=left[i]\n",
        "      i+=1\n",
        "    else:\n",
        "      arr[k]=right[j]\n",
        "      j+=1\n",
        "    k+=1\n",
        "  \n",
        "  #한쪽이 먼저 끝났을 경우\n",
        "  if i==len(left):\n",
        "    while j<len(right):\n",
        "      arr[k]=right[j]\n",
        "      j+=1\n",
        "      k+=1\n",
        "  elif j==len(right):\n",
        "    while i<len(left):\n",
        "      arr[k]=left[i]\n",
        "      i+=1\n",
        "      k+=1\n",
        "  return arr\n",
        "\n",
        "\n",
        "#데이터 입력\n",
        "n=int(input())\n",
        "nums=[]\n",
        "for i in range (n):\n",
        "  nums.append(int(input()))\n",
        "\n",
        "nums=merge_sort(nums)\n",
        "\n",
        "for n in nums:\n",
        "  print(n)\n"
      ],
      "execution_count": null,
      "outputs": []
    },
    {
      "cell_type": "code",
      "metadata": {
        "id": "XY34OCoXtCmk"
      },
      "source": [
        "#2 pypy방법\n",
        "n=int(input())\n",
        "nums=[]\n",
        "\n",
        "for i in range(n):\n",
        "  num.append(int(input()))\n",
        "\n",
        "for n in sorted(num):\n",
        "  print(n)"
      ],
      "execution_count": null,
      "outputs": []
    },
    {
      "cell_type": "code",
      "metadata": {
        "colab": {
          "base_uri": "https://localhost:8080/"
        },
        "id": "-1TwYOzFtadt",
        "outputId": "c17b00ae-f34d-491b-bcf8-f9662076483a"
      },
      "source": [
        "#3 dictionary 이용\n",
        "import sys\n",
        "n = int(sys.stdin.readline())\n",
        "numbers = [0 for _ in range(10000)]\n",
        "for _ in range(n):\n",
        "    numbers[int(sys.stdin.readline())-1] += 1\n",
        "for i in range(10000):\n",
        "    if numbers[i] > 0:\n",
        "        sys.stdout.write((str(i+1) +'\\n')*numbers[i])\n"
      ],
      "execution_count": 17,
      "outputs": [
        {
          "output_type": "stream",
          "text": [
            "10\n",
            "5\n",
            "2\n",
            "3\n",
            "1\n",
            "4\n",
            "2\n",
            "3\n",
            "5\n",
            "1\n",
            "7\n",
            "1\n",
            "1\n",
            "2\n",
            "2\n",
            "3\n",
            "3\n",
            "4\n",
            "5\n",
            "5\n",
            "7\n"
          ],
          "name": "stdout"
        }
      ]
    },
    {
      "cell_type": "code",
      "metadata": {
        "id": "9AGJyzsc3HYU"
      },
      "source": [
        "#4\n",
        "import sys\n",
        "from collections import Counter\n",
        "\n",
        "numbers=[]\n",
        "sum=0\n",
        "#입력\n",
        "n=int(sys.stdin.readline())\n",
        "for _ in range(n):\n",
        "  num=int(sys.stdin.readline())\n",
        "  numbers.append(num)\n",
        "  sum+=num\n",
        "#산술평균\n",
        "print(round(sum/n))\n",
        "#중앙값\n",
        "numbers.sort()\n",
        "print(numbers[n//2])\n",
        "#최빈값\n",
        "m_fre=Counter(numbers).most_common() #데이터의 개수가 많은 순으로 (데이터,개수)로 list생성\n",
        "if len(m_fre)>1:\n",
        "  if m_fre[0][1]==m_fre[1][1]:\n",
        "    print(m_fre[1][0])\n",
        "  else:\n",
        "    print(m_fre[0][0])\n",
        "else:\n",
        "  print(m_fre[0][0])\n",
        "#범위\n",
        "print(numbers[-1]-numbers[0])"
      ],
      "execution_count": null,
      "outputs": []
    },
    {
      "cell_type": "code",
      "metadata": {
        "colab": {
          "base_uri": "https://localhost:8080/"
        },
        "id": "-XA98YCsAq_R",
        "outputId": "6379898b-f235-48b3-8736-58bb9518bd1e"
      },
      "source": [
        "#5\n",
        "n=input()\n",
        "nums=[]\n",
        "for i in range(len(n)):\n",
        "  nums.append(int(n[i]))\n",
        "nums.sort(reverse=True)\n",
        "for n in nums:\n",
        "  print(n,end='')"
      ],
      "execution_count": 32,
      "outputs": [
        {
          "output_type": "stream",
          "text": [
            "2143\n",
            "4321"
          ],
          "name": "stdout"
        }
      ]
    }
  ]
}