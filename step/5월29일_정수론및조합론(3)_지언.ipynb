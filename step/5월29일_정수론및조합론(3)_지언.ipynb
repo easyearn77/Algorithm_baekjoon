{
  "nbformat": 4,
  "nbformat_minor": 0,
  "metadata": {
    "colab": {
      "name": "beakjoon_정수론및조합론-3.ipynb",
      "provenance": [],
      "authorship_tag": "ABX9TyOPZMZwKqPnKLQoTWMCCPNP",
      "include_colab_link": true
    },
    "kernelspec": {
      "name": "python3",
      "display_name": "Python 3"
    },
    "language_info": {
      "name": "python"
    }
  },
  "cells": [
    {
      "cell_type": "markdown",
      "metadata": {
        "id": "view-in-github",
        "colab_type": "text"
      },
      "source": [
        "<a href=\"https://colab.research.google.com/github/easyearn77/Algorithm_baekjoon/blob/main/step/5%EC%9B%9429%EC%9D%BC_%EC%A0%95%EC%88%98%EB%A1%A0%EB%B0%8F%EC%A1%B0%ED%95%A9%EB%A1%A0(3)_%EC%A7%80%EC%96%B8.ipynb\" target=\"_parent\"><img src=\"https://colab.research.google.com/assets/colab-badge.svg\" alt=\"Open In Colab\"/></a>"
      ]
    },
    {
      "cell_type": "markdown",
      "metadata": {
        "id": "xETF00qQWirx"
      },
      "source": [
        "정수론 및 조합론 링크: https://www.acmicpc.net/step/18"
      ]
    },
    {
      "cell_type": "code",
      "metadata": {
        "colab": {
          "base_uri": "https://localhost:8080/"
        },
        "id": "8mrjhKr2Vh8k",
        "outputId": "63849eff-335b-4e09-d762-0cd1bf366786"
      },
      "source": [
        "#5\n",
        "#최대공약수 함수\n",
        "def gcd(a,b):\n",
        "  if b%a>0:\n",
        "    return gcd(b%a,a)\n",
        "  else:\n",
        "    return a\n",
        "\n",
        "#약수 리스트 만드는 함수\n",
        "def div(x):\n",
        "  div_list=[x]\n",
        "  for i in range(2,int(x**(1/2)+1)):\n",
        "    if x%i==0:\n",
        "      div_list.append(i)\n",
        "      if x//i != i:\n",
        "        div_list.append(x//i)\n",
        "  div_list.sort()\n",
        "  return div_list\n",
        "\n",
        "#수 입력\n",
        "n=int(input())\n",
        "freight=[]\n",
        "for _ in range(n):\n",
        "  freight.append(int(input()))\n",
        "freight.sort(reverse = True)\n",
        "\n",
        "#화물 차이\n",
        "freight_diff=[]\n",
        "for i in range(n-1):\n",
        "  freight_diff.append(freight[i]-freight[i+1])\n",
        "\n",
        "#freight_diff 내 숫자의 최대공약수 찾기\n",
        "l=len(freight_diff)\n",
        "if l==1:\n",
        "  ans=freight_diff[0]\n",
        "elif l==2:\n",
        "  ans=gcd(freight_diff[0],freight_diff[1])\n",
        "else:\n",
        "  ans=freight_diff[0]\n",
        "  for i in range(1,l):\n",
        "    ans=gcd(ans,freight_diff[i])\n",
        "\n",
        "#최대공약수의 약수 구하기\n",
        "for i in div(ans):\n",
        "  print(i,end=' ')"
      ],
      "execution_count": 3,
      "outputs": [
        {
          "output_type": "stream",
          "text": [
            "3\n",
            "6\n",
            "34\n",
            "38\n",
            "2 4 "
          ],
          "name": "stdout"
        }
      ]
    },
    {
      "cell_type": "markdown",
      "metadata": {
        "id": "ZYzluIKCcXZe"
      },
      "source": [
        "#5번 리뷰:\n",
        "나머지가 같은 수의 집합체는 큰 수부터 정렬했을 때, 두 수의 차이가 M의 배수이다. 따라서, 정렬될 집합 내 인접한 원소들의 차를 구한 뒤, 그 차들의 최대공약수를 구한다. 그리고 그 최대공약수의 약수들의 집합을 구하면, M들을 구할 수 있다."
      ]
    }
  ]
}