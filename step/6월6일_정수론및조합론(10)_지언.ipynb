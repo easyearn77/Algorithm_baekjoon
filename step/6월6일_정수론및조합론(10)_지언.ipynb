{
  "nbformat": 4,
  "nbformat_minor": 0,
  "metadata": {
    "colab": {
      "name": "baekjoon_정수론및조합론-10.ipynb",
      "provenance": [],
      "authorship_tag": "ABX9TyNaDMDqlw2j/AlrYdEk90BX",
      "include_colab_link": true
    },
    "kernelspec": {
      "name": "python3",
      "display_name": "Python 3"
    },
    "language_info": {
      "name": "python"
    }
  },
  "cells": [
    {
      "cell_type": "markdown",
      "metadata": {
        "id": "view-in-github",
        "colab_type": "text"
      },
      "source": [
        "<a href=\"https://colab.research.google.com/github/easyearn77/Algorithm_baekjoon/blob/main/step/6%EC%9B%946%EC%9D%BC_%EC%A0%95%EC%88%98%EB%A1%A0%EB%B0%8F%EC%A1%B0%ED%95%A9%EB%A1%A0(10).ipynb\" target=\"_parent\"><img src=\"https://colab.research.google.com/assets/colab-badge.svg\" alt=\"Open In Colab\"/></a>"
      ]
    },
    {
      "cell_type": "markdown",
      "metadata": {
        "id": "BqfXZMu5Rtfq"
      },
      "source": [
        "정수론 및 조합론 링크: https://www.acmicpc.net/step/18"
      ]
    },
    {
      "cell_type": "code",
      "metadata": {
        "colab": {
          "base_uri": "https://localhost:8080/"
        },
        "id": "3aXUX2IrKEmJ",
        "outputId": "02753dea-b475-41c6-e624-a2e59b24178a"
      },
      "source": [
        "#12\n",
        "def cnt_5(n):\n",
        "  ans=0\n",
        "  while n!=0:\n",
        "    n//=5\n",
        "    ans+=n\n",
        "  return ans\n",
        "\n",
        "def cnt_2(n):\n",
        "  ans=0\n",
        "  while n!=0:\n",
        "    n//=2\n",
        "    ans+=n\n",
        "  return ans\n",
        "\n",
        "n,m=map(int,input().split())\n",
        "print(min(cnt_5(n)-cnt_5(m)-cnt_5(n-m), cnt_2(n)-cnt_2(m)-cnt_2(n-m)))"
      ],
      "execution_count": 8,
      "outputs": [
        {
          "output_type": "stream",
          "text": [
            "25 12\n",
            "2\n"
          ],
          "name": "stdout"
        }
      ]
    },
    {
      "cell_type": "markdown",
      "metadata": {
        "id": "227-3dzKRcTf"
      },
      "source": [
        "#12번 리뷰\n",
        "처음에 팩토리얼 써서 풀었더니 시간초과가 나왔다. 내가 아는 조합은 팩토리얼 밖에 없어서 답을 봤더니, 10은 2와 5의 조합이기 때문에, n!과 m!에 2와 5가 총 몇번 쓰여졌는지 구하면 되는 거였다. 그래도 어떻게 팩토리얼 내의 2와 5의 수를 팩토리얼값을 구하지 않고 알아낼 수 있을까? 봤더니, n을 2의 거듭제곱들로 몇번 나눠지는지를 구하면 되는 거였다. 그래서 2,4,8,16... 들로 몇번 나눠지는지 구하는 함수를 사용하였다."
      ]
    }
  ]
}
