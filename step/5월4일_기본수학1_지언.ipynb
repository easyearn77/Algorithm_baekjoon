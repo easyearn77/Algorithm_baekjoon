{
  "nbformat": 4,
  "nbformat_minor": 0,
  "metadata": {
    "colab": {
      "name": "Untitled0.ipynb",
      "provenance": [],
      "authorship_tag": "ABX9TyO4OrP4X8/r8rbBmTNlDwaa",
      "include_colab_link": true
    },
    "kernelspec": {
      "name": "python3",
      "display_name": "Python 3"
    },
    "language_info": {
      "name": "python"
    }
  },
  "cells": [
    {
      "cell_type": "markdown",
      "metadata": {
        "id": "view-in-github",
        "colab_type": "text"
      },
      "source": [
        "<a href=\"https://colab.research.google.com/github/easyearn77/Algorithm_baekjoon/blob/main/step/5%EC%9B%944%EC%9D%BC_%EA%B8%B0%EB%B3%B8%EC%88%98%ED%95%991_%EC%A7%80%EC%96%B8.ipynb\" target=\"_parent\"><img src=\"https://colab.research.google.com/assets/colab-badge.svg\" alt=\"Open In Colab\"/></a>"
      ]
    },
    {
      "cell_type": "code",
      "metadata": {
        "id": "lxHUKpFWyOFv"
      },
      "source": [
        "기본수학1 링크: https://www.acmicpc.net/step/8"
      ],
      "execution_count": null,
      "outputs": []
    },
    {
      "cell_type": "code",
      "metadata": {
        "colab": {
          "base_uri": "https://localhost:8080/"
        },
        "id": "mT88d1HNmqRs",
        "outputId": "5c3936c3-4b9c-41cc-b08c-cd21429cbedb"
      },
      "source": [
        "#1\n",
        "a,b,c=map(int,input().split())\n",
        "if b>=c:\n",
        "    print('-1')\n",
        "else:\n",
        "    print(-a//(b-c)+1)"
      ],
      "execution_count": 22,
      "outputs": [
        {
          "output_type": "stream",
          "text": [
            "2100000000 9 10\n",
            "2100000001\n"
          ],
          "name": "stdout"
        }
      ]
    },
    {
      "cell_type": "code",
      "metadata": {
        "colab": {
          "base_uri": "https://localhost:8080/"
        },
        "id": "Uj5A1qX0yKfU",
        "outputId": "1bc26d8a-67e3-42cb-9a9c-419f19d69c6b"
      },
      "source": [
        "#2\n",
        "n=int(input())\n",
        "if n==1:\n",
        "  print('1')\n",
        "else:\n",
        "  long=1\n",
        "  s=2\n",
        "  e=6\n",
        "  while True:\n",
        "    long+=1\n",
        "    if n>=s and n<=s+e-1:\n",
        "      break\n",
        "    else:\n",
        "      s=s+e\n",
        "      e+=6\n",
        "  print(long)"
      ],
      "execution_count": 27,
      "outputs": [
        {
          "output_type": "stream",
          "text": [
            "100000000\n",
            "5775\n"
          ],
          "name": "stdout"
        }
      ]
    },
    {
      "cell_type": "code",
      "metadata": {
        "colab": {
          "base_uri": "https://localhost:8080/"
        },
        "id": "GxWZZXHg2PXg",
        "outputId": "ea6d1e09-cc67-4088-acf9-fa5f1f11624f"
      },
      "source": [
        "#3\n",
        "n=int(input())\n",
        "tmp=n\n",
        "k=1\n",
        "line=0\n",
        "while tmp>0:\n",
        "  tmp-=k\n",
        "  k+=1\n",
        "  line+=1\n",
        "p=n-(line-1)*(line)//2-1\n",
        "if line%2==0:\n",
        "  print((1+p),'/',(line-p),sep='')\n",
        "else:\n",
        "  print((line-p),'/',(1+p),sep='')"
      ],
      "execution_count": 33,
      "outputs": [
        {
          "output_type": "stream",
          "text": [
            "1\n",
            "1/1\n"
          ],
          "name": "stdout"
        }
      ]
    },
    {
      "cell_type": "code",
      "metadata": {
        "colab": {
          "base_uri": "https://localhost:8080/"
        },
        "id": "fmd2E5Xr_LoJ",
        "outputId": "c363d93c-23c6-4bd3-9626-d5802866b8e2"
      },
      "source": [
        "#4\n",
        "a,b,v=map(int,input().split())\n",
        "day=(v-b)//(a-b)\n",
        "while a*day-b*(day-1)<v:\n",
        "  day+=1\n",
        "print(day)"
      ],
      "execution_count": 39,
      "outputs": [
        {
          "output_type": "stream",
          "text": [
            "5 1 6\n",
            "2\n"
          ],
          "name": "stdout"
        }
      ]
    },
    {
      "cell_type": "code",
      "metadata": {
        "colab": {
          "base_uri": "https://localhost:8080/"
        },
        "id": "cYQCOIVtBAb8",
        "outputId": "3b54712a-0f51-453b-ac34-33ed076739e5"
      },
      "source": [
        "#5\n",
        "t=int(input())\n",
        "for i in range(t):\n",
        "  h,w,n=map(int,input().split())\n",
        "  rh=n%h\n",
        "  rw=n//h+1\n",
        "  if n%h==0: \n",
        "    rh=h\n",
        "    rw=n//h\n",
        "  print(rh*100+rw)\n",
        "\n",
        "\n",
        "  "
      ],
      "execution_count": 47,
      "outputs": [
        {
          "output_type": "stream",
          "text": [
            "1\n",
            "6 12 6\n",
            "601\n"
          ],
          "name": "stdout"
        }
      ]
    },
    {
      "cell_type": "code",
      "metadata": {
        "colab": {
          "base_uri": "https://localhost:8080/"
        },
        "id": "fAovEftAGAHN",
        "outputId": "9edfd54e-c70e-4396-fd48-90fe76b56adc"
      },
      "source": [
        "#6\n",
        "t=int(input())\n",
        "for i in range(t):\n",
        "  k=int(input())\n",
        "  n=int(input())\n",
        "  f=[x for x in range(1,n+1)]\n",
        "  for fn in range(k):\n",
        "    for j in range(1,n):\n",
        "      f[j]+=f[j-1]\n",
        "  print(f[-1])\n",
        "\n",
        "  "
      ],
      "execution_count": 48,
      "outputs": [
        {
          "output_type": "stream",
          "text": [
            "2\n",
            "1\n",
            "3\n",
            "6\n",
            "2\n",
            "3\n",
            "10\n"
          ],
          "name": "stdout"
        }
      ]
    },
    {
      "cell_type": "code",
      "metadata": {
        "id": "LrN-VmjVLYSL"
      },
      "source": [
        "#7\n",
        "n=int(input())\n",
        "cnt=0\n",
        "while n>=0:\n",
        "  if n%5==0:\n",
        "    cnt+=(n//5)\n",
        "    print(cnt)\n",
        "    break\n",
        "  n-=3\n",
        "  cnt+=1\n",
        "else:\n",
        "  print('-1')\n"
      ],
      "execution_count": null,
      "outputs": []
    },
    {
      "cell_type": "code",
      "metadata": {
        "id": "Hxz1Ei80NmrC"
      },
      "source": [
        "#8\n",
        "a,b=map(int,input().split())\n",
        "print(a+b)"
      ],
      "execution_count": null,
      "outputs": []
    },
    {
      "cell_type": "code",
      "metadata": {
        "colab": {
          "base_uri": "https://localhost:8080/"
        },
        "id": "CvVyfmN1O-Nj",
        "outputId": "6e91000e-87e4-467a-fc00-8c2019e7e25b"
      },
      "source": [
        "#9 //어려워서 답지봄. > 예시를 손으로 많이 써봐야 규칙이 보인다\n",
        "t = int(input())\n",
        "for i in range(t):\n",
        "    a, b = map(int, input().split())\n",
        "    distance = b - a\n",
        "    num = 1\n",
        "    while True:\n",
        "        if num ** 2 <= distance < (num + 1) ** 2:\n",
        "            break\n",
        "        num += 1\n",
        "    if num ** 2 == distance:\n",
        "        print((num * 2) - 1)\n",
        "    elif num ** 2 < distance <= num ** 2 + num:\n",
        "        print(num * 2)\n",
        "    else:\n",
        "        print((num * 2) + 1)"
      ],
      "execution_count": 52,
      "outputs": [
        {
          "output_type": "stream",
          "text": [
            "3\n",
            "0 3\n",
            "3\n",
            "1 5\n",
            "3\n",
            "45 50\n",
            "4\n"
          ],
          "name": "stdout"
        }
      ]
    }
  ]
}