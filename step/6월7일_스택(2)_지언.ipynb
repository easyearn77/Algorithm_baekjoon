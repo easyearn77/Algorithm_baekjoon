{
  "nbformat": 4,
  "nbformat_minor": 0,
  "metadata": {
    "colab": {
      "name": "baekjoon_스택-2.ipynb",
      "provenance": [],
      "authorship_tag": "ABX9TyN9t4hLnnuoDB9hLcrIGPRn",
      "include_colab_link": true
    },
    "kernelspec": {
      "name": "python3",
      "display_name": "Python 3"
    },
    "language_info": {
      "name": "python"
    }
  },
  "cells": [
    {
      "cell_type": "markdown",
      "metadata": {
        "id": "view-in-github",
        "colab_type": "text"
      },
      "source": [
        "<a href=\"https://colab.research.google.com/github/easyearn77/Algorithm_baekjoon/blob/main/step/6%EC%9B%947%EC%9D%BC_%EC%8A%A4%ED%83%9D(2)_%EC%A7%80%EC%96%B8.ipynb\" target=\"_parent\"><img src=\"https://colab.research.google.com/assets/colab-badge.svg\" alt=\"Open In Colab\"/></a>"
      ]
    },
    {
      "cell_type": "markdown",
      "metadata": {
        "id": "SWfPy2zFCfZa"
      },
      "source": [
        "스택 링크: https://www.acmicpc.net/step/11"
      ]
    },
    {
      "cell_type": "code",
      "metadata": {
        "colab": {
          "base_uri": "https://localhost:8080/"
        },
        "id": "HjiRPIx-CciM",
        "outputId": "02ea5863-d77a-47fa-9fe1-c1c980839b11"
      },
      "source": [
        "#2\n",
        "import sys\n",
        "def push(n):\n",
        "  stack.append(n)\n",
        "\n",
        "def pop():\n",
        "  del stack[-1]\n",
        "\n",
        "n=int(sys.stdin.readline())\n",
        "stack=[]\n",
        "for _ in range(n):\n",
        "  num=int(sys.stdin.readline())\n",
        "  push(num) if num else pop()\n",
        "\n",
        "answer=0\n",
        "for cost in stack:\n",
        "  answer+=cost\n",
        "\n",
        "print(answer)"
      ],
      "execution_count": 3,
      "outputs": [
        {
          "output_type": "stream",
          "text": [
            "10\n",
            "1\n",
            "3\n",
            "5\n",
            "4\n",
            "0\n",
            "0\n",
            "7\n",
            "0\n",
            "0\n",
            "6\n",
            "7\n"
          ],
          "name": "stdout"
        }
      ]
    },
    {
      "cell_type": "code",
      "metadata": {
        "colab": {
          "base_uri": "https://localhost:8080/"
        },
        "id": "zblh87hLKT_k",
        "outputId": "cef4bb97-d8f2-4cfa-cd37-771ee3a72501"
      },
      "source": [
        "#3\n",
        "n=int(input())\n",
        "for _ in range(n):\n",
        "  ps=input()\n",
        "  a=ps.count('(')\n",
        "  b=ps.count(')')\n",
        "  if a!=b:\n",
        "    print('NO')\n",
        "  else:\n",
        "    sum=0\n",
        "    for i in range(len(ps)):\n",
        "      if ps[i]=='(':\n",
        "        sum+=1\n",
        "      else:\n",
        "        sum-=1\n",
        "      if sum<0:\n",
        "        print('NO')\n",
        "        break\n",
        "    if sum==0:\n",
        "      print('YES')"
      ],
      "execution_count": 15,
      "outputs": [
        {
          "output_type": "stream",
          "text": [
            "6\n",
            "(())())\n",
            "NO\n",
            "(((()())()\n",
            "NO\n",
            "(()())((()))\n",
            "YES\n",
            "((()()(()))(((())))()\n",
            "NO\n",
            "()()()()(()()())()\n",
            "YES\n",
            "(()((())()(\n",
            "NO\n"
          ],
          "name": "stdout"
        }
      ]
    }
  ]
}