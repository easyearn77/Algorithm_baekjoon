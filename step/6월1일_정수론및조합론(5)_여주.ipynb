{
  "nbformat": 4,
  "nbformat_minor": 0,
  "metadata": {
    "colab": {
      "name": "6월1일_정수론및조합론(5)_여주.ipynb",
      "provenance": [],
      "authorship_tag": "ABX9TyNS0uQp/KNI5q3UnF6B5YRo"
    },
    "kernelspec": {
      "name": "python3",
      "display_name": "Python 3"
    },
    "language_info": {
      "name": "python"
    }
  },
  "cells": [
    {
      "cell_type": "code",
      "metadata": {
        "colab": {
          "base_uri": "https://localhost:8080/"
        },
        "id": "qdNdAjewizSK",
        "outputId": "8fd0db37-e280-46fe-9f43-8efe3847f69c"
      },
      "source": [
        "#8\n",
        "from math import factorial\n",
        "n, k = map(int, input().split())\n",
        "ans = factorial(n)//(factorial(k)*factorial(n-k))\n",
        "print(ans%10007)"
      ],
      "execution_count": 1,
      "outputs": [
        {
          "output_type": "stream",
          "text": [
            "5 2\n",
            "10\n"
          ],
          "name": "stdout"
        }
      ]
    }
  ]
}