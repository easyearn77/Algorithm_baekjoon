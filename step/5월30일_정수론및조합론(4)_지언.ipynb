{
  "nbformat": 4,
  "nbformat_minor": 0,
  "metadata": {
    "colab": {
      "name": "baekjoon_정수론및조합론-4.ipynb",
      "provenance": [],
      "authorship_tag": "ABX9TyPEOB/cSJ1BVYzqnfcoo00I",
      "include_colab_link": true
    },
    "kernelspec": {
      "name": "python3",
      "display_name": "Python 3"
    },
    "language_info": {
      "name": "python"
    }
  },
  "cells": [
    {
      "cell_type": "markdown",
      "metadata": {
        "id": "view-in-github",
        "colab_type": "text"
      },
      "source": [
        "<a href=\"https://colab.research.google.com/github/easyearn77/Algorithm_baekjoon/blob/main/step/5%EC%9B%9430%EC%9D%BC_%EC%A0%95%EC%88%98%EB%A1%A0%EB%B0%8F%EC%A1%B0%ED%95%A9%EB%A1%A0(4)_%EC%A7%80%EC%96%B8.ipynb\" target=\"_parent\"><img src=\"https://colab.research.google.com/assets/colab-badge.svg\" alt=\"Open In Colab\"/></a>"
      ]
    },
    {
      "cell_type": "markdown",
      "metadata": {
        "id": "my7LIwsYziVw"
      },
      "source": [
        "정수론 및 조합론 링크: https://www.acmicpc.net/step/18"
      ]
    },
    {
      "cell_type": "code",
      "metadata": {
        "colab": {
          "base_uri": "https://localhost:8080/"
        },
        "id": "7m88GOAUzWAz",
        "outputId": "c44ff5d2-e37e-4b5f-bd57-cfb3301983e3"
      },
      "source": [
        "#6\n",
        "def gcd(a,b):\n",
        "  return gcd(b%a,a) if b%a>0 else a\n",
        "  \n",
        "n=int(input())\n",
        "r=list(map(int,input().split()))\n",
        "first=r[0]\n",
        "\n",
        "for i in range(1,n):\n",
        "  g=gcd(first,r[i])\n",
        "  print('{0}/{1}'.format(first//g,r[i]//g))"
      ],
      "execution_count": 4,
      "outputs": [
        {
          "output_type": "stream",
          "text": [
            "4\n",
            "12 3 8 4\n",
            "4/1\n",
            "3/2\n",
            "3/1\n"
          ],
          "name": "stdout"
        }
      ]
    }
  ]
}