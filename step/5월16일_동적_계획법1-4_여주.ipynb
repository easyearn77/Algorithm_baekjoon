{
  "nbformat": 4,
  "nbformat_minor": 0,
  "metadata": {
    "colab": {
      "name": "5월16일_동적_계획법1-4_여주.ipynb",
      "provenance": [],
      "authorship_tag": "ABX9TyPwZxUzOEDZK9MDJLf92otO"
    },
    "kernelspec": {
      "name": "python3",
      "display_name": "Python 3"
    },
    "language_info": {
      "name": "python"
    }
  },
  "cells": [
    {
      "cell_type": "code",
      "metadata": {
        "colab": {
          "base_uri": "https://localhost:8080/"
        },
        "id": "zNFy7bMGjzI0",
        "outputId": "4d1d6e19-0231-4926-fc9a-d87332f9fb02"
      },
      "source": [
        "#7\n",
        "n = int(input())\n",
        "stair = []\n",
        "max_stair = []\n",
        "\n",
        "for _ in range(n):\n",
        "  stair.append(int(input()))\n",
        "\n",
        "max_stair.append(stair[0])\n",
        "max_stair.append(stair[0]+stair[1])\n",
        "max_stair.append(max(stair[0]+stair[2], stair[1]+stair[2]))\n",
        "for i in range(3, n):\n",
        "  max_stair.append(max(max_stair[i-2]+stair[i], max_stair[i-3]+stair[i]+stair[i-1]))\n",
        "\n",
        "print(max_stair[n-1])\n"
      ],
      "execution_count": 3,
      "outputs": [
        {
          "output_type": "stream",
          "text": [
            "6\n",
            "10\n",
            "20\n",
            "15\n",
            "25\n",
            "10\n",
            "20\n",
            "75\n"
          ],
          "name": "stdout"
        }
      ]
    },
    {
      "cell_type": "code",
      "metadata": {
        "colab": {
          "base_uri": "https://localhost:8080/"
        },
        "id": "WeOaoI-N7pbB",
        "outputId": "7ab74681-61cb-4733-ba81-9041894641ae"
      },
      "source": [
        "#8\n",
        "n = int(input())\n",
        "for_one = [0 for _ in range(n+1)]\n",
        "\n",
        "for i in range(1, n+1):\n",
        "  if i==1:\n",
        "    for_one[i] = 0\n",
        "    continue\n",
        "  for_one[i] = for_one[i-1] + 1\n",
        "  if i % 3 == 0 and for_one[i//3] + 1 < for_one[i]:\n",
        "    for_one[i] = for_one[i//3] + 1\n",
        "  if i % 2 ==0 and for_one[i//2] + 1 < for_one[i]:\n",
        "    for_one[i] = for_one[i//2] + 1\n",
        "\n",
        "print(for_one[n])"
      ],
      "execution_count": 19,
      "outputs": [
        {
          "output_type": "stream",
          "text": [
            "20\n",
            "4\n"
          ],
          "name": "stdout"
        }
      ]
    }
  ]
}