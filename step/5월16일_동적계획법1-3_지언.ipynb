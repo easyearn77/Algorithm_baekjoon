{
  "nbformat": 4,
  "nbformat_minor": 0,
  "metadata": {
    "colab": {
      "name": "baekjoon_동적계획법1-3.ipynb",
      "provenance": [],
      "authorship_tag": "ABX9TyOOT/oxs31XVTrluciA6iBn",
      "include_colab_link": true
    },
    "kernelspec": {
      "name": "python3",
      "display_name": "Python 3"
    },
    "language_info": {
      "name": "python"
    }
  },
  "cells": [
    {
      "cell_type": "markdown",
      "metadata": {
        "id": "view-in-github",
        "colab_type": "text"
      },
      "source": [
        "<a href=\"https://colab.research.google.com/github/easyearn77/Algorithm_baekjoon/blob/main/step/5%EC%9B%9416%EC%9D%BC_%EB%8F%99%EC%A0%81%EA%B3%84%ED%9A%8D%EB%B2%951-3_%EC%A7%80%EC%96%B8.ipynb\" target=\"_parent\"><img src=\"https://colab.research.google.com/assets/colab-badge.svg\" alt=\"Open In Colab\"/></a>"
      ]
    },
    {
      "cell_type": "markdown",
      "metadata": {
        "id": "RnAQLxnXcdTI"
      },
      "source": [
        "동적계획법1 링크:https://www.acmicpc.net/step/16"
      ]
    },
    {
      "cell_type": "code",
      "metadata": {
        "colab": {
          "base_uri": "https://localhost:8080/"
        },
        "id": "rQ7dx8wBpSjn",
        "outputId": "9caec640-0cf9-4e12-f52f-3286602bb02c"
      },
      "source": [
        "#7\n",
        "s=[0 for _ in range(301)]\n",
        "cost=[0 for _ in range(301)]\n",
        "n=int(input())\n",
        "for i in range(n):\n",
        "  s[i]=int(input())\n",
        "\n",
        "cost[0]=s[0]\n",
        "cost[1]=s[0]+s[1]\n",
        "cost[2]=max(s[0]+s[2],s[1]+s[2])\n",
        "for i in range(3,n):\n",
        "  cost[i]=max(cost[i-3]+s[i-1],cost[i-2])+s[i]\n",
        "print(cost[n-1])"
      ],
      "execution_count": 4,
      "outputs": [
        {
          "output_type": "stream",
          "text": [
            "6\n",
            "10\n",
            "20\n",
            "15\n",
            "25\n",
            "10\n",
            "20\n",
            "75\n"
          ],
          "name": "stdout"
        }
      ]
    },
    {
      "cell_type": "code",
      "metadata": {
        "colab": {
          "base_uri": "https://localhost:8080/"
        },
        "id": "5LjJXz7aJJO-",
        "outputId": "a516c3eb-66ba-4c32-d485-f4dc3a6f3e10"
      },
      "source": [
        "#8\n",
        "n=int(input())\n",
        "cnt=[0 for _ in range(10**6+1)]\n",
        "cnt[2]=1\n",
        "cnt[3]=1\n",
        "for i in range(4,n+1):\n",
        "  t=i\n",
        "  if t%3==0 and t%2==0:\n",
        "    cnt[i]=min(cnt[t//3],cnt[t//2],cnt[i-1])+1\n",
        "  elif t%3==0:\n",
        "    t//=3\n",
        "    cnt[i]=min(cnt[i-1],cnt[t])+1\n",
        "  elif t%2==0:\n",
        "    t//=2\n",
        "    cnt[i]=min(cnt[i-1],cnt[t])+1\n",
        "  else:\n",
        "    t-=1\n",
        "    cnt[i]=cnt[t]+1\n",
        "  \n",
        "print(cnt[n])\n",
        "    \n"
      ],
      "execution_count": 24,
      "outputs": [
        {
          "output_type": "stream",
          "text": [
            "6\n",
            "2\n"
          ],
          "name": "stdout"
        }
      ]
    }
  ]
}