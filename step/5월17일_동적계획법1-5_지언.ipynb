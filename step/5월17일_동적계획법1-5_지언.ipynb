{
  "nbformat": 4,
  "nbformat_minor": 0,
  "metadata": {
    "colab": {
      "name": "baekjoon_동적계획법1-5",
      "provenance": [],
      "authorship_tag": "ABX9TyNq5xIHNetDdLn2SW9mGsim",
      "include_colab_link": true
    },
    "kernelspec": {
      "name": "python3",
      "display_name": "Python 3"
    },
    "language_info": {
      "name": "python"
    }
  },
  "cells": [
    {
      "cell_type": "markdown",
      "metadata": {
        "id": "view-in-github",
        "colab_type": "text"
      },
      "source": [
        "<a href=\"https://colab.research.google.com/github/easyearn77/Algorithm_baekjoon/blob/main/step/5%EC%9B%9417%EC%9D%BC_%EB%8F%99%EC%A0%81%EA%B3%84%ED%9A%8D%EB%B2%951-5_%EC%A7%80%EC%96%B8.ipynb\" target=\"_parent\"><img src=\"https://colab.research.google.com/assets/colab-badge.svg\" alt=\"Open In Colab\"/></a>"
      ]
    },
    {
      "cell_type": "markdown",
      "metadata": {
        "id": "KwBYtiD7V5SY"
      },
      "source": [
        "동적계획법1 링크: https://www.acmicpc.net/step/16"
      ]
    },
    {
      "cell_type": "code",
      "metadata": {
        "id": "3GnpECgqV451"
      },
      "source": [
        "#9(메모리초과)\n",
        "n=int(input())\n",
        "num=[[] for _ in range(n+1)]\n",
        "for i in range(1,10):\n",
        "  num[1].append(i)\n",
        "for i in range(2,n+1):\n",
        "  for j in num[i-1]:\n",
        "    l=j%10\n",
        "    if l==0:\n",
        "      num[i].append(j*10+l+1)\n",
        "    elif l==9:\n",
        "      num[i].append(j*10+l-1)\n",
        "    else:\n",
        "      num[i].append(j*10+l-1)\n",
        "      num[i].append(j*10+l+1)\n",
        "print(len(num[i])% 1000000000)\n",
        "\n",
        "\n"
      ],
      "execution_count": null,
      "outputs": []
    },
    {
      "cell_type": "code",
      "metadata": {
        "colab": {
          "base_uri": "https://localhost:8080/"
        },
        "id": "gjVUrf3C1pVF",
        "outputId": "193fad15-2f98-4215-a3fe-4a2266e1fc37"
      },
      "source": [
        "#9\n",
        "n=int(input())\n",
        "num=[[0 for i in range(10)] for j in range(n+1)]\n",
        "for i in range(1,10):\n",
        "  num[1][i]=1\n",
        "for i in range(2,n+1):\n",
        "  for j in range(10):\n",
        "    if j==0:\n",
        "      num[i][j]=num[i-1][1]\n",
        "    elif j==9:\n",
        "      num[i][j]=num[i-1][8]\n",
        "    else:\n",
        "      num[i][j]=num[i-1][j-1]+num[i-1][j+1]\n",
        "print(sum(num[n])% 1000000000)"
      ],
      "execution_count": null,
      "outputs": [
        {
          "output_type": "stream",
          "text": [
            "2\n",
            "17\n"
          ],
          "name": "stdout"
        }
      ]
    },
    {
      "cell_type": "code",
      "metadata": {
        "colab": {
          "base_uri": "https://localhost:8080/"
        },
        "id": "uipZY_76VzxU",
        "outputId": "634339d1-9ac8-4fcc-baa4-c39ae6f85f43"
      },
      "source": [
        "#10\n",
        "n=int(input())\n",
        "amount=[0 for _ in range(n+1)]\n",
        "sum=[0 for _ in range(n+1)]\n",
        "for i in range(1,n+1):\n",
        "  amount[i]=int(input())\n",
        "sum[1]=amount[1]\n",
        "for i in range(2,n+1):\n",
        "  sum[i]=max(sum[i-1],amount[i-1]+sum[i-3]+amount[i],sum[i-2]+amount[i])\n",
        "print(max(sum))"
      ],
      "execution_count": 16,
      "outputs": [
        {
          "output_type": "stream",
          "text": [
            "6\n",
            "6\n",
            "10\n",
            "13\n",
            "9\n",
            "8\n",
            "1\n",
            "33\n"
          ],
          "name": "stdout"
        }
      ]
    }
  ]
}