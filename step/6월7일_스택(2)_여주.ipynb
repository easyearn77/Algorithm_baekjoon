{
  "nbformat": 4,
  "nbformat_minor": 0,
  "metadata": {
    "colab": {
      "name": "6월7일_스택(2)_여주.ipynb",
      "provenance": [],
      "authorship_tag": "ABX9TyNSHEu+giEQxenkMwaQzktd"
    },
    "kernelspec": {
      "name": "python3",
      "display_name": "Python 3"
    },
    "language_info": {
      "name": "python"
    }
  },
  "cells": [
    {
      "cell_type": "code",
      "metadata": {
        "colab": {
          "base_uri": "https://localhost:8080/"
        },
        "id": "eaQEraq7wBL1",
        "outputId": "f3927ce8-479e-441f-8adc-7d467517741d"
      },
      "source": [
        "#2\n",
        "n = int(input())\n",
        "stack = []\n",
        "for _ in range(n):\n",
        "  num = int(input())\n",
        "\n",
        "  if num != 0:\n",
        "    stack.append(num)\n",
        "  else:\n",
        "    stack.pop()\n",
        "\n",
        "print(sum(stack))"
      ],
      "execution_count": 1,
      "outputs": [
        {
          "output_type": "stream",
          "text": [
            "10\n",
            "1\n",
            "3\n",
            "5\n",
            "4\n",
            "0\n",
            "0\n",
            "7\n",
            "0\n",
            "0\n",
            "6\n",
            "7\n"
          ],
          "name": "stdout"
        }
      ]
    },
    {
      "cell_type": "code",
      "metadata": {
        "colab": {
          "base_uri": "https://localhost:8080/"
        },
        "id": "-aIV0HOJxmHl",
        "outputId": "c37704cb-c073-4a82-aad8-50d1fba2bd08"
      },
      "source": [
        "#3\n",
        "n = int(input())\n",
        "\n",
        "for _ in range(n):\n",
        "  k = input()\n",
        "  l = list(k)\n",
        "  sum = 0\n",
        "  for i in l:\n",
        "    if i == '(':\n",
        "      sum += 1\n",
        "    elif i == ')':\n",
        "      sum -= 1\n",
        "    if sum < 0 :\n",
        "      print('NO')\n",
        "      break\n",
        "  if sum > 0:\n",
        "    print('NO')\n",
        "  elif sum == 0:\n",
        "    print('YES')"
      ],
      "execution_count": 2,
      "outputs": [
        {
          "output_type": "stream",
          "text": [
            "6\n",
            "(())())\n",
            "NO\n",
            "(((()())()\n",
            "NO\n",
            "(()())((()))\n",
            "YES\n",
            "((()()(()))(((())))()\n",
            "NO\n",
            "()()()()(()()())()\n",
            "YES\n",
            "(()((())()(\n",
            "NO\n"
          ],
          "name": "stdout"
        }
      ]
    }
  ]
}