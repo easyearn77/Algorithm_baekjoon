{
  "nbformat": 4,
  "nbformat_minor": 0,
  "metadata": {
    "colab": {
      "name": "5월22일_동적_계획법1-8_여주.ipynb",
      "provenance": [],
      "authorship_tag": "ABX9TyNfIvVDkGQVR6R9Rwx1d6og"
    },
    "kernelspec": {
      "name": "python3",
      "display_name": "Python 3"
    },
    "language_info": {
      "name": "python"
    }
  },
  "cells": [
    {
      "cell_type": "code",
      "metadata": {
        "colab": {
          "base_uri": "https://localhost:8080/"
        },
        "id": "FDCx9PLa3qi0",
        "outputId": "9b288e98-2c3b-49dc-d88a-e01987306bb7"
      },
      "source": [
        "#14\n",
        "word1 = list(input())\n",
        "word2 = list(input())\n",
        "lcs = [[0]*(len(word2)+1) for _ in range(len(word1)+1)]\n",
        "\n",
        "for i in range(len(word1)):\n",
        "  for j in range(len(word2)):\n",
        "    if word1[i] == word2[j]:\n",
        "      lcs[i+1][j+1] = lcs[i][j] + 1\n",
        "    else:\n",
        "      lcs[i+1][j+1] = max(lcs[i][j+1], lcs[i+1][j])\n",
        "\n",
        "print(lcs[len(word1)][len(word2)])"
      ],
      "execution_count": 2,
      "outputs": [
        {
          "output_type": "stream",
          "text": [
            "ACAYKP\n",
            "CAPCAK\n",
            "4\n"
          ],
          "name": "stdout"
        }
      ]
    },
    {
      "cell_type": "code",
      "metadata": {
        "colab": {
          "base_uri": "https://localhost:8080/"
        },
        "id": "MK9EX9OJ62T3",
        "outputId": "0a63ef19-f89d-4bda-b25a-88e4b9e71968"
      },
      "source": [
        "#15\n",
        "n = int(input())\n",
        "array = list(map(int, input().split()))\n",
        "sum = [array[0]]\n",
        "\n",
        "for i in range(n-1):\n",
        "  sum.append(max(sum[i] + array[i+1], array[i+1]))\n",
        "\n",
        "print(max(sum))"
      ],
      "execution_count": 5,
      "outputs": [
        {
          "output_type": "stream",
          "text": [
            "10\n",
            "10 -4 3 1 5 6 -35 12 21 -1\n",
            "33\n"
          ],
          "name": "stdout"
        }
      ]
    }
  ]
}