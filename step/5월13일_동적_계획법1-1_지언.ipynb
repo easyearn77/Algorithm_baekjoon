{
  "nbformat": 4,
  "nbformat_minor": 0,
  "metadata": {
    "colab": {
      "name": "baekjoon_동적 계획법1_1.ipynb",
      "provenance": [],
      "authorship_tag": "ABX9TyMzOTpkOPIjKDQA0yKzrVgq",
      "include_colab_link": true
    },
    "kernelspec": {
      "name": "python3",
      "display_name": "Python 3"
    },
    "language_info": {
      "name": "python"
    }
  },
  "cells": [
    {
      "cell_type": "markdown",
      "metadata": {
        "id": "view-in-github",
        "colab_type": "text"
      },
      "source": [
        "<a href=\"https://colab.research.google.com/github/easyearn77/Algorithm_baekjoon/blob/main/step/5%EC%9B%9413%EC%9D%BC_%EB%8F%99%EC%A0%81_%EA%B3%84%ED%9A%8D%EB%B2%951-1_%EC%A7%80%EC%96%B8.ipynb\" target=\"_parent\"><img src=\"https://colab.research.google.com/assets/colab-badge.svg\" alt=\"Open In Colab\"/></a>"
      ]
    },
    {
      "cell_type": "markdown",
      "metadata": {
        "id": "sR8fsFyg4DWa"
      },
      "source": [
        "동적계획법1 링크: https://www.acmicpc.net/step/16"
      ]
    },
    {
      "cell_type": "code",
      "metadata": {
        "colab": {
          "base_uri": "https://localhost:8080/"
        },
        "id": "mBwNol9_3-NZ",
        "outputId": "16e23f62-649c-4ed2-f6bd-ffcb64e98a46"
      },
      "source": [
        "#1\n",
        "def fibo_count(n):\n",
        "  zero=[1,0]\n",
        "  one=[0,1]\n",
        "  if n<=1:\n",
        "    return\n",
        "  for i in range(2,n+1):\n",
        "    zero.append(zero[i-1]+zero[i-2])\n",
        "    one.append(one[i-1]+one[i-2])\n",
        "  return zero,one\n",
        "\n",
        "zero,one=fibo_count(40)\n",
        "\n",
        "N=int(input())\n",
        "for _ in range(N):\n",
        "  m=int(input())\n",
        "  print(zero[m],one[m])\n",
        "\n"
      ],
      "execution_count": 12,
      "outputs": [
        {
          "output_type": "stream",
          "text": [
            "3\n",
            "0\n",
            "1 0\n",
            "1\n",
            "0 1\n",
            "3\n",
            "1 2\n"
          ],
          "name": "stdout"
        }
      ]
    },
    {
      "cell_type": "code",
      "metadata": {
        "colab": {
          "base_uri": "https://localhost:8080/"
        },
        "id": "1wJHJdHi7sWU",
        "outputId": "269cb74a-8ef0-4416-b186-1e1c8aa983f0"
      },
      "source": [
        "#2\n",
        "w_list=[[[0]*21 for _ in range(21)] for _ in range(21)]\n",
        "        \n",
        "def w(a,b,c):\n",
        "  global w_list\n",
        "  if a<=0 or b<=0 or c<=0:\n",
        "    return 1\n",
        "  if a>20 or b>20 or c>20:\n",
        "    return w(20,20,20)\n",
        "  \n",
        "  if w_list[a][b][c]:\n",
        "    return w_list[a][b][c]\n",
        "\n",
        "  if a<b and b<c:\n",
        "    w_list[a][b][c]=w(a,b,c-1)+w(a,b-1,c-1)-w(a,b-1,c)\n",
        "    return w_list[a][b][c]\n",
        "  else:\n",
        "    w_list[a][b][c]= w(a-1, b, c) + w(a-1, b-1, c) + w(a-1, b, c-1) - w(a-1, b-1, c-1)\n",
        "    return w_list[a][b][c]\n",
        "\n",
        "while True:\n",
        "  a,b,c=map(int,input().split())\n",
        "  if a==-1 and b==-1 and c==-1:\n",
        "    break\n",
        "  print(\"w(%d, %d, %d) = %d\"%(a,b,c,w(a,b,c)))\n"
      ],
      "execution_count": 21,
      "outputs": [
        {
          "output_type": "stream",
          "text": [
            "1 1 1\n",
            "w(1, 1, 1) = 2\n",
            "2 2 2\n",
            "w(2, 2, 2) = 4\n",
            "10 4 6\n",
            "w(10, 4, 6) = 523\n",
            "-1 -1 -1\n"
          ],
          "name": "stdout"
        }
      ]
    }
  ]
}