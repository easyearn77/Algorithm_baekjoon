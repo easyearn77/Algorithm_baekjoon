{
  "nbformat": 4,
  "nbformat_minor": 0,
  "metadata": {
    "colab": {
      "name": "5월27일_정수론및조합론(1)_여주.ipynb",
      "provenance": [],
      "authorship_tag": "ABX9TyO9pN9L6oCPt/lcOVbFS//Q"
    },
    "kernelspec": {
      "name": "python3",
      "display_name": "Python 3"
    },
    "language_info": {
      "name": "python"
    }
  },
  "cells": [
    {
      "cell_type": "code",
      "metadata": {
        "colab": {
          "base_uri": "https://localhost:8080/"
        },
        "id": "kq3d2wNDRly3",
        "outputId": "15783df7-a48c-45ec-85df-12806ed6610b"
      },
      "source": [
        "#1\n",
        "while(1):\n",
        "  a, b = map(int, input().split())\n",
        "  if a == 0 and b == 0:\n",
        "    break\n",
        "  elif b%a == 0:\n",
        "    print(\"factor\")\n",
        "  elif a%b == 0:\n",
        "    print(\"multiple\")\n",
        "  else:\n",
        "    print(\"neither\")"
      ],
      "execution_count": 2,
      "outputs": [
        {
          "output_type": "stream",
          "text": [
            "8 16\n",
            "factor\n",
            "32 4\n",
            "multiple\n",
            "17 5\n",
            "neither\n",
            "0 0\n"
          ],
          "name": "stdout"
        }
      ]
    },
    {
      "cell_type": "code",
      "metadata": {
        "colab": {
          "base_uri": "https://localhost:8080/"
        },
        "id": "4FltEQqpTzKv",
        "outputId": "23d09a20-4023-4e89-e6a6-bc459902722f"
      },
      "source": [
        "#2\n",
        "n = int(input())\n",
        "jy = list(map(int, input().split()))\n",
        "\n",
        "num = min(jy) * max(jy)\n",
        "\n",
        "print(num)"
      ],
      "execution_count": 11,
      "outputs": [
        {
          "output_type": "stream",
          "text": [
            "6\n",
            "20 10 8 5 4 2\n",
            "40\n"
          ],
          "name": "stdout"
        }
      ]
    },
    {
      "cell_type": "code",
      "metadata": {
        "colab": {
          "base_uri": "https://localhost:8080/"
        },
        "id": "99_zY7QuWFYR",
        "outputId": "b6fc6e69-139a-4d97-afa3-a19712dffe10"
      },
      "source": [
        "#3\n",
        "a, b = map(int, input().split())\n",
        "a1, b1 = a, b\n",
        "\n",
        "while(b!=0):\n",
        "  a = a % b\n",
        "  a, b = b, a\n",
        "\n",
        "print(a)\n",
        "print(a1*b1//a)"
      ],
      "execution_count": 14,
      "outputs": [
        {
          "output_type": "stream",
          "text": [
            "24 18\n",
            "6\n",
            "72\n"
          ],
          "name": "stdout"
        }
      ]
    }
  ]
}