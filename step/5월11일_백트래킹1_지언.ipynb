{
  "nbformat": 4,
  "nbformat_minor": 0,
  "metadata": {
    "colab": {
      "name": "백트래킹1.ipynb",
      "provenance": [],
      "authorship_tag": "ABX9TyPun6P3/NG08Rt+6b2+FGYp",
      "include_colab_link": true
    },
    "kernelspec": {
      "name": "python3",
      "display_name": "Python 3"
    },
    "language_info": {
      "name": "python"
    }
  },
  "cells": [
    {
      "cell_type": "markdown",
      "metadata": {
        "id": "view-in-github",
        "colab_type": "text"
      },
      "source": [
        "<a href=\"https://colab.research.google.com/github/easyearn77/Algorithm_baekjoon/blob/main/step/5%EC%9B%9411%EC%9D%BC_%EB%B0%B1%ED%8A%B8%EB%9E%98%ED%82%B91_%EC%A7%80%EC%96%B8.ipynb\" target=\"_parent\"><img src=\"https://colab.research.google.com/assets/colab-badge.svg\" alt=\"Open In Colab\"/></a>"
      ]
    },
    {
      "cell_type": "markdown",
      "metadata": {
        "id": "P_iecvM9PdkG"
      },
      "source": [
        "백트래킹 링크: https://www.acmicpc.net/step/34"
      ]
    },
    {
      "cell_type": "code",
      "metadata": {
        "colab": {
          "base_uri": "https://localhost:8080/"
        },
        "id": "oe8K-2plPYKr",
        "outputId": "2b5e2de0-924f-4377-e968-e005602337c0"
      },
      "source": [
        "#1\n",
        "N, M = map(int, input().split())\n",
        "\n",
        "num_list = [i + 1 for i in range(N)]\n",
        "check_list = [False] * N\n",
        "\n",
        "arr = []\n",
        "\n",
        "def dfs(cnt):\n",
        "    if(cnt == M):\n",
        "        print(*arr)\n",
        "        return\n",
        "    \n",
        "    for i in range(0, N):\n",
        "        if(check_list[i]):\n",
        "            continue\n",
        "\n",
        "        check_list[i] = True\n",
        "        arr.append(num_list[i])\n",
        "        dfs(cnt + 1)\n",
        "        arr.pop()\n",
        "        check_list[i] = False\n",
        "        \n",
        "dfs(0)"
      ],
      "execution_count": 10,
      "outputs": [
        {
          "output_type": "stream",
          "text": [
            "4 2\n",
            "1 2\n",
            "1 3\n",
            "1 4\n",
            "2 1\n",
            "2 3\n",
            "2 4\n",
            "3 1\n",
            "3 2\n",
            "3 4\n",
            "4 1\n",
            "4 2\n",
            "4 3\n"
          ],
          "name": "stdout"
        }
      ]
    },
    {
      "cell_type": "code",
      "metadata": {
        "colab": {
          "base_uri": "https://localhost:8080/"
        },
        "id": "ZXG_f8SlX_PU",
        "outputId": "0705ee67-e246-4849-8de6-2abc029d744d"
      },
      "source": [
        "#2\n",
        "N, M = map(int, input().split())\n",
        "\n",
        "num_list = [i + 1 for i in range(N)]\n",
        "check_list = [False] * N\n",
        "\n",
        "arr = []\n",
        "\n",
        "def dfs(cnt):\n",
        "    if(cnt == M):\n",
        "        print(*arr)\n",
        "        return\n",
        "    \n",
        "    for i in range(0, N):\n",
        "        if(check_list[i]):\n",
        "            continue\n",
        "\n",
        "        check_list[i] = True\n",
        "        arr.append(num_list[i])\n",
        "        dfs(cnt + 1)\n",
        "        arr.pop()\n",
        "        \n",
        "        for j in range(i+1,N):\n",
        "          check_list[j]=False\n",
        "        \n",
        "dfs(0)"
      ],
      "execution_count": 12,
      "outputs": [
        {
          "output_type": "stream",
          "text": [
            "4 2\n",
            "1 2\n",
            "1 3\n",
            "1 4\n",
            "2 3\n",
            "2 4\n",
            "3 4\n"
          ],
          "name": "stdout"
        }
      ]
    },
    {
      "cell_type": "code",
      "metadata": {
        "colab": {
          "base_uri": "https://localhost:8080/"
        },
        "id": "fXOMOM-JYRi9",
        "outputId": "7e4c28fd-7b17-451f-e266-529af6ee7dd3"
      },
      "source": [
        "#3\n",
        "N, M = map(int, input().split())\n",
        "\n",
        "num_list = [i + 1 for i in range(N)]\n",
        "\n",
        "arr = []\n",
        "\n",
        "def dfs(cnt):\n",
        "    if(cnt == M):\n",
        "        print(*arr)\n",
        "        return\n",
        "    \n",
        "    for i in range(0, N):\n",
        "        arr.append(num_list[i])\n",
        "        dfs(cnt + 1)\n",
        "        arr.pop()\n",
        "        \n",
        "dfs(0)"
      ],
      "execution_count": 11,
      "outputs": [
        {
          "output_type": "stream",
          "text": [
            "4 2\n",
            "1 1\n",
            "1 2\n",
            "1 3\n",
            "1 4\n",
            "2 1\n",
            "2 2\n",
            "2 3\n",
            "2 4\n",
            "3 1\n",
            "3 2\n",
            "3 3\n",
            "3 4\n",
            "4 1\n",
            "4 2\n",
            "4 3\n",
            "4 4\n"
          ],
          "name": "stdout"
        }
      ]
    },
    {
      "cell_type": "code",
      "metadata": {
        "colab": {
          "base_uri": "https://localhost:8080/"
        },
        "id": "cbT2s7XMY_xY",
        "outputId": "7920a37c-dc9d-4804-8619-0ac92dc19946"
      },
      "source": [
        "#4\n",
        "N, M = map(int, input().split())\n",
        "\n",
        "num_list = [i + 1 for i in range(N)]\n",
        "check_list = [False] * N\n",
        "\n",
        "arr = []\n",
        "\n",
        "def dfs(cnt):\n",
        "    if(cnt == M):\n",
        "        print(*arr)\n",
        "        return\n",
        "    \n",
        "    for i in range(0, N):\n",
        "        if(check_list[i]):\n",
        "            continue\n",
        "\n",
        "        arr.append(num_list[i])\n",
        "        dfs(cnt + 1)\n",
        "        arr.pop()\n",
        "        check_list[i] = True\n",
        "        \n",
        "        for j in range(i+1,N):\n",
        "          check_list[j]=False\n",
        "        \n",
        "dfs(0)"
      ],
      "execution_count": 14,
      "outputs": [
        {
          "output_type": "stream",
          "text": [
            "4 2\n",
            "1 1\n",
            "1 2\n",
            "1 3\n",
            "1 4\n",
            "2 2\n",
            "2 3\n",
            "2 4\n",
            "3 3\n",
            "3 4\n",
            "4 4\n"
          ],
          "name": "stdout"
        }
      ]
    },
    {
      "cell_type": "markdown",
      "metadata": {
        "id": "Pix_nT2FddzB"
      },
      "source": [
        "1,2번은 답지를 참고하였다. 하지만 이를 통해 백트레킹을 이해하고, 3,4번은 스스로 풀 수 있게 되었다."
      ]
    }
  ]
}