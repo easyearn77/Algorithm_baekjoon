{
  "nbformat": 4,
  "nbformat_minor": 0,
  "metadata": {
    "colab": {
      "name": "6월8일_스택(3)_여주.ipynb",
      "provenance": [],
      "authorship_tag": "ABX9TyOC5NLdFFor0i/2Z5toyMv5"
    },
    "kernelspec": {
      "name": "python3",
      "display_name": "Python 3"
    },
    "language_info": {
      "name": "python"
    }
  },
  "cells": [
    {
      "cell_type": "code",
      "metadata": {
        "colab": {
          "base_uri": "https://localhost:8080/"
        },
        "id": "R_OcgjxjGLVi",
        "outputId": "b58e00ec-7c30-49fe-d09a-c523755466fd"
      },
      "source": [
        "#3\n",
        "while(1):\n",
        "  n = input()\n",
        "  if n == '.':\n",#지언
        "    break\n",
        "  stack = []\n",
        "  temp = True\n",
        "  for i in n:\n",
        "    if i == '(' or i == '[':\n",
        "      stack.append(i)\n",
        "    elif i == ')':\n",
        "      if not stack or stack[-1] == '[':\n",
        "        temp = False\n",
        "        break\n",
        "      elif stack[-1] == '(':\n",
        "        stack.pop()\n",
        "    elif i == ']':\n",
        "      if not stack or stack[-1] == '(':\n",
        "        temp = False\n",
        "        break\n",
        "      elif stack[-1] == '[':\n",
        "        stack.pop()\n",
        "  if temp == True and not stack:\n",
        "    print('yes')\n",
        "  else:\n",
        "    print('no')"
      ],
      "execution_count": null,
      "outputs": [
        {
          "output_type": "stream",
          "text": [
            "So when I die (the [first] I will see in (heaven) is a score list). [ first in ] ( first out ).\n",
            "yes\n",
            "Half Moon tonight (At least it is better than no Moon at all].\n",
            "no\n",
            "A rope may form )( a trail in a maze.\n",
            "no\n",
            "Help( I[m being held prisoner in a fortune cookie factory)].\n",
            "no\n",
            "([ (([( [ ] ) ( ) (( ))] )) ]).\n",
            "yes\n",
            " .\n",
            "yes\n",
            ".\n"
          ],
          "name": "stdout"
        }
      ]
    },
    {
      "cell_type": "code",
      "metadata": {
        "id": "JTd--J7VJyLx",
        "colab": {
          "base_uri": "https://localhost:8080/"
        },
        "outputId": "c72aded2-04e2-4ebc-ec38-44549e18f297"
      },
      "source": [
        "#4\n",
        "n = int(input())\n",
        "stack = []\n",
        "result = []\n",
        "count = 0\n",
        "pos = True\n",
        "for _ in range(n):\n",
        "  num = int(input())\n",
        "\n",
        "  while count < num:\n",
        "    count += 1\n",
        "    stack.append(count)\n",
        "    result.append(\"+\")\n",
        "  \n",
        "  top = stack[-1]\n",
        "  if top == num:\n",
        "    stack.pop()\n",
        "    result.append('-')\n",
        "  else:\n",
        "    pos = False\n",
        "    break\n",
        "if pos == False:\n",
        "  print('NO')\n",
        "else:\n",
        "  for i in result:\n",
        "    print(i)"
      ],
      "execution_count": 4,
      "outputs": [
        {
          "output_type": "stream",
          "text": [
            "8\n",
            "4\n",
            "3\n",
            "6\n",
            "8\n",
            "7\n",
            "5\n",
            "2\n",
            "1\n",
            "+\n",
            "+\n",
            "+\n",
            "+\n",
            "-\n",
            "-\n",
            "+\n",
            "+\n",
            "-\n",
            "+\n",
            "+\n",
            "-\n",
            "-\n",
            "-\n",
            "-\n",
            "-\n"
          ],
          "name": "stdout"
        }
      ]
    }
  ]
}
