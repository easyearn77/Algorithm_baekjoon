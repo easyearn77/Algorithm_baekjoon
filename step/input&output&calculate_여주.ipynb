{
  "nbformat": 4,
  "nbformat_minor": 0,
  "metadata": {
    "colab": {
      "name": "input&output&calculate_여주.ipynb",
      "provenance": [],
      "authorship_tag": "ABX9TyOjw2raR7gknTWt5DpN3aM2",
      "include_colab_link": true
    },
    "kernelspec": {
      "name": "python3",
      "display_name": "Python 3"
    },
    "language_info": {
      "name": "python"
    }
  },
  "cells": [
    {
      "cell_type": "markdown",
      "metadata": {
        "id": "view-in-github",
        "colab_type": "text"
      },
      "source": [
        "<a href=\"https://colab.research.google.com/github/yeojoo1224/Algorithm_baekjoon/blob/main/step/input%26output%26calculate_%EC%97%AC%EC%A3%BC.ipynb\" target=\"_parent\"><img src=\"https://colab.research.google.com/assets/colab-badge.svg\" alt=\"Open In Colab\"/></a>"
      ]
    },
    {
      "cell_type": "code",
      "metadata": {
        "colab": {
          "base_uri": "https://localhost:8080/"
        },
        "id": "HztnJ-ApdgDd",
        "outputId": "cd5529ff-4bbe-41ad-9b5a-ba969dc8cdda"
      },
      "source": [
        "#1\n",
        "print(\"Hello World!\")"
      ],
      "execution_count": 1,
      "outputs": [
        {
          "output_type": "stream",
          "text": [
            "Hello World!\n"
          ],
          "name": "stdout"
        }
      ]
    },
    {
      "cell_type": "code",
      "metadata": {
        "colab": {
          "base_uri": "https://localhost:8080/"
        },
        "id": "fMpJpUZngoVl",
        "outputId": "30a16712-db87-4e27-cc72-d3d0264fcc6f"
      },
      "source": [
        "#2\n",
        "print(\"강한친구 대한육군\")\n",
        "print(\"강한친구 대한육군\")"
      ],
      "execution_count": 2,
      "outputs": [
        {
          "output_type": "stream",
          "text": [
            "강한친구 대한육군\n",
            "강한친구 대한육군\n"
          ],
          "name": "stdout"
        }
      ]
    },
    {
      "cell_type": "code",
      "metadata": {
        "colab": {
          "base_uri": "https://localhost:8080/"
        },
        "id": "VvRpB_Z8hSZ4",
        "outputId": "7230f613-8c9e-4510-bc7f-42c915e1d2c4"
      },
      "source": [
        "#3\n",
        "print(\"\\\\    /\\\\\")\n",
        "print(\" )  ( ')\")\n",
        "print(\"(  /  )\")\n",
        "print(\" \\\\(__)|\")"
      ],
      "execution_count": 3,
      "outputs": [
        {
          "output_type": "stream",
          "text": [
            "\\    /\\\n",
            " )  ( ')\n",
            "(  /  )\n",
            " \\(__)|\n"
          ],
          "name": "stdout"
        }
      ]
    },
    {
      "cell_type": "code",
      "metadata": {
        "colab": {
          "base_uri": "https://localhost:8080/"
        },
        "id": "g0N7j8cYhZ0l",
        "outputId": "cb860626-6e32-4b1d-bfe7-3e047fdca6f7"
      },
      "source": [
        "#4\n",
        "print('|\\_/|')\n",
        "print('|q p|   /}')\n",
        "print('( 0 )\"\"\"\\\\')\n",
        "print('|\"^\"`    |')\n",
        "print('||_/=\\\\\\\\__|')"
      ],
      "execution_count": 4,
      "outputs": [
        {
          "output_type": "stream",
          "text": [
            "|\\_/|\n",
            "|q p|   /}\n",
            "( 0 )\"\"\"\\\n",
            "|\"^\"`    |\n",
            "||_/=\\\\__|\n"
          ],
          "name": "stdout"
        }
      ]
    },
    {
      "cell_type": "code",
      "metadata": {
        "colab": {
          "base_uri": "https://localhost:8080/"
        },
        "id": "ygarsZm8kGFd",
        "outputId": "c033fcc4-262f-49c4-e3b2-ce72eacb20a5"
      },
      "source": [
        "#5\n",
        "a, b = input().split()\n",
        "print(int(a)+int(b))"
      ],
      "execution_count": 10,
      "outputs": [
        {
          "output_type": "stream",
          "text": [
            "3 6\n",
            "9\n"
          ],
          "name": "stdout"
        }
      ]
    },
    {
      "cell_type": "code",
      "metadata": {
        "colab": {
          "base_uri": "https://localhost:8080/"
        },
        "id": "GXfIfXXUk2dg",
        "outputId": "b080fc26-bb08-4f31-b7b6-70c6e43b1b7d"
      },
      "source": [
        "#6\n",
        "a, b = input().split()\n",
        "print(int(a)-int(b))"
      ],
      "execution_count": 12,
      "outputs": [
        {
          "output_type": "stream",
          "text": [
            "7 4\n",
            "3\n"
          ],
          "name": "stdout"
        }
      ]
    },
    {
      "cell_type": "code",
      "metadata": {
        "colab": {
          "base_uri": "https://localhost:8080/"
        },
        "id": "ZaHyQDE4laFO",
        "outputId": "4031709e-3e94-4839-f2fc-179a844f0b57"
      },
      "source": [
        "#7\n",
        "a, b = map(int, input().split())\n",
        "print(a*b)"
      ],
      "execution_count": 14,
      "outputs": [
        {
          "output_type": "stream",
          "text": [
            "5 3\n",
            "15\n"
          ],
          "name": "stdout"
        }
      ]
    },
    {
      "cell_type": "code",
      "metadata": {
        "colab": {
          "base_uri": "https://localhost:8080/"
        },
        "id": "SSYMApnEmj5K",
        "outputId": "3ea556e3-f738-47e8-f39a-1500fffac68f"
      },
      "source": [
        "#8\n",
        "a, b = map(int, input().split())\n",
        "print(float(a/b))"
      ],
      "execution_count": 15,
      "outputs": [
        {
          "output_type": "stream",
          "text": [
            "9 2\n",
            "4.5\n"
          ],
          "name": "stdout"
        }
      ]
    },
    {
      "cell_type": "code",
      "metadata": {
        "colab": {
          "base_uri": "https://localhost:8080/"
        },
        "id": "aehIW4Xnmvae",
        "outputId": "a5ed2d8d-08ad-476f-9ac7-bb31619a7b09"
      },
      "source": [
        "#9\n",
        "a, b = map(int, input().split())\n",
        "print(a+b)\n",
        "print(a-b)\n",
        "print(a*b)\n",
        "print(int(a/b))\n",
        "print(int(a%b))"
      ],
      "execution_count": 16,
      "outputs": [
        {
          "output_type": "stream",
          "text": [
            "5 2\n",
            "7\n",
            "3\n",
            "10\n",
            "2\n",
            "1\n"
          ],
          "name": "stdout"
        }
      ]
    },
    {
      "cell_type": "code",
      "metadata": {
        "colab": {
          "base_uri": "https://localhost:8080/"
        },
        "id": "JvqZv4GYnAHO",
        "outputId": "816ba0aa-da01-4e53-b7cf-6edfa3de62bd"
      },
      "source": [
        "#10\n",
        "A, B, C = map(int, input().split())\n",
        "print((A+B)%C, ((A%C)+(B%C))%C, (A*B)%C, ((A%C)*(B%C))%C, sep='\\n')"
      ],
      "execution_count": 18,
      "outputs": [
        {
          "output_type": "stream",
          "text": [
            "8 3 10\n",
            "1\n",
            "1\n",
            "4\n",
            "4\n"
          ],
          "name": "stdout"
        }
      ]
    },
    {
      "cell_type": "code",
      "metadata": {
        "colab": {
          "base_uri": "https://localhost:8080/"
        },
        "id": "u8q3otF4nP-q",
        "outputId": "779f2d28-9e43-4a42-f067-0bd1f5156ba2"
      },
      "source": [
        "#11\n",
        "a = int(input())\n",
        "b = input()\n",
        "list(b)\n",
        "\n",
        "print(a*int(b[2]), a*int(b[1]), a*int(b[0]), a*int(b), sep=' ')"
      ],
      "execution_count": 20,
      "outputs": [
        {
          "output_type": "stream",
          "text": [
            "8723\n",
            "1234\n",
            "26169 17446 8723 10764182\n"
          ],
          "name": "stdout"
        }
      ]
    }
  ]
}