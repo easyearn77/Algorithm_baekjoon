{
  "nbformat": 4,
  "nbformat_minor": 0,
  "metadata": {
    "colab": {
      "name": "baekjoon_백트래킹2.ipynb",
      "provenance": [],
      "collapsed_sections": [],
      "authorship_tag": "ABX9TyP9YdyUsm+hACfaRjUerzQj",
      "include_colab_link": true
    },
    "kernelspec": {
      "name": "python3",
      "display_name": "Python 3"
    },
    "language_info": {
      "name": "python"
    }
  },
  "cells": [
    {
      "cell_type": "markdown",
      "metadata": {
        "id": "view-in-github",
        "colab_type": "text"
      },
      "source": [
        "<a href=\"https://colab.research.google.com/github/easyearn77/Algorithm_baekjoon/blob/main/step/5%EC%9B%9412%EC%9D%BC_%EB%B0%B1%ED%8A%B8%EB%9E%98%ED%82%B92_%EC%A7%80%EC%96%B8.ipynb\" target=\"_parent\"><img src=\"https://colab.research.google.com/assets/colab-badge.svg\" alt=\"Open In Colab\"/></a>"
      ]
    },
    {
      "cell_type": "markdown",
      "metadata": {
        "id": "c5iA_qx2tp2N"
      },
      "source": [
        "백트래킹 링크: https://www.acmicpc.net/step/34"
      ]
    },
    {
      "cell_type": "code",
      "metadata": {
        "colab": {
          "base_uri": "https://localhost:8080/"
        },
        "id": "DGeG1OletoL4",
        "outputId": "b298ce49-a816-472d-c578-b06cc29b959d"
      },
      "source": [
        "#5\n",
        "n= int(input())\n",
        "ans=0\n",
        "a,b,c=[False]*n, [False]*(2*n-1), [False]*(2*n-1)\n",
        "\n",
        "def solve(i):\n",
        "  global ans\n",
        "  if i==n:\n",
        "    ans+=1\n",
        "    return\n",
        "  for j in range(n):\n",
        "    if not (a[j] or b[i+j] or c[i-j+n-1]):\n",
        "      a[j]=b[i+j]=c[i-j+n-1]=True\n",
        "      solve(i+1)\n",
        "      a[j]=b[i+j]=c[i-j+n-1]=False\n",
        "  \n",
        "solve(0)\n",
        "print(ans)"
      ],
      "execution_count": null,
      "outputs": [
        {
          "output_type": "stream",
          "text": [
            "8\n",
            "92\n"
          ],
          "name": "stdout"
        }
      ]
    },
    {
      "cell_type": "code",
      "metadata": {
        "id": "rJqYjEvTvfiB"
      },
      "source": [
        "#6\n",
        "import sys\n",
        "board=[list(map(int,input().split())) for _ in range(9)]\n",
        "zeros=[(i,j) for i in range(9) for j in range(9) if board[i][j]==0]\n",
        "\n",
        "def sdoku(i):\n",
        "  if i == len(zeros):\n",
        "    for row in board:\n",
        "      print(*row)\n",
        "    sys.exit(0)\n",
        "  else:\n",
        "    x=zeros[i][0]\n",
        "    y=zeros[i][1]\n",
        "    bx=(x//3)*3\n",
        "    by=(y//3)*3\n",
        "\n",
        "    num_list=[False]+[True for _ in range(9)]\n",
        "\n",
        "    for j in range(9):\n",
        "      if board[x][j]:\n",
        "        num_list[board[x][j]]=False\n",
        "      if board[j][y]:\n",
        "        num_list[board[j][y]]=False\n",
        "    \n",
        "    for j in range(bx,bx+3):\n",
        "      for k in range(by,by+3):\n",
        "        num=board[j][k]\n",
        "        if(num):\n",
        "          num_list[num]=False\n",
        "    \n",
        "    candidate=[j for j, k in enumerate(num_list) if k]\n",
        "\n",
        "    for p in candidate:\n",
        "      board[x][y]= p\n",
        "      sdoku(i+1)\n",
        "      board[x][y]=0\n",
        "\n",
        "sdoku(0)"
      ],
      "execution_count": null,
      "outputs": []
    },
    {
      "cell_type": "code",
      "metadata": {
        "id": "J2alFS11QtPM"
      },
      "source": [
        "#7\n",
        "N = int(input())\n",
        "nums = list(map(int, input().split()))\n",
        "add, sub, mul, div = map(int, input().split())\n",
        "\n",
        "min_, max_ = 1e9, -1e9\n",
        "\n",
        "def dfs(i, res, add, sub, mul, div):\n",
        "    global max_, min_\n",
        "    if i == N:\n",
        "        max_ = max(res, max_)\n",
        "        min_ = min(res, min_)\n",
        "        return\n",
        "\n",
        "    else:\n",
        "        if add:\n",
        "            dfs(i+1, res+nums[i], add-1, sub, mul, div)\n",
        "        if sub:\n",
        "            dfs(i+1, res-nums[i], add, sub-1, mul, div)\n",
        "        if mul:\n",
        "            dfs(i+1, res*nums[i], add, sub, mul-1, div)\n",
        "        if div:\n",
        "            dfs(i+1, int(res/nums[i]), add, sub, mul, div-1)\n",
        "\n",
        "dfs(1, nums[0], add, sub, mul, div)\n",
        "print(max_)\n",
        "print(min_)"
      ],
      "execution_count": null,
      "outputs": []
    },
    {
      "cell_type": "code",
      "metadata": {
        "colab": {
          "base_uri": "https://localhost:8080/"
        },
        "id": "K3YBRDoleQAw",
        "outputId": "f4c55bdb-1853-4ae6-e9d9-c54152ddc02e"
      },
      "source": [
        "#8\n",
        "from itertools import combinations\n",
        "N=int(input())\n",
        "power=[]\n",
        "for _ in range(N):\n",
        "  power.append(list(map(int,input().split())))\n",
        "\n",
        "mem=[i for i in range(N)]\n",
        "min_=float('inf')\n",
        "\n",
        "def solve():\n",
        "  global min_\n",
        "  \n",
        "  for cand in combinations(mem, N//2):\n",
        "    start_mem=list(cand)\n",
        "    link_mem=list(set(mem)-set(cand))\n",
        "\n",
        "    start_comb=list(combinations(start_mem,2))\n",
        "    link_comb=list(combinations(link_mem,2))\n",
        "\n",
        "    start_sum=0\n",
        "    for x,y in start_comb:\n",
        "      start_sum+=(power[x][y]+power[y][x])\n",
        "    \n",
        "    link_sum=0\n",
        "    for x,y in link_comb:\n",
        "      link_sum+=(power[x][y]+power[y][x])\n",
        "\n",
        "    min_=min(min_,abs(start_sum-link_sum))\n",
        "\n",
        "solve()\n",
        "print(min_)"
      ],
      "execution_count": 4,
      "outputs": [
        {
          "output_type": "stream",
          "text": [
            "4\n",
            "0 1 2 3\n",
            "4 0 5 6\n",
            "7 1 0 2\n",
            "3 4 5 0\n",
            "0\n"
          ],
          "name": "stdout"
        }
      ]
    },
    {
      "cell_type": "code",
      "metadata": {
        "id": "FBzYZhhWia60"
      },
      "source": [
        ""
      ],
      "execution_count": null,
      "outputs": []
    }
  ]
}