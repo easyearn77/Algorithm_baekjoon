{
  "nbformat": 4,
  "nbformat_minor": 0,
  "metadata": {
    "colab": {
      "name": "5월18일_동적_계획법1-6_여주.ipynb",
      "provenance": [],
      "authorship_tag": "ABX9TyN9OQyQ6a74LgsWauxqsrzD"
    },
    "kernelspec": {
      "name": "python3",
      "display_name": "Python 3"
    },
    "language_info": {
      "name": "python"
    }
  },
  "cells": [
    {
      "cell_type": "code",
      "metadata": {
        "colab": {
          "base_uri": "https://localhost:8080/"
        },
        "id": "9vpfIq9lw60p",
        "outputId": "fe887c7c-6fc3-457c-a8aa-70534a4769ab"
      },
      "source": [
        "#11\n",
        "n = int(input())\n",
        "array = list(map(int, input().split()))\n",
        "stair = [1] * n\n",
        "\n",
        "for i in range(1, n):\n",
        "  for j in range(i):\n",
        "    if array[j] < array[i]:\n",
        "      stair[i] = max(stair[i], stair[j]+1)\n",
        "\n",
        "print(max(stair))"
      ],
      "execution_count": 16,
      "outputs": [
        {
          "output_type": "stream",
          "text": [
            "6\n",
            "10 20 10 30 20 50\n",
            "4\n"
          ],
          "name": "stdout"
        }
      ]
    },
    {
      "cell_type": "code",
      "metadata": {
        "colab": {
          "base_uri": "https://localhost:8080/"
        },
        "id": "BBprQGMLMTxw",
        "outputId": "12d1f3a1-cb4c-432a-ae5c-5e9947db370b"
      },
      "source": [
        "#12\n",
        "n = int(input())\n",
        "array = list(map(int, input().split()))\n",
        "bytonic_1 = [1] * n\n",
        "bytonic_2 = [1] * n\n",
        "\n",
        "for i in range(1, n):\n",
        "  for j in range(i):\n",
        "    if array[j] < array[i]:\n",
        "      bytonic_1[i] = max(bytonic_1[i], bytonic_1[j]+1)\n",
        "\n",
        "for i in range(n-2, -1, -1):\n",
        "  for j in range(n-1, i, -1):\n",
        "    if array[j] < array[i]:\n",
        "      bytonic_2[i] = max(bytonic_2[i], bytonic_2[j]+1)\n",
        "\n",
        "answer = 0\n",
        "for i in range(n):\n",
        "  key = bytonic_1[i] + bytonic_2[i] - 1\n",
        "  if answer < key:\n",
        "    answer = key\n",
        "\n",
        "print(answer)\n"
      ],
      "execution_count": 18,
      "outputs": [
        {
          "output_type": "stream",
          "text": [
            "10\n",
            "1 5 2 1 4 3 4 5 2 1\n",
            "7\n"
          ],
          "name": "stdout"
        }
      ]
    }
  ]
}