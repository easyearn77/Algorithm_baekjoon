{
  "nbformat": 4,
  "nbformat_minor": 0,
  "metadata": {
    "colab": {
      "name": "for_여주.ipynb",
      "provenance": [],
      "collapsed_sections": [],
      "authorship_tag": "ABX9TyMaQuxD66gMpb5nWZIy2hLk"
    },
    "kernelspec": {
      "name": "python3",
      "display_name": "Python 3"
    },
    "language_info": {
      "name": "python"
    }
  },
  "cells": [
    {
      "cell_type": "code",
      "metadata": {
        "colab": {
          "base_uri": "https://localhost:8080/"
        },
        "id": "RHMllyEuuVyl",
        "outputId": "6b5139ae-ff98-48c5-e001-ddc2d3a3ed3c"
      },
      "source": [
        "#1\n",
        "a = int(input())\n",
        "\n",
        "for i in range(1, 10):\n",
        "    print(a, '*', i, '=', a*i)"
      ],
      "execution_count": 3,
      "outputs": [
        {
          "output_type": "stream",
          "text": [
            "7\n",
            "7 * 1 = 7\n",
            "7 * 2 = 14\n",
            "7 * 3 = 21\n",
            "7 * 4 = 28\n",
            "7 * 5 = 35\n",
            "7 * 6 = 42\n",
            "7 * 7 = 49\n",
            "7 * 8 = 56\n",
            "7 * 9 = 63\n"
          ],
          "name": "stdout"
        }
      ]
    },
    {
      "cell_type": "code",
      "metadata": {
        "colab": {
          "base_uri": "https://localhost:8080/"
        },
        "id": "RrpW94flsVxW",
        "outputId": "1942a473-0dfd-4b44-d420-dc5ba263ab4c"
      },
      "source": [
        "#2\n",
        "n = int(input())\n",
        "for i in range(n):\n",
        "    a, b = map(int, input().split())\n",
        "    print(a+b)"
      ],
      "execution_count": 2,
      "outputs": [
        {
          "output_type": "stream",
          "text": [
            "4\n",
            "1 3\n",
            "4\n",
            "2 6\n",
            "8\n",
            "8 4\n",
            "12\n",
            "10 3\n",
            "13\n"
          ],
          "name": "stdout"
        }
      ]
    },
    {
      "cell_type": "code",
      "metadata": {
        "colab": {
          "base_uri": "https://localhost:8080/"
        },
        "id": "LPJfwHnwu52n",
        "outputId": "ab8eb660-1a2a-4af5-a3dc-4052cad59203"
      },
      "source": [
        "#3\n",
        "a = int(input())\n",
        "sum = 0\n",
        "\n",
        "for i in range(1, a+1):\n",
        "    sum += i\n",
        "    \n",
        "print(sum)"
      ],
      "execution_count": 5,
      "outputs": [
        {
          "output_type": "stream",
          "text": [
            "6\n",
            "21\n"
          ],
          "name": "stdout"
        }
      ]
    },
    {
      "cell_type": "code",
      "metadata": {
        "colab": {
          "base_uri": "https://localhost:8080/"
        },
        "id": "sG84egh9vAXx",
        "outputId": "0b6616cb-e8a0-42f5-88eb-06439b050952"
      },
      "source": [
        "#4\n",
        "n = int(input())\n",
        "for i in range(n):\n",
        "    a, b = map(int, input().split())\n",
        "    print(a+b)"
      ],
      "execution_count": 6,
      "outputs": [
        {
          "output_type": "stream",
          "text": [
            "5\n",
            "1 0\n",
            "1\n",
            "3 5\n",
            "8\n",
            "6 2\n",
            "8\n",
            "8 6\n",
            "14\n",
            "1 99\n",
            "100\n"
          ],
          "name": "stdout"
        }
      ]
    },
    {
      "cell_type": "code",
      "metadata": {
        "colab": {
          "base_uri": "https://localhost:8080/"
        },
        "id": "PFspfwpAvb39",
        "outputId": "4c15510a-0afa-48d3-b8b6-f17d07fd88f8"
      },
      "source": [
        "#5\n",
        "n = int(input())\n",
        "for i in range(n):\n",
        "    print(i+1)"
      ],
      "execution_count": 7,
      "outputs": [
        {
          "output_type": "stream",
          "text": [
            "7\n",
            "1\n",
            "2\n",
            "3\n",
            "4\n",
            "5\n",
            "6\n",
            "7\n"
          ],
          "name": "stdout"
        }
      ]
    },
    {
      "cell_type": "code",
      "metadata": {
        "colab": {
          "base_uri": "https://localhost:8080/"
        },
        "id": "g6cMpleqv8Id",
        "outputId": "eeaf6752-4125-45e4-af67-f1c5abbe7a26"
      },
      "source": [
        "#6\n",
        "n = int(input())\n",
        "for i in range(n, 0, -1):\n",
        "    print(i)"
      ],
      "execution_count": 8,
      "outputs": [
        {
          "output_type": "stream",
          "text": [
            "7\n",
            "7\n",
            "6\n",
            "5\n",
            "4\n",
            "3\n",
            "2\n",
            "1\n"
          ],
          "name": "stdout"
        }
      ]
    },
    {
      "cell_type": "code",
      "metadata": {
        "colab": {
          "base_uri": "https://localhost:8080/"
        },
        "id": "ofusqZ8Mwn07",
        "outputId": "98246557-7a8c-46f0-90b7-54e3b05136b6"
      },
      "source": [
        "#7\n",
        "n = int(input())\n",
        "for i in range(n):\n",
        "  a, b = map(int, input().split())\n",
        "  print(\"Case #%d: %d\"%(i+1, a+b))"
      ],
      "execution_count": 12,
      "outputs": [
        {
          "output_type": "stream",
          "text": [
            "5\n",
            "1 2\n",
            "Case #1: 3\n",
            "4 5\n",
            "Case #2: 9\n",
            "3 2\n",
            "Case #3: 5\n",
            "0 1\n",
            "Case #4: 1\n",
            "8 7\n",
            "Case #5: 15\n"
          ],
          "name": "stdout"
        }
      ]
    },
    {
      "cell_type": "code",
      "metadata": {
        "colab": {
          "base_uri": "https://localhost:8080/"
        },
        "id": "wucQPIQhxm3R",
        "outputId": "d85a5e47-eccc-465c-9c2c-cef82b42ac3b"
      },
      "source": [
        "#8\n",
        "n = int(input())\n",
        "for i in range(n):\n",
        "  a, b = map(int, input().split())\n",
        "  print(\"Case #%d: %d + %d = %d\"%(i+1, a, b, a+b))"
      ],
      "execution_count": 14,
      "outputs": [
        {
          "output_type": "stream",
          "text": [
            "4\n",
            "1 2\n",
            "Case #1: 1 + 2 = 3\n",
            "2 3\n",
            "Case #2: 2 + 3 = 5\n",
            "3 4\n",
            "Case #3: 3 + 4 = 7\n",
            "9 8\n",
            "Case #4: 9 + 8 = 17\n"
          ],
          "name": "stdout"
        }
      ]
    },
    {
      "cell_type": "code",
      "metadata": {
        "colab": {
          "base_uri": "https://localhost:8080/"
        },
        "id": "hJk7zFG-yYQt",
        "outputId": "9c6f9df9-8ae5-4992-90b5-7e60246e8e37"
      },
      "source": [
        "#9\n",
        "n = int(input())\n",
        "for i in range(n):\n",
        "  print(\"*\"*(i+1))"
      ],
      "execution_count": 21,
      "outputs": [
        {
          "output_type": "stream",
          "text": [
            "5\n",
            "*\n",
            "**\n",
            "***\n",
            "****\n",
            "*****\n"
          ],
          "name": "stdout"
        }
      ]
    },
    {
      "cell_type": "code",
      "metadata": {
        "colab": {
          "base_uri": "https://localhost:8080/"
        },
        "id": "FkJrdNOdydPe",
        "outputId": "4efb3a99-00b3-46c5-ff50-9ff562783e33"
      },
      "source": [
        "#10\n",
        "n = int(input())\n",
        "for i in range(1, n+1):\n",
        "  print(\" \"*(n-i)+\"*\"*i)"
      ],
      "execution_count": 22,
      "outputs": [
        {
          "output_type": "stream",
          "text": [
            "5\n",
            "    *\n",
            "   **\n",
            "  ***\n",
            " ****\n",
            "*****\n"
          ],
          "name": "stdout"
        }
      ]
    },
    {
      "cell_type": "code",
      "metadata": {
        "colab": {
          "base_uri": "https://localhost:8080/"
        },
        "id": "Rag8086gzxfm",
        "outputId": "08672603-397f-4edc-fcee-aab009245d0e"
      },
      "source": [
        "#11\n",
        "N, X = map(int, input().split())\n",
        "A = list(map(int, input().split()))\n",
        "\n",
        "for i in range(N):\n",
        "  if A[i]<X:\n",
        "    print(A[i], end=' ')"
      ],
      "execution_count": 26,
      "outputs": [
        {
          "output_type": "stream",
          "text": [
            "10 5\n",
            "1 10 4 9 2 3 8 5 7 6\n",
            "1 4 2 3 "
          ],
          "name": "stdout"
        }
      ]
    }
  ]
}