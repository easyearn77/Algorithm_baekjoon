{
  "nbformat": 4,
  "nbformat_minor": 0,
  "metadata": {
    "colab": {
      "name": "baekjoon_정수론및조합론_8.ipynb",
      "provenance": [],
      "authorship_tag": "ABX9TyPQV0pmkgAIUqj3pTClw/Gy",
      "include_colab_link": true
    },
    "kernelspec": {
      "name": "python3",
      "display_name": "Python 3"
    },
    "language_info": {
      "name": "python"
    }
  },
  "cells": [
    {
      "cell_type": "markdown",
      "metadata": {
        "id": "view-in-github",
        "colab_type": "text"
      },
      "source": [
        "<a href=\"https://colab.research.google.com/github/easyearn77/Algorithm_baekjoon/blob/main/step/6%EC%9B%943%EC%9D%BC_%EC%A0%95%EC%88%98%EB%A1%A0%EB%B0%8F%EC%A1%B0%ED%95%A9%EB%A1%A0(8)_%EC%A7%80%EC%96%B8.ipynb\" target=\"_parent\"><img src=\"https://colab.research.google.com/assets/colab-badge.svg\" alt=\"Open In Colab\"/></a>"
      ]
    },
    {
      "cell_type": "markdown",
      "metadata": {
        "id": "wo_02YuLP7Gj"
      },
      "source": [
        "정수론 및 조합론 단계 링크: https://www.acmicpc.net/step/18"
      ]
    },
    {
      "cell_type": "code",
      "metadata": {
        "colab": {
          "base_uri": "https://localhost:8080/"
        },
        "id": "Eudm5LzvP2VX",
        "outputId": "4cc04f87-1750-43a0-a948-e99c6081ba5e"
      },
      "source": [
        "#10\n",
        "from collections import Counter\n",
        "t=int(input())\n",
        "for _ in range(t):\n",
        "  n=int(input())\n",
        "  sorts=[]\n",
        "  for _ in range(n):\n",
        "    cloth,sort=input().split()\n",
        "    sorts.append(sort)\n",
        "  result=1\n",
        "  cnt=Counter(sorts)\n",
        "  for k in cnt:\n",
        "    result*=cnt[k]+1\n",
        "  print(result-1)"
      ],
      "execution_count": 19,
      "outputs": [
        {
          "output_type": "stream",
          "text": [
            "1\n",
            "3\n",
            "h head\n",
            "s eye\n",
            "t head\n",
            "Counter({'head': 2, 'eye': 1})\n",
            "5\n"
          ],
          "name": "stdout"
        }
      ]
    }
  ]
}