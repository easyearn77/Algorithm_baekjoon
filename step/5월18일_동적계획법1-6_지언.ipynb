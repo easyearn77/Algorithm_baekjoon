{
  "nbformat": 4,
  "nbformat_minor": 0,
  "metadata": {
    "colab": {
      "name": "baekjoon_동적계획법1-6.ipynb",
      "provenance": [],
      "authorship_tag": "ABX9TyNe3PO49jwKnt17DiobSm6e",
      "include_colab_link": true
    },
    "kernelspec": {
      "name": "python3",
      "display_name": "Python 3"
    },
    "language_info": {
      "name": "python"
    }
  },
  "cells": [
    {
      "cell_type": "markdown",
      "metadata": {
        "id": "view-in-github",
        "colab_type": "text"
      },
      "source": [
        "<a href=\"https://colab.research.google.com/github/easyearn77/Algorithm_baekjoon/blob/main/step/5%EC%9B%9418%EC%9D%BC_%EB%8F%99%EC%A0%81%EA%B3%84%ED%9A%8D%EB%B2%951-6_%EC%A7%80%EC%96%B8.ipynb\" target=\"_parent\"><img src=\"https://colab.research.google.com/assets/colab-badge.svg\" alt=\"Open In Colab\"/></a>"
      ]
    },
    {
      "cell_type": "markdown",
      "metadata": {
        "id": "Il8XpNzcxR08"
      },
      "source": [
        "동적계획법1 링크: https://www.acmicpc.net/step/16"
      ]
    },
    {
      "cell_type": "code",
      "metadata": {
        "colab": {
          "base_uri": "https://localhost:8080/"
        },
        "id": "_53tsO8JxLcX",
        "outputId": "8174ff54-47b7-4e9d-9c64-51ad7748c0c1"
      },
      "source": [
        "#11(메모리초과)\n",
        "n=int(input())\n",
        "arr=list(map(int,input().split()))\n",
        "ans=[[arr[0]]]\n",
        "for i in range(1,n):\n",
        "  for j in range(len(ans)):\n",
        "    if ans[j][-1]<arr[i]:\n",
        "      ans[j].append(arr[i])\n",
        "    else:\n",
        "      ans.append([arr[i]])\n",
        "l=[]\n",
        "for i in range(len(ans)):\n",
        "  l.append(len(ans[i]))\n",
        "print(max(l))"
      ],
      "execution_count": 7,
      "outputs": [
        {
          "output_type": "stream",
          "text": [
            "6\n",
            "10 20 10 30 20 50\n",
            "4\n"
          ],
          "name": "stdout"
        }
      ]
    },
    {
      "cell_type": "code",
      "metadata": {
        "colab": {
          "base_uri": "https://localhost:8080/"
        },
        "id": "t4ZaWu32LeWh",
        "outputId": "832e2e1f-2739-4ad3-9053-9bc47446ed02"
      },
      "source": [
        "#11\n",
        "n=int(input())\n",
        "arr=list(map(int,input().split()))\n",
        "ans=[1]*n\n",
        "for i in range(1,n):\n",
        "  for j in range(i):\n",
        "    if arr[i]>arr[j]:\n",
        "      ans[i]=max(ans[i],ans[j]+1)\n",
        "print(max(ans))"
      ],
      "execution_count": 8,
      "outputs": [
        {
          "output_type": "stream",
          "text": [
            "6\n",
            "10 20 10 30 20 50\n",
            "4\n"
          ],
          "name": "stdout"
        }
      ]
    },
    {
      "cell_type": "code",
      "metadata": {
        "colab": {
          "base_uri": "https://localhost:8080/"
        },
        "id": "9X8ZIUf-MrWt",
        "outputId": "296e788f-199a-4c10-e261-0d228f334be2"
      },
      "source": [
        "#12\n",
        "n=int(input())\n",
        "arr=list(map(int,input().split()))\n",
        "up= [1 for _ in range(n)]\n",
        "down= [1 for _ in range(n)]\n",
        "ans=[0 for _ in range(n)]\n",
        "\n",
        "#increase\n",
        "for i in range(n):\n",
        "  for j in range(i):\n",
        "    if arr[i]>arr[j]:\n",
        "      up[i]=max(up[i],up[j]+1)\n",
        "\n",
        "#decrease\n",
        "for i in range(n-1,-1,-1):\n",
        "  for j in range(n-1,i,-1):\n",
        "    if arr[i]>arr[j]:\n",
        "      down[i]=max(down[i],down[j]+1)\n",
        "\n",
        "for i in range(n):\n",
        "  ans[i]=up[i]+down[i]-1\n",
        "  \n",
        "print(max(ans))"
      ],
      "execution_count": 10,
      "outputs": [
        {
          "output_type": "stream",
          "text": [
            "10\n",
            "1 5 2 1 4 3 4 5 2 1\n",
            "7\n"
          ],
          "name": "stdout"
        }
      ]
    }
  ]
}