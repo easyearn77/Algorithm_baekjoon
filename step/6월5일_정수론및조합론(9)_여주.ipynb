{
  "nbformat": 4,
  "nbformat_minor": 0,
  "metadata": {
    "colab": {
      "name": "6월5일_정수론및조합론(9)_여주.ipynb",
      "provenance": [],
      "authorship_tag": "ABX9TyN+8iQVdJ+PlZAUr7sYjYep"
    },
    "kernelspec": {
      "name": "python3",
      "display_name": "Python 3"
    },
    "language_info": {
      "name": "python"
    }
  },
  "cells": [
    {
      "cell_type": "code",
      "metadata": {
        "colab": {
          "base_uri": "https://localhost:8080/"
        },
        "id": "jtSrqqqq6g8o",
        "outputId": "414afbbe-0e07-437d-ceae-8ad8c255879e"
      },
      "source": [
        "#12\n",
        "def num_two(n):\n",
        "  ans = 0\n",
        "  while n != 0:\n",
        "    n = n // 2\n",
        "    ans += n\n",
        "  return ans\n",
        "\n",
        "def num_five(n):\n",
        "  ans = 0\n",
        "  while n != 0:\n",
        "    n = n // 5\n",
        "    ans += n\n",
        "  return ans\n",
        "\n",
        "n, m = map(int, input().split())\n",
        "\n",
        "if m == 0:\n",
        "  print(0)\n",
        "else:\n",
        "  print(min(num_two(n)-num_two(m)-num_two(n-m), num_five(n)-num_five(m)-num_five(n-m)))"
      ],
      "execution_count": 2,
      "outputs": [
        {
          "output_type": "stream",
          "text": [
            "25 12\n",
            "2\n"
          ],
          "name": "stdout"
        }
      ]
    }
  ]
}