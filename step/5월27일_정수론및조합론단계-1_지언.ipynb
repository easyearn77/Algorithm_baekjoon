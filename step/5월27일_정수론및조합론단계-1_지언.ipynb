{
  "nbformat": 4,
  "nbformat_minor": 0,
  "metadata": {
    "colab": {
      "name": "baekjoon_정수론및조합론단계-1.ipynb",
      "provenance": [],
      "authorship_tag": "ABX9TyONURzKN7hCJPKjW9mn24F7",
      "include_colab_link": true
    },
    "kernelspec": {
      "name": "python3",
      "display_name": "Python 3"
    },
    "language_info": {
      "name": "python"
    }
  },
  "cells": [
    {
      "cell_type": "markdown",
      "metadata": {
        "id": "view-in-github",
        "colab_type": "text"
      },
      "source": [
        "<a href=\"https://colab.research.google.com/github/easyearn77/Algorithm_baekjoon/blob/main/step/5%EC%9B%9427%EC%9D%BC_%EC%A0%95%EC%88%98%EB%A1%A0%EB%B0%8F%EC%A1%B0%ED%95%A9%EB%A1%A0%EB%8B%A8%EA%B3%84-1_%EC%A7%80%EC%96%B8.ipynb\" target=\"_parent\"><img src=\"https://colab.research.google.com/assets/colab-badge.svg\" alt=\"Open In Colab\"/></a>"
      ]
    },
    {
      "cell_type": "markdown",
      "metadata": {
        "id": "K4KVEg_YlTSq"
      },
      "source": [
        "정수론 및 조합론 단계 링크: https://www.acmicpc.net/step/18"
      ]
    },
    {
      "cell_type": "code",
      "metadata": {
        "colab": {
          "base_uri": "https://localhost:8080/"
        },
        "id": "gTEGusSolJ55",
        "outputId": "80a9cba2-3821-4e86-cfdf-af1b56300f06"
      },
      "source": [
        "#1\n",
        "while True:\n",
        "  a,b=map(int,input().split())\n",
        "  if a==0 and b==0:\n",
        "    break\n",
        "  else:\n",
        "    if b%a==0:\n",
        "      print('factor')\n",
        "    elif a%b==0:\n",
        "      print('multiple')\n",
        "    else:\n",
        "      print('neither')"
      ],
      "execution_count": 1,
      "outputs": [
        {
          "output_type": "stream",
          "text": [
            "8 16\n",
            "factor\n",
            "32 4\n",
            "multiple\n",
            "17 5\n",
            "neither\n",
            "0 0\n"
          ],
          "name": "stdout"
        }
      ]
    },
    {
      "cell_type": "code",
      "metadata": {
        "colab": {
          "base_uri": "https://localhost:8080/"
        },
        "id": "S0GbRclCmfow",
        "outputId": "d68e91a2-cd59-4733-fc93-1fd68c9bd035"
      },
      "source": [
        "#2\n",
        "n=int(input())\n",
        "numbers=list(map(int,input().split()))\n",
        "numbers.sort()\n",
        "if n==1:\n",
        "  print(numbers[0]**2)\n",
        "else:\n",
        "  print(numbers[0]*numbers[-1])"
      ],
      "execution_count": 4,
      "outputs": [
        {
          "output_type": "stream",
          "text": [
            "1\n",
            "3\n",
            "9\n"
          ],
          "name": "stdout"
        }
      ]
    },
    {
      "cell_type": "code",
      "metadata": {
        "colab": {
          "base_uri": "https://localhost:8080/"
        },
        "id": "6PNSHWuowAOl",
        "outputId": "b99b9992-036f-4a3e-d341-abe00bd669f7"
      },
      "source": [
        "#3\n",
        "a,b=map(int,input().split())\n",
        "tmp= a if a<=b else b\n",
        "max=1\n",
        "for i in range(2,tmp+1):\n",
        "  if a%i==0 and b%i==0:\n",
        "    max=i\n",
        "print(max)\n",
        "print(max*(a//max)*(b//max))    "
      ],
      "execution_count": 14,
      "outputs": [
        {
          "output_type": "stream",
          "text": [
            "9 3\n",
            "3\n",
            "9\n"
          ],
          "name": "stdout"
        }
      ]
    }
  ]
}