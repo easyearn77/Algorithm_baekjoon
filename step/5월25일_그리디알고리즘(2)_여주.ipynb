{
  "nbformat": 4,
  "nbformat_minor": 0,
  "metadata": {
    "colab": {
      "name": "5월25일_그리디알고리즘(2)_여주.ipynb",
      "provenance": [],
      "authorship_tag": "ABX9TyOh2ZYMUczmmxm6HdBqzCLr"
    },
    "kernelspec": {
      "name": "python3",
      "display_name": "Python 3"
    },
    "language_info": {
      "name": "python"
    }
  },
  "cells": [
    {
      "cell_type": "code",
      "metadata": {
        "colab": {
          "base_uri": "https://localhost:8080/"
        },
        "id": "zWfKBpCFbbn-",
        "outputId": "1f23babd-fdcc-4531-b9b1-9c9deeaaef5c"
      },
      "source": [
        "#3\n",
        "n = int(input())\n",
        "time = list(map(int, input().split()))\n",
        "time.sort()\n",
        "\n",
        "for i in range(1, n):\n",
        "  time[i] += time[i-1]\n",
        "\n",
        "print(sum(time))"
      ],
      "execution_count": 15,
      "outputs": [
        {
          "output_type": "stream",
          "text": [
            "5\n",
            "3 1 4 3 2\n",
            "32\n"
          ],
          "name": "stdout"
        }
      ]
    },
    {
      "cell_type": "code",
      "metadata": {
        "colab": {
          "base_uri": "https://localhost:8080/"
        },
        "id": "TRimkZSFePkt",
        "outputId": "94e47853-6fad-4cea-ae00-ef0f1c5d2bb3"
      },
      "source": [
        "#4\n",
        "n = input().split('-')\n",
        "min_num = 0\n",
        "\n",
        "for i in n[0].split('+'):\n",
        "  min_num += int(i)\n",
        "\n",
        "for i in n[1:]:\n",
        "  for j in i.split('+'):\n",
        "    min_num -= int(j)\n",
        "\n",
        "print(min_num)"
      ],
      "execution_count": 19,
      "outputs": [
        {
          "output_type": "stream",
          "text": [
            "55-50+40\n",
            "-35\n"
          ],
          "name": "stdout"
        }
      ]
    }
  ]
}