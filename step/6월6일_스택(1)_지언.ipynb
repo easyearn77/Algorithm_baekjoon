{
  "nbformat": 4,
  "nbformat_minor": 0,
  "metadata": {
    "colab": {
      "name": "baekjoon_스택-1.ipynb",
      "provenance": [],
      "authorship_tag": "ABX9TyNZMjkTDtb7RUhXNqASZxah",
      "include_colab_link": true
    },
    "kernelspec": {
      "name": "python3",
      "display_name": "Python 3"
    },
    "language_info": {
      "name": "python"
    }
  },
  "cells": [
    {
      "cell_type": "markdown",
      "metadata": {
        "id": "view-in-github",
        "colab_type": "text"
      },
      "source": [
        "<a href=\"https://colab.research.google.com/github/easyearn77/Algorithm_baekjoon/blob/main/step/6%EC%9B%946%EC%9D%BC_%EC%8A%A4%ED%83%9D(1)_%EC%A7%80%EC%96%B8.ipynb\" target=\"_parent\"><img src=\"https://colab.research.google.com/assets/colab-badge.svg\" alt=\"Open In Colab\"/></a>"
      ]
    },
    {
      "cell_type": "markdown",
      "metadata": {
        "id": "MWFe6G9g6OQB"
      },
      "source": [
        "스택 링크: https://www.acmicpc.net/step/11"
      ]
    },
    {
      "cell_type": "code",
      "metadata": {
        "colab": {
          "base_uri": "https://localhost:8080/"
        },
        "id": "495kwcOa6Gy1",
        "outputId": "2834ec02-5842-4e81-fb41-744c660f84a1"
      },
      "source": [
        "#1\n",
        "import sys\n",
        "\n",
        "def push(n):\n",
        "  stack.append(n)\n",
        "\n",
        "def pop():\n",
        "  if not stack:\n",
        "    return -1\n",
        "  else:\n",
        "    return stack.pop()\n",
        "\n",
        "def size():\n",
        "  return len(stack)\n",
        "\n",
        "def empty():\n",
        "  return 0 if stack else 1\n",
        "\n",
        "def top():\n",
        "  return stack[-1] if stack else -1\n",
        "\n",
        "n=int(sys.stdin.readline())\n",
        "stack=[]\n",
        "\n",
        "for _ in range(n):\n",
        "  instruction=sys.stdin.readline().split()\n",
        "  inst=instruction[0]\n",
        "  if inst=='push':\n",
        "    push(instruction[1])\n",
        "  elif inst=='pop':\n",
        "    print(pop())\n",
        "  elif inst=='size':\n",
        "    print(size())\n",
        "  elif inst=='empty':\n",
        "    print(empty())\n",
        "  elif inst=='top':\n",
        "    print(top())\n",
        "\n"
      ],
      "execution_count": 5,
      "outputs": [
        {
          "output_type": "stream",
          "text": [
            "14\n",
            "push 1\n",
            "push 2\n",
            "top\n",
            "2\n",
            "size\n",
            "2\n",
            "empty\n",
            "0\n",
            "pop\n",
            "2\n",
            "pop\n",
            "1\n",
            "pop\n",
            "-1\n",
            "size\n",
            "0\n",
            "empty\n",
            "1\n",
            "pop\n",
            "-1\n",
            "push 3\n",
            "empty\n",
            "0\n",
            "top\n",
            "3\n"
          ],
          "name": "stdout"
        }
      ]
    },
    {
      "cell_type": "markdown",
      "metadata": {
        "id": "TZotY0rbB8zi"
      },
      "source": [
        "sys.stdin.readlie()을 사용해야 한다. ㅋㅋ 어이없네. 이제부터 input() 대신 저걸 쓰도록 해야 할 것 같다."
      ]
    }
  ]
}