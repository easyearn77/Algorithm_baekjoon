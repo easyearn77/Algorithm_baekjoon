{
  "nbformat": 4,
  "nbformat_minor": 0,
  "metadata": {
    "colab": {
      "name": "baekjoon_그리디알고리즘-2.ipynb",
      "provenance": [],
      "authorship_tag": "ABX9TyOQfZ9XzrayYwKXWSP6jO/z",
      "include_colab_link": true
    },
    "kernelspec": {
      "name": "python3",
      "display_name": "Python 3"
    },
    "language_info": {
      "name": "python"
    }
  },
  "cells": [
    {
      "cell_type": "markdown",
      "metadata": {
        "id": "view-in-github",
        "colab_type": "text"
      },
      "source": [
        "<a href=\"https://colab.research.google.com/github/easyearn77/Algorithm_baekjoon/blob/main/step/5%EC%9B%9425%EC%9D%BC_%EA%B7%B8%EB%A6%AC%EB%94%94%EC%95%8C%EA%B3%A0%EB%A6%AC%EC%A6%98-2_%EC%A7%80%EC%96%B8.ipynb\" target=\"_parent\"><img src=\"https://colab.research.google.com/assets/colab-badge.svg\" alt=\"Open In Colab\"/></a>"
      ]
    },
    {
      "cell_type": "markdown",
      "metadata": {
        "id": "wXSGSzlzxK1l"
      },
      "source": [
        "그리디 알고리즘 링크: https://www.acmicpc.net/step/33"
      ]
    },
    {
      "cell_type": "code",
      "metadata": {
        "colab": {
          "base_uri": "https://localhost:8080/"
        },
        "id": "J844sfoXrMFv",
        "outputId": "73a67625-b210-4ead-f792-42102c531a5a"
      },
      "source": [
        "#3\n",
        "n=int(input())\n",
        "time=list(map(int,input().split()))\n",
        "time.sort()\n",
        "min=0\n",
        "for i in range(n):\n",
        "  for j in range(i+1):\n",
        "    min+=time[j]\n",
        "print(min)"
      ],
      "execution_count": 2,
      "outputs": [
        {
          "output_type": "stream",
          "text": [
            "5\n",
            "3 1 4 3 2\n",
            "32\n"
          ],
          "name": "stdout"
        }
      ]
    },
    {
      "cell_type": "markdown",
      "metadata": {
        "id": "KNDBqdk76kJZ"
      },
      "source": [
        "#3번 리뷰\n",
        "우선 쉬웠다. 정렬해서 시간이 제일 적은순으로 걸리는 시간을 계산해서 더하면 되는 문제였다."
      ]
    },
    {
      "cell_type": "code",
      "metadata": {
        "colab": {
          "base_uri": "https://localhost:8080/"
        },
        "id": "X0YJQ4HFxJP5",
        "outputId": "586352e1-1ac8-4bd7-a008-dd39b5b53b0d"
      },
      "source": [
        "#4\n",
        "line=input().split('-')\n",
        "data=[]\n",
        "for i in line:\n",
        "  cnt=0\n",
        "  num=i.split('+')\n",
        "  for j in num:\n",
        "    cnt+=int(j)\n",
        "  data.append(cnt)\n",
        "n=data[0]\n",
        "for i in range(1,len(data)):\n",
        "  n-=data[i]\n",
        "print(n)\n"
      ],
      "execution_count": 9,
      "outputs": [
        {
          "output_type": "stream",
          "text": [
            "55-50+40\n",
            "-35\n"
          ],
          "name": "stdout"
        }
      ]
    },
    {
      "cell_type": "markdown",
      "metadata": {
        "id": "AjunOJks6r78"
      },
      "source": [
        "#4번리뷰:\n",
        " -문제를 제대로 읽지 않아, 괄호를 한번만 써야 하는줄 알고 문제를 너무 어렵게 이해했다. 하지만 답지를 보고, 괄호를 여러개 사용해도 되는 것을 다시 알게되었다. 그래서 마이너스를 기준으로 분할하여 가장 작은 값을 구하면 되는 쉬운문제였다.    \n",
        " -다음부턴 문제를 잘 봐야겠다리."
      ]
    }
  ]
}