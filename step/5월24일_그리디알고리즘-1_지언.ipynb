{
  "nbformat": 4,
  "nbformat_minor": 0,
  "metadata": {
    "colab": {
      "name": "baekjoon_그리디알고리즘_1.ipynb",
      "provenance": [],
      "authorship_tag": "ABX9TyMZS7gdUND6yN82WJbp0Su6",
      "include_colab_link": true
    },
    "kernelspec": {
      "name": "python3",
      "display_name": "Python 3"
    },
    "language_info": {
      "name": "python"
    }
  },
  "cells": [
    {
      "cell_type": "markdown",
      "metadata": {
        "id": "view-in-github",
        "colab_type": "text"
      },
      "source": [
        "<a href=\"https://colab.research.google.com/github/easyearn77/Algorithm_baekjoon/blob/main/step/5%EC%9B%9424%EC%9D%BC_%EA%B7%B8%EB%A6%AC%EB%94%94%EC%95%8C%EA%B3%A0%EB%A6%AC%EC%A6%98-1_%EC%A7%80%EC%96%B8.ipynb\" target=\"_parent\"><img src=\"https://colab.research.google.com/assets/colab-badge.svg\" alt=\"Open In Colab\"/></a>"
      ]
    },
    {
      "cell_type": "markdown",
      "metadata": {
        "id": "pKJ4wSM7rwSz"
      },
      "source": [
        "그리디 알고리즘 링크: https://www.acmicpc.net/step/33"
      ]
    },
    {
      "cell_type": "code",
      "metadata": {
        "colab": {
          "base_uri": "https://localhost:8080/"
        },
        "id": "LLoohohskW1q",
        "outputId": "b2817492-c083-4914-e033-d52ce0c1d5e7"
      },
      "source": [
        "#1\n",
        "n,k=map(int,input().split())\n",
        "coins=[]\n",
        "for _ in range(n):\n",
        "  coins.append(int(input()))\n",
        "num=0\n",
        "for i in range(n-1,-1,-1):\n",
        "  if k>=coins[i]:\n",
        "    num+=k//coins[i]\n",
        "    k=k%coins[i]\n",
        "print(num)"
      ],
      "execution_count": 7,
      "outputs": [
        {
          "output_type": "stream",
          "text": [
            "10 4200\n",
            "1\n",
            "5\n",
            "10\n",
            "50\n",
            "100\n",
            "500\n",
            "1000\n",
            "5000\n",
            "10000\n",
            "50000\n",
            "200\n",
            "0\n",
            "6\n"
          ],
          "name": "stdout"
        }
      ]
    },
    {
      "cell_type": "markdown",
      "metadata": {
        "id": "ypmyV3P-roWC"
      },
      "source": [
        "#1번 리뷰\n",
        "댕쉬워.\n",
        "easy *easy*"
      ]
    },
    {
      "cell_type": "code",
      "metadata": {
        "colab": {
          "base_uri": "https://localhost:8080/"
        },
        "id": "0-B_yZhqsMEg",
        "outputId": "b1aff755-5bf4-4c56-f43f-f88e3a808c5b"
      },
      "source": [
        "#2\n",
        "n=int(input())\n",
        "schedule=[]\n",
        "for _ in range(n):\n",
        "  s,e=map(int,input().split())\n",
        "  schedule.append((s,e))\n",
        "schedule.sort(key=lambda x:(x[1],x[0]))\n",
        "\n",
        "ans=[0]\n",
        "for i in range(n):\n",
        "  if schedule[i][0]>=ans[-1]:\n",
        "    ans.append(schedule[i][1])\n",
        "print(ans)\n",
        "print(len(ans)-1)    "
      ],
      "execution_count": 16,
      "outputs": [
        {
          "output_type": "stream",
          "text": [
            "9\n",
            "1 3\n",
            "2 5\n",
            "4 7\n",
            "1 8\n",
            "5 9\n",
            "8 10\n",
            "9 11\n",
            "11 14\n",
            "13 16\n",
            "[0, 3, 7, 10, 14]\n",
            "4\n"
          ],
          "name": "stdout"
        }
      ]
    },
    {
      "cell_type": "markdown",
      "metadata": {
        "id": "aijrUCIbwnND"
      },
      "source": [
        "#2번 리뷰:\n",
        "빨리 끝나는 순(욕심) 으로, 안겹치게 선택함"
      ]
    }
  ]
}