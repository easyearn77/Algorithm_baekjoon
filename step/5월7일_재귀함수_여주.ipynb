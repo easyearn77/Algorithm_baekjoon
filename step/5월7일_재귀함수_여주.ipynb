{
  "nbformat": 4,
  "nbformat_minor": 0,
  "metadata": {
    "colab": {
      "name": "5월7일_재귀함수_여주.ipynb",
      "provenance": [],
      "authorship_tag": "ABX9TyMF213K2f4SaqlU87gmYsDb"
    },
    "kernelspec": {
      "name": "python3",
      "display_name": "Python 3"
    },
    "language_info": {
      "name": "python"
    }
  },
  "cells": [
    {
      "cell_type": "code",
      "metadata": {
        "colab": {
          "base_uri": "https://localhost:8080/"
        },
        "id": "5Gt-_Fni3waU",
        "outputId": "f90ff989-e67a-4973-8f51-2f700d090c57"
      },
      "source": [
        "#1\n",
        "def factorial(x):\n",
        "  if x == 0:\n",
        "    return 1\n",
        "  elif x == 1:\n",
        "    return 1\n",
        "  else:\n",
        "    return factorial(x-1)*x\n",
        "\n",
        "n = int(input())\n",
        "print(factorial(n))\n"
      ],
      "execution_count": 5,
      "outputs": [
        {
          "output_type": "stream",
          "text": [
            "10\n",
            "3628800\n"
          ],
          "name": "stdout"
        }
      ]
    },
    {
      "cell_type": "code",
      "metadata": {
        "colab": {
          "base_uri": "https://localhost:8080/"
        },
        "id": "_GuVOCT44bht",
        "outputId": "da27e15e-92fd-44df-bdfa-5db3b833af72"
      },
      "source": [
        "#2\n",
        "def fibo(x):\n",
        "  if x==0:\n",
        "    return 0\n",
        "  if x==1:\n",
        "    return 1\n",
        "  else:\n",
        "    return fibo(x-1)+fibo(x-2)\n",
        "\n",
        "n = int(input())\n",
        "print(fibo(n))"
      ],
      "execution_count": 10,
      "outputs": [
        {
          "output_type": "stream",
          "text": [
            "10\n",
            "55\n"
          ],
          "name": "stdout"
        }
      ]
    },
    {
      "cell_type": "code",
      "metadata": {
        "colab": {
          "base_uri": "https://localhost:8080/"
        },
        "id": "Ac4pKoKq5qFm",
        "outputId": "95cf13f0-0287-4854-db23-8ef88d9f1c71"
      },
      "source": [
        "#3\n",
        "def draw_stars(x):\n",
        "  array = []\n",
        "  for i in range(3 * len(x)):\n",
        "    if i//len(x) == 1:\n",
        "      array.append(x[i % len(x)] + ' '*len(x) + x[i % len(x)])\n",
        "    else:\n",
        "      array.append(x[i % len(x)] * 3)\n",
        "  return array\n",
        "\n",
        "star = ['***', '* *', '***']\n",
        "n = int(input())\n",
        "e = 0\n",
        "while n!=3:\n",
        "  n = int(n / 3)\n",
        "  e += 1\n",
        "\n",
        "for i in range(e):\n",
        "  star = draw_stars(star)\n",
        "for j in star:\n",
        "  print(j)\n",
        "\n"
      ],
      "execution_count": 28,
      "outputs": [
        {
          "output_type": "stream",
          "text": [
            "27\n",
            "***************************\n",
            "* ** ** ** ** ** ** ** ** *\n",
            "***************************\n",
            "***   ******   ******   ***\n",
            "* *   * ** *   * ** *   * *\n",
            "***   ******   ******   ***\n",
            "***************************\n",
            "* ** ** ** ** ** ** ** ** *\n",
            "***************************\n",
            "*********         *********\n",
            "* ** ** *         * ** ** *\n",
            "*********         *********\n",
            "***   ***         ***   ***\n",
            "* *   * *         * *   * *\n",
            "***   ***         ***   ***\n",
            "*********         *********\n",
            "* ** ** *         * ** ** *\n",
            "*********         *********\n",
            "***************************\n",
            "* ** ** ** ** ** ** ** ** *\n",
            "***************************\n",
            "***   ******   ******   ***\n",
            "* *   * ** *   * ** *   * *\n",
            "***   ******   ******   ***\n",
            "***************************\n",
            "* ** ** ** ** ** ** ** ** *\n",
            "***************************\n"
          ],
          "name": "stdout"
        }
      ]
    },
    {
      "cell_type": "code",
      "metadata": {
        "colab": {
          "base_uri": "https://localhost:8080/"
        },
        "id": "yH_alzCk-3Qi",
        "outputId": "6ca8f2c1-ace4-417e-bd31-e63231fff348"
      },
      "source": [
        "#4\n",
        "def hanoi(x, a, b, c):\n",
        "  if x == 1:\n",
        "    print(a, c)\n",
        "  else:\n",
        "    hanoi(x-1, a, c, b)\n",
        "    print(a, c)\n",
        "    hanoi(x-1, b, a, c)\n",
        "\n",
        "n = int(input())\n",
        "sum = 0\n",
        "for i in range(n):\n",
        "  sum = sum * 2 + 1\n",
        "\n",
        "print(sum)\n",
        "hanoi(n, 1, 2, 3)"
      ],
      "execution_count": 34,
      "outputs": [
        {
          "output_type": "stream",
          "text": [
            "3\n",
            "7\n",
            "1 3\n",
            "1 2\n",
            "3 2\n",
            "1 3\n",
            "2 1\n",
            "2 3\n",
            "1 3\n"
          ],
          "name": "stdout"
        }
      ]
    }
  ]
}