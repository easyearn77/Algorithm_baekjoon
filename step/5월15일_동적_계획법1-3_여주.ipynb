{
  "nbformat": 4,
  "nbformat_minor": 0,
  "metadata": {
    "colab": {
      "name": "5월15일_동적_계획법1-3_여주.ipynb",
      "provenance": [],
      "authorship_tag": "ABX9TyPKJGcldvOg5wYkwTCHX/0X"
    },
    "kernelspec": {
      "name": "python3",
      "display_name": "Python 3"
    },
    "language_info": {
      "name": "python"
    }
  },
  "cells": [
    {
      "cell_type": "code",
      "metadata": {
        "colab": {
          "base_uri": "https://localhost:8080/"
        },
        "id": "Wawxz5cmJXNb",
        "outputId": "14978c44-12b3-435b-8d67-2fb2b3434cf7"
      },
      "source": [
        "#5\n",
        "n = int(input())\n",
        "rgb = [[0 for _ in range(3)] for __ in range(n)]\n",
        "cost = [[0 for _ in range(3)] for __ in range(n)]\n",
        "\n",
        "for i in range(n):\n",
        "  rgb[i][0], rgb[i][1], rgb[i][2] = list(map(int, input().split()))\n",
        "\n",
        "cost[0] = rgb[0]\n",
        "\n",
        "for i in range(n):\n",
        "  cost[i][0] = min(cost[i-1][1], cost[i-1][2]) + rgb[i][0]\n",
        "  cost[i][1] = min(cost[i-1][0], cost[i-1][2]) + rgb[i][1]\n",
        "  cost[i][2] = min(cost[i-1][0], cost[i-1][1]) + rgb[i][2]\n",
        "\n",
        "min_cost = min(cost[n-1][0], cost[n-1][1], cost[n-1][2])\n",
        "\n",
        "print(min_cost)"
      ],
      "execution_count": 3,
      "outputs": [
        {
          "output_type": "stream",
          "text": [
            "3\n",
            "26 40 83\n",
            "49 60 57\n",
            "13 89 99\n",
            "96\n"
          ],
          "name": "stdout"
        }
      ]
    },
    {
      "cell_type": "code",
      "metadata": {
        "colab": {
          "base_uri": "https://localhost:8080/"
        },
        "id": "XJc_0cpyR9Pv",
        "outputId": "98e846e1-36b9-4c64-9c82-2b04c5ec980f"
      },
      "source": [
        "#6\n",
        "n = int(input())\n",
        "cost = []\n",
        "for _ in range(n):\n",
        "    cost.append(list(map(int, input().split())))\n",
        "\n",
        "for i in range(1, n):\n",
        "  for j in range(i+1):\n",
        "    if j==0:\n",
        "      cost[i][j] = cost[i][j] + cost[i-1][j]\n",
        "    elif i == j:\n",
        "      cost[i][j] = cost[i][j] + cost[i-1][j-1]\n",
        "    else:\n",
        "      cost[i][j] = max(cost[i][j]+cost[i-1][j], cost[i][j]+cost[i-1][j-1])\n",
        "print(max(cost[n-1]))"
      ],
      "execution_count": 8,
      "outputs": [
        {
          "output_type": "stream",
          "text": [
            "5\n",
            "7\n",
            "3 8\n",
            "8 1 0\n",
            "2 7 4 4\n",
            "4 5 2 6 5\n",
            "30\n"
          ],
          "name": "stdout"
        }
      ]
    }
  ]
}