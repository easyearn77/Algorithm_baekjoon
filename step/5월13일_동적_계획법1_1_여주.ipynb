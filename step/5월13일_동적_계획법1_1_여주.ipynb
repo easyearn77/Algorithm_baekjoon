{
  "nbformat": 4,
  "nbformat_minor": 0,
  "metadata": {
    "colab": {
      "name": "5월13일_동적_계획법1-1_여주.ipynb",
      "provenance": [],
      "authorship_tag": "ABX9TyOTz7DQYqaRUgITrkchwz7U"
    },
    "kernelspec": {
      "name": "python3",
      "display_name": "Python 3"
    },
    "language_info": {
      "name": "python"
    }
  },
  "cells": [
    {
      "cell_type": "code",
      "metadata": {
        "colab": {
          "base_uri": "https://localhost:8080/"
        },
        "id": "FrKba1tk0RtH",
        "outputId": "946b879b-689e-4c8f-9d22-429c9ae6b640"
      },
      "source": [
        "#1\n",
        "n = int(input())\n",
        "for i in range(n):\n",
        "  fib = int(input())\n",
        "  count_zero = 1\n",
        "  count_one = 0\n",
        "  temp = 0\n",
        "\n",
        "  for j in range(fib):\n",
        "    temp = count_one\n",
        "    count_one = count_one + count_zero\n",
        "    count_zero = temp\n",
        "  \n",
        "  print(count_zero, count_one)"
      ],
      "execution_count": 9,
      "outputs": [
        {
          "output_type": "stream",
          "text": [
            "3\n",
            "0\n",
            "1 0\n",
            "1\n",
            "0 1\n",
            "3\n",
            "1 2\n"
          ],
          "name": "stdout"
        }
      ]
    },
    {
      "cell_type": "code",
      "metadata": {
        "colab": {
          "base_uri": "https://localhost:8080/"
        },
        "id": "L4TQjXnU28ce",
        "outputId": "7cc753b9-5dc9-4487-e97e-a8510d8ab489"
      },
      "source": [
        "#2\n",
        "def w(a, b, c):\n",
        "  if a<=0 or b<=0 or c<=0:\n",
        "    return 1\n",
        "  elif a>20 or b>20 or c>20:\n",
        "    return w(20, 20, 20)\n",
        "  if k[a][b][c]:\n",
        "    return k[a][b][c]\n",
        "\n",
        "  if a<b<c :\n",
        "    k[a][b][c] = w(a,b,c-1) + w(a,b-1,c-1) - w(a,b-1,c)\n",
        "  else:\n",
        "    k[a][b][c] = w(a-1,b,c) + w(a-1,b-1,c) + w(a-1,b,c-1) - w(a-1,b-1,c-1)\n",
        "  \n",
        "  return k[a][b][c]\n",
        "\n",
        "k = [[[0 for i in range(21)] for j in range (21)] for l in range (21)]\n",
        "\n",
        "while 1:\n",
        "  a, b, c = map(int, input().split())\n",
        "  if a==-1 and b==-1 and c==-1:\n",
        "    break\n",
        "  print('w(%d, %d, %d) = %d' %(a, b, c, w(a, b, c)))\n",
        "\n",
        "\n"
      ],
      "execution_count": 11,
      "outputs": [
        {
          "output_type": "stream",
          "text": [
            "1 1 1\n",
            "w(1, 1, 1) = 2\n",
            "2 2 2 \n",
            "w(2, 2, 2) = 4\n",
            "10 4 6\n",
            "w(10, 4, 6) = 523\n",
            "50 50 50\n",
            "w(50, 50, 50) = 1048576\n",
            "-1 7 18\n",
            "w(-1, 7, 18) = 1\n",
            "-1 -1 -1\n"
          ],
          "name": "stdout"
        }
      ]
    }
  ]
}