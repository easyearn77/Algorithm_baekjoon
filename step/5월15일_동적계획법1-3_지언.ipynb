{
  "nbformat": 4,
  "nbformat_minor": 0,
  "metadata": {
    "colab": {
      "name": "baekjoon_동적계획법1-3.ipynb",
      "provenance": [],
      "authorship_tag": "ABX9TyNz79DyjjzMOTfoHpY/6LrZ",
      "include_colab_link": true
    },
    "kernelspec": {
      "name": "python3",
      "display_name": "Python 3"
    },
    "language_info": {
      "name": "python"
    }
  },
  "cells": [
    {
      "cell_type": "markdown",
      "metadata": {
        "id": "view-in-github",
        "colab_type": "text"
      },
      "source": [
        "<a href=\"https://colab.research.google.com/github/easyearn77/Algorithm_baekjoon/blob/main/step/5%EC%9B%9415%EC%9D%BC_%EB%8F%99%EC%A0%81%EA%B3%84%ED%9A%8D%EB%B2%951-3_%EC%A7%80%EC%96%B8.ipynb\" target=\"_parent\"><img src=\"https://colab.research.google.com/assets/colab-badge.svg\" alt=\"Open In Colab\"/></a>"
      ]
    },
    {
      "cell_type": "markdown",
      "metadata": {
        "id": "z-8eDEmwkgSf"
      },
      "source": [
        "동적 계획법1 링크: https://www.acmicpc.net/step/16"
      ]
    },
    {
      "cell_type": "code",
      "metadata": {
        "colab": {
          "base_uri": "https://localhost:8080/"
        },
        "id": "tXn3vlqhf9gT",
        "outputId": "74c9bd67-94e1-42d9-e12b-428ebd057645"
      },
      "source": [
        "#5\n",
        "N=int(input())\n",
        "cost=[]\n",
        "for i in range(N):\n",
        "  cost.append(list(map(int,input().split())))\n",
        "for i in range(1,N):\n",
        "  cost[i][0]=cost[i][0]+min(cost[i-1][1],cost[i-1][2])\n",
        "  cost[i][1]=cost[i][1]+min(cost[i-1][0],cost[i-1][2])\n",
        "  cost[i][2]=cost[i][2]+min(cost[i-1][0],cost[i-1][1])\n",
        "print(min(cost[N-1][0],cost[N-1][1],cost[N-1][2]))"
      ],
      "execution_count": 3,
      "outputs": [
        {
          "output_type": "stream",
          "text": [
            "3\n",
            "26 40 83\n",
            "49 60 57\n",
            "13 89 99\n",
            "96\n"
          ],
          "name": "stdout"
        }
      ]
    },
    {
      "cell_type": "code",
      "metadata": {
        "colab": {
          "base_uri": "https://localhost:8080/"
        },
        "id": "Fx3xS84gmOho",
        "outputId": "c7e4f8fc-18fd-42fd-ff09-7f1c724e09c8"
      },
      "source": [
        "#6\n",
        "N=int(input())\n",
        "point=[]\n",
        "for i in range(N):\n",
        "  point.append(list(map(int,input().split())))\n",
        "for i in range(N-2,-1,-1):\n",
        "  for j in range(0,len(point[i])):\n",
        "    point[i][j]=max(point[i+1][j],point[i+1][j+1])+point[i][j]\n",
        "print(point[0][0])\n"
      ],
      "execution_count": 6,
      "outputs": [
        {
          "output_type": "stream",
          "text": [
            "5\n",
            "7\n",
            "3 8\n",
            "8 1 0\n",
            "2 7 4 4\n",
            "4 5 2 6 5\n",
            "30\n"
          ],
          "name": "stdout"
        }
      ]
    }
  ]
}