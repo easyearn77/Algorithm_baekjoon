{
  "nbformat": 4,
  "nbformat_minor": 0,
  "metadata": {
    "colab": {
      "name": "5월9일_정렬1_여주.ipynb",
      "provenance": [],
      "authorship_tag": "ABX9TyNM4AIQ6HH5SMtySgtTYVjG"
    },
    "kernelspec": {
      "name": "python3",
      "display_name": "Python 3"
    },
    "language_info": {
      "name": "python"
    }
  },
  "cells": [
    {
      "cell_type": "code",
      "metadata": {
        "colab": {
          "base_uri": "https://localhost:8080/"
        },
        "id": "_udWdTQqjKiy",
        "outputId": "e84de36d-1810-46ae-a5b5-4b9c36092d70"
      },
      "source": [
        "#1\n",
        "n = int(input())\n",
        "a = []\n",
        "for i in range(n):\n",
        "  a.append(int(input()))\n",
        "\n",
        "a = sorted(a)\n",
        "for j in range(len(a)):\n",
        "  print(a[j])"
      ],
      "execution_count": 7,
      "outputs": [
        {
          "output_type": "stream",
          "text": [
            "5\n",
            "5\n",
            "2\n",
            "3\n",
            "4\n",
            "1\n",
            "1\n",
            "2\n",
            "3\n",
            "4\n",
            "5\n"
          ],
          "name": "stdout"
        }
      ]
    },
    {
      "cell_type": "code",
      "metadata": {
        "colab": {
          "base_uri": "https://localhost:8080/"
        },
        "id": "1IsmgVtwoe2g",
        "outputId": "589f0218-e74d-4c03-c9b4-4eace4e10b6d"
      },
      "source": [
        "#2\n",
        "n = int(input())\n",
        "a = []\n",
        "for i in range(n):\n",
        "  a.append(int(input()))\n",
        "\n",
        "a = sorted(a)\n",
        "for j in range(len(a)):\n",
        "  print(a[j])"
      ],
      "execution_count": 1,
      "outputs": [
        {
          "output_type": "stream",
          "text": [
            "5\n",
            "5\n",
            "2\n",
            "3\n",
            "4\n",
            "1\n",
            "1\n",
            "2\n",
            "3\n",
            "4\n",
            "5\n"
          ],
          "name": "stdout"
        }
      ]
    },
    {
      "cell_type": "code",
      "metadata": {
        "colab": {
          "base_uri": "https://localhost:8080/"
        },
        "id": "5qQrMyMm0s4H",
        "outputId": "2b214e89-20ef-4720-e2fe-fa21b0bb7a46"
      },
      "source": [
        "#3\n",
        "n = int(input())\n",
        "c = [0]*10000\n",
        "for i in range(n):\n",
        "  c[int(input())-1] += 1\n",
        "for i in range(10000):\n",
        "  [print(i+1) for j in range(c[i])]"
      ],
      "execution_count": 5,
      "outputs": [
        {
          "output_type": "stream",
          "text": [
            "10\n",
            "5\n",
            "2\n",
            "3\n",
            "1\n",
            "4\n",
            "2\n",
            "3\n",
            "5\n",
            "1\n",
            "7\n",
            "1\n",
            "1\n",
            "2\n",
            "2\n",
            "3\n",
            "3\n",
            "4\n",
            "5\n",
            "5\n",
            "7\n"
          ],
          "name": "stdout"
        }
      ]
    },
    {
      "cell_type": "code",
      "metadata": {
        "colab": {
          "base_uri": "https://localhost:8080/"
        },
        "id": "UCAngErFMXIb",
        "outputId": "c85e838e-3f7e-48f2-e927-5085950c048c"
      },
      "source": [
        "#4\n",
        "from collections import Counter\n",
        "import sys\n",
        "n = int(sys.stdin.readline())\n",
        "a = []\n",
        "def sansool(x):\n",
        "  avg = sum(a)/n\n",
        "  print(\"%.0f\" %avg)\n",
        "\n",
        "def joongang(x):\n",
        "  sorted_list = sorted(a)\n",
        "  center = len(a)//2\n",
        "  print(sorted_list[center])\n",
        "\n",
        "def choibin(x):\n",
        "  count = Counter(a)\n",
        "  order = count.most_common()\n",
        "  max = order[0][1]\n",
        "  modes = []\n",
        "  for i in order:\n",
        "    if i[1] == max:\n",
        "      modes.append(i[0])\n",
        "  sorted_modes = sorted(modes)\n",
        "  if len(sorted_modes) > 1:\n",
        "    print(sorted_modes[1])\n",
        "  else:\n",
        "    print(sorted_modes[0])\n",
        "  \n",
        "def bumui(x):\n",
        "  sorted_list = sorted(a)\n",
        "  dif = sorted_list[-1] - sorted_list[0]\n",
        "  print(dif)\n",
        "\n",
        "for i in range(n):\n",
        "  a.append(int(sys.stdin.readline()))\n",
        "\n",
        "sansool(a)\n",
        "joongang(a)\n",
        "choibin(a)\n",
        "bumui(a)"
      ],
      "execution_count": 17,
      "outputs": [
        {
          "output_type": "stream",
          "text": [
            "5\n",
            "1\n",
            "2\n",
            "3\n",
            "4\n",
            "5\n",
            "3\n",
            "3\n",
            "2\n",
            "4\n"
          ],
          "name": "stdout"
        }
      ]
    },
    {
      "cell_type": "code",
      "metadata": {
        "colab": {
          "base_uri": "https://localhost:8080/"
        },
        "id": "y1weFkCDQ47K",
        "outputId": "e2d9fea8-3f7e-4186-ebea-f1435a3a75bf"
      },
      "source": [
        "#5\n",
        "n = input()\n",
        "a = []\n",
        "for i in n:\n",
        "  a.append(i)\n",
        "\n",
        "a.sort(reverse=True)\n",
        "for i in a:\n",
        "  print(i, end='')"
      ],
      "execution_count": 25,
      "outputs": [
        {
          "output_type": "stream",
          "text": [
            "3214\n",
            "4321"
          ],
          "name": "stdout"
        }
      ]
    }
  ]
}