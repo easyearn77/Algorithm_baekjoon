{
  "nbformat": 4,
  "nbformat_minor": 0,
  "metadata": {
    "colab": {
      "name": "Untitled0.ipynb",
      "provenance": [],
      "authorship_tag": "ABX9TyPFt4vGIXScl+aN8vfFChJ6",
      "include_colab_link": true
    },
    "kernelspec": {
      "name": "python3",
      "display_name": "Python 3"
    },
    "language_info": {
      "name": "python"
    }
  },
  "cells": [
    {
      "cell_type": "markdown",
      "metadata": {
        "id": "view-in-github",
        "colab_type": "text"
      },
      "source": [
        "<a href=\"https://colab.research.google.com/github/easyearn77/Algorithm_baekjoon/blob/main/step/5%EC%9B%945%EC%9D%BC_%EA%B8%B0%EB%B3%B8%EC%88%98%ED%95%992_%EC%A7%80%EC%96%B8.ipynb\" target=\"_parent\"><img src=\"https://colab.research.google.com/assets/colab-badge.svg\" alt=\"Open In Colab\"/></a>"
      ]
    },
    {
      "cell_type": "markdown",
      "metadata": {
        "id": "iKRbXBi1s2hE"
      },
      "source": [
        "기본수학2 링크: https://www.acmicpc.net/step/10\n",
        "\n"
      ]
    },
    {
      "cell_type": "code",
      "metadata": {
        "colab": {
          "base_uri": "https://localhost:8080/"
        },
        "id": "I86Kkf_hsvMA",
        "outputId": "b7d4c993-da83-44ef-82e0-4c305b83d02b"
      },
      "source": [
        "#!\n",
        "n=int(input())\n",
        "num=list(map(int,input().split()))\n",
        "def pn(i):\n",
        "  if i==1:\n",
        "    return False\n",
        "  elif num==2:\n",
        "    return True\n",
        "  for j in range(2,i):\n",
        "    if i%j==0:\n",
        "      return False\n",
        "  return True\n",
        "cnt=0\n",
        "for i in num:\n",
        "  if pn(i):\n",
        "    cnt+=1\n",
        "print(cnt)"
      ],
      "execution_count": 1,
      "outputs": [
        {
          "output_type": "stream",
          "text": [
            "4\n",
            "1 3 5 7\n",
            "3\n"
          ],
          "name": "stdout"
        }
      ]
    },
    {
      "cell_type": "code",
      "metadata": {
        "colab": {
          "base_uri": "https://localhost:8080/"
        },
        "id": "ptIonIvuuX2B",
        "outputId": "b478ba89-92d4-4f0f-8a2b-206e806eafe1"
      },
      "source": [
        "#2\n",
        "def pn(i):\n",
        "  if i==1:\n",
        "    return False\n",
        "  elif i==2:\n",
        "    return True\n",
        "  for j in range(2,i):\n",
        "    if i%j==0:\n",
        "      return False\n",
        "  return True\n",
        "\n",
        "m=int(input())\n",
        "n=int(input())\n",
        "pn_list=[]\n",
        "sum=0\n",
        "for i in range(m,n+1):\n",
        "  if pn(i)==True:\n",
        "    pn_list.append(i)\n",
        "    sum+=i\n",
        "if sum==0:\n",
        "  print(-1)\n",
        "else:\n",
        "  print(sum)\n",
        "  print(min(pn_list))"
      ],
      "execution_count": 5,
      "outputs": [
        {
          "output_type": "stream",
          "text": [
            "64\n",
            "65\n",
            "-1\n"
          ],
          "name": "stdout"
        }
      ]
    },
    {
      "cell_type": "code",
      "metadata": {
        "colab": {
          "base_uri": "https://localhost:8080/"
        },
        "id": "IMQ_N_xu4NKa",
        "outputId": "a339404b-ff12-47f3-f503-c349d9d45438"
      },
      "source": [
        "#3\n",
        "n=int(input())\n",
        "i=2\n",
        "while i<=n:\n",
        "  if n%i==0:\n",
        "    print(i)\n",
        "    n=n//i\n",
        "  else:\n",
        "    i+=1"
      ],
      "execution_count": 9,
      "outputs": [
        {
          "output_type": "stream",
          "text": [
            "9991\n",
            "97\n",
            "103\n"
          ],
          "name": "stdout"
        }
      ]
    },
    {
      "cell_type": "code",
      "metadata": {
        "colab": {
          "base_uri": "https://localhost:8080/"
        },
        "id": "0g4jMHxc7AYt",
        "outputId": "7b0e7a77-b687-4cc2-9f0d-787ecdd68674"
      },
      "source": [
        "#4 소수구할 때, 제곱근까지만 비교하면 됨(몰랐음.개짜증남)\n",
        "import math\n",
        "\n",
        "def pn(i):\n",
        "  if i==1:\n",
        "    return False\n",
        "\n",
        "  for j in range(2,int(math.sqrt(i))+1):\n",
        "    if i%j==0:\n",
        "      return False\n",
        "  return True\n",
        "\n",
        "m,n=map(int,input().split())\n",
        "for i in range(m,n+1):\n",
        "  if pn(i):\n",
        "    print(i)"
      ],
      "execution_count": 12,
      "outputs": [
        {
          "output_type": "stream",
          "text": [
            "3 16\n",
            "3\n",
            "5\n",
            "7\n",
            "11\n",
            "13\n"
          ],
          "name": "stdout"
        }
      ]
    },
    {
      "cell_type": "code",
      "metadata": {
        "colab": {
          "base_uri": "https://localhost:8080/"
        },
        "id": "NMUEV_fa8EvJ",
        "outputId": "bd80c623-e125-4ae1-c43a-2d758cf27f26"
      },
      "source": [
        "#5 소수를 숫자 하나하나 구하는게 시간오래걸림> 소수리스트 만들어서 그 리스트에 포함되면, 카운트하기\n",
        "import math\n",
        "\n",
        "def pn(i):\n",
        "  if i==1:\n",
        "    return False\n",
        "  for j in range(2,int(math.sqrt(i))+1):\n",
        "    if i%j==0:\n",
        "      return False\n",
        "  return True\n",
        "\n",
        "li = list(range(2,246912))\n",
        "prime_li = []\n",
        "for i in li:\n",
        "    if pn(i):\n",
        "        prime_li.append(i)\n",
        "\n",
        "while True:\n",
        "  n=int(input())\n",
        "  if n==0:\n",
        "    break\n",
        "  cnt=0\n",
        "  for i in prime_li:\n",
        "    if n<i<=n*2:\n",
        "      cnt+=1\n",
        "    \n",
        "  print(cnt)"
      ],
      "execution_count": 25,
      "outputs": [
        {
          "output_type": "stream",
          "text": [
            "10\n",
            "4\n",
            "0\n"
          ],
          "name": "stdout"
        }
      ]
    },
    {
      "cell_type": "code",
      "metadata": {
        "colab": {
          "base_uri": "https://localhost:8080/"
        },
        "id": "QCT50-RT_dUu",
        "outputId": "32bd9a3b-4f38-4153-9cee-2b02c63a3a8f"
      },
      "source": [
        "#6 답지참고함\n",
        "import math\n",
        "\n",
        "def pn(i):\n",
        "  if i==1:\n",
        "    return False\n",
        "  for j in range(2,int(math.sqrt(i))+1):\n",
        "    if i%j==0:\n",
        "      return False\n",
        "  return True\n",
        "\n",
        "prime_list=[1 for i in range(10001)]\n",
        "for i in range(2,10001):\n",
        "  if pn(i):\n",
        "    prime_list[i]=0\n",
        "\n",
        "t=int(input())\n",
        "for i in range(t):\n",
        "  a=int(input())\n",
        "  b=a//2\n",
        "  for j in range(b,1,-1):\n",
        "    if prime_list[a-j]==0 and prime_list[j]==0:\n",
        "      print(j,a-j)\n",
        "      break"
      ],
      "execution_count": 51,
      "outputs": [
        {
          "output_type": "stream",
          "text": [
            "3\n",
            "8\n",
            "3 5\n",
            "10\n",
            "5 5\n",
            "16\n",
            "5 11\n"
          ],
          "name": "stdout"
        }
      ]
    },
    {
      "cell_type": "code",
      "metadata": {
        "colab": {
          "base_uri": "https://localhost:8080/"
        },
        "id": "6CLspXDZGKl4",
        "outputId": "55116692-2a7b-4726-f8cf-ac0b57a61106"
      },
      "source": [
        "#7\n",
        "x,y,w,h=map(int,input().split())\n",
        "list=[x,y,w-x,h-y]\n",
        "print(min(list))"
      ],
      "execution_count": 26,
      "outputs": [
        {
          "output_type": "stream",
          "text": [
            "6 2 10 3\n",
            "1\n"
          ],
          "name": "stdout"
        }
      ]
    },
    {
      "cell_type": "code",
      "metadata": {
        "colab": {
          "base_uri": "https://localhost:8080/"
        },
        "id": "jQmWymoKGllY",
        "outputId": "196c71b4-6668-41d2-a7f7-2da9910a6c29"
      },
      "source": [
        "#8\n",
        "xl=[];yl=[];\n",
        "for i in range(3):\n",
        "  x,y=map(int,input().split())\n",
        "  xl.append(x)\n",
        "  yl.append(y)\n",
        "for i in range(3):\n",
        "  if xl.count(xl[i])==1:\n",
        "    xa=xl[i]\n",
        "  if yl.count(yl[i])==1:\n",
        "    ya=yl[i]\n",
        "print(xa,ya)"
      ],
      "execution_count": 29,
      "outputs": [
        {
          "output_type": "stream",
          "text": [
            "30 20\n",
            "10 10\n",
            "10 20\n",
            "30 10\n"
          ],
          "name": "stdout"
        }
      ]
    },
    {
      "cell_type": "code",
      "metadata": {
        "colab": {
          "base_uri": "https://localhost:8080/"
        },
        "id": "QQnSBVzONozQ",
        "outputId": "06158829-273a-4eba-be2e-782f5f3fc47a"
      },
      "source": [
        "#9\n",
        "def tr(t):\n",
        "  max_i=t.index(max(t))\n",
        "  m=max(t)\n",
        "  del t[max_i]\n",
        "  if m**2==t[0]**2+t[1]**2:\n",
        "    return True\n",
        "\n",
        "while True:\n",
        "  a,b,c = map(int, input().split())\n",
        "  m=[a,b,c]\n",
        "  if m==[0,0,0]:\n",
        "    break\n",
        "  if tr(m):\n",
        "    print(\"right\")\n",
        "  else:\n",
        "    print(\"wrong\")"
      ],
      "execution_count": 41,
      "outputs": [
        {
          "output_type": "stream",
          "text": [
            "6 8 10\n",
            "right\n",
            "25 52 60\n",
            "wrong\n",
            "5 12 13\n",
            "right\n",
            "0 0 0\n"
          ],
          "name": "stdout"
        }
      ]
    },
    {
      "cell_type": "code",
      "metadata": {
        "colab": {
          "base_uri": "https://localhost:8080/"
        },
        "id": "AqGQjOuDThZT",
        "outputId": "92bafe62-8704-4a20-8c89-e7ec4bdd23a9"
      },
      "source": [
        "#10 택시기하학에서는 마름모가 원... \n",
        "import math\n",
        "r=int(input())\n",
        "print(math.pi*r**2)\n",
        "print(2*r**2)"
      ],
      "execution_count": 43,
      "outputs": [
        {
          "output_type": "stream",
          "text": [
            "21\n",
            "1385.4423602330987\n",
            "882\n"
          ],
          "name": "stdout"
        }
      ]
    },
    {
      "cell_type": "code",
      "metadata": {
        "colab": {
          "base_uri": "https://localhost:8080/"
        },
        "id": "W0033VYmVW8y",
        "outputId": "b0ef71ef-4a95-4ff0-a7c7-ae9998c1da6a"
      },
      "source": [
        "#11\n",
        "import math\n",
        "t=int(input())\n",
        "for i in range(t):\n",
        "  x1,y1,r1,x2,y2,r2=map(int,input().split())\n",
        "  dis=math.sqrt((x1-x2)**2+(y1-y2)**2)\n",
        "  r=[r1,r2,dis]\n",
        "  m=max(r);r.remove(m);\n",
        "  if dis==0 and r1==r2:\n",
        "    print(-1)\n",
        "  elif dis==r1+r2 or m==sum(r) :\n",
        "    print(1)\n",
        "  elif m>sum(r):\n",
        "    print(0)\n",
        "  else:\n",
        "    print(2)"
      ],
      "execution_count": 47,
      "outputs": [
        {
          "output_type": "stream",
          "text": [
            "1\n",
            "1 1 1 1 1 5\n",
            "0\n"
          ],
          "name": "stdout"
        }
      ]
    }
  ]
}