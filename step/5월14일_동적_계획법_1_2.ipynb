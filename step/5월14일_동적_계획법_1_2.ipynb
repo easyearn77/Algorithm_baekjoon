{
  "nbformat": 4,
  "nbformat_minor": 0,
  "metadata": {
    "colab": {
      "name": "5월14일_동적_계획법_1-2.ipynb",
      "provenance": [],
      "authorship_tag": "ABX9TyNfa17rtwX7SNsn0cGTafv9"
    },
    "kernelspec": {
      "name": "python3",
      "display_name": "Python 3"
    },
    "language_info": {
      "name": "python"
    }
  },
  "cells": [
    {
      "cell_type": "code",
      "metadata": {
        "colab": {
          "base_uri": "https://localhost:8080/"
        },
        "id": "AdjfnAve_52D",
        "outputId": "1f6e2e6c-c6d8-4193-f2ef-496e3306bed5"
      },
      "source": [
        "#3\n",
        "n = int(input())\n",
        "\n",
        "array = [0] * 1000001\n",
        "array[1] = 1\n",
        "array[2] = 2\n",
        "\n",
        "for i in range(3, n+1):\n",
        "  array[i] = (array[i-1]+array[i-2])%15746\n",
        "print(array[n])"
      ],
      "execution_count": 13,
      "outputs": [
        {
          "output_type": "stream",
          "text": [
            "4\n",
            "5\n"
          ],
          "name": "stdout"
        }
      ]
    },
    {
      "cell_type": "code",
      "metadata": {
        "colab": {
          "base_uri": "https://localhost:8080/"
        },
        "id": "xX_3AUpdEczw",
        "outputId": "101daa0c-bbc2-441c-e887-fd1e052814a5"
      },
      "source": [
        "#4\n",
        "n = int(input())\n",
        "array = [0] * 101\n",
        "array[1] = 1\n",
        "array[2] = 1\n",
        "array[3] = 1\n",
        "\n",
        "for i in range(n):\n",
        "  k = int(input()) \n",
        "  for j in range(4, k+1):\n",
        "    array[j] = array[j-2]+array[j-3]\n",
        "  print(array[k])"
      ],
      "execution_count": 33,
      "outputs": [
        {
          "output_type": "stream",
          "text": [
            "2\n",
            "6\n",
            "3\n",
            "12\n",
            "16\n"
          ],
          "name": "stdout"
        }
      ]
    }
  ]
}