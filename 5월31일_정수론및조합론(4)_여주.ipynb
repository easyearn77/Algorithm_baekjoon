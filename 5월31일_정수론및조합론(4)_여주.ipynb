{
  "nbformat": 4,
  "nbformat_minor": 0,
  "metadata": {
    "colab": {
      "name": "5월31일_정수론및조합론(4)_여주.ipynb",
      "provenance": [],
      "authorship_tag": "ABX9TyPO4OtOQ7ywUBaZfy1rd0Vi"
    },
    "kernelspec": {
      "name": "python3",
      "display_name": "Python 3"
    },
    "language_info": {
      "name": "python"
    }
  },
  "cells": [
    {
      "cell_type": "code",
      "metadata": {
        "colab": {
          "base_uri": "https://localhost:8080/"
        },
        "id": "4Y8q7BnIB71-",
        "outputId": "8808b484-3991-4df2-8748-7a2e644cef89"
      },
      "source": [
        "#7\n",
        "from math import factorial\n",
        "n, k = map(int, input().split())\n",
        "print(factorial(n)//(factorial(k)*factorial(n-k)))"
      ],
      "execution_count": 4,
      "outputs": [
        {
          "output_type": "stream",
          "text": [
            "5 2\n",
            "10\n"
          ],
          "name": "stdout"
        }
      ]
    }
  ]
}